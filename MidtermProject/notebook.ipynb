{
 "cells": [
  {
   "cell_type": "markdown",
   "id": "b03439c2",
   "metadata": {},
   "source": [
    "<H1>1. Problem Description</H1>"
   ]
  },
  {
   "cell_type": "markdown",
   "id": "5cd4c3ef",
   "metadata": {},
   "source": [
    "Dataset of Water Quality\n",
    "\n",
    "This dataset for beginners for practice\n",
    "\n",
    "https://www.kaggle.com/datasets/adityakadiwal/water-potability\n",
    "\n",
    "Access to safe drinking-water is essential to health, a basic human right and a component of effective policy for health protection. This is important as a health and development issue at a national, regional and local level. In some regions, it has been shown that investments in water supply and sanitation can yield a net economic benefit, since the reductions in adverse health effects and health care costs outweigh the costs of undertaking the interventions.\n"
   ]
  },
  {
   "cell_type": "code",
   "execution_count": 65,
   "id": "d0979d93",
   "metadata": {},
   "outputs": [],
   "source": [
    "import pandas as pd\n",
    "import numpy as np\n",
    "\n",
    "import matplotlib.pyplot as plt\n",
    "import seaborn as sns\n",
    "import math\n",
    "import os\n",
    "\n",
    "%matplotlib inline"
   ]
  },
  {
   "cell_type": "code",
   "execution_count": 66,
   "id": "4acc233e",
   "metadata": {},
   "outputs": [
    {
     "data": {
      "text/html": [
       "<div>\n",
       "<style scoped>\n",
       "    .dataframe tbody tr th:only-of-type {\n",
       "        vertical-align: middle;\n",
       "    }\n",
       "\n",
       "    .dataframe tbody tr th {\n",
       "        vertical-align: top;\n",
       "    }\n",
       "\n",
       "    .dataframe thead th {\n",
       "        text-align: right;\n",
       "    }\n",
       "</style>\n",
       "<table border=\"1\" class=\"dataframe\">\n",
       "  <thead>\n",
       "    <tr style=\"text-align: right;\">\n",
       "      <th></th>\n",
       "      <th>ph</th>\n",
       "      <th>Hardness</th>\n",
       "      <th>Solids</th>\n",
       "      <th>Chloramines</th>\n",
       "      <th>Sulfate</th>\n",
       "      <th>Conductivity</th>\n",
       "      <th>Organic_carbon</th>\n",
       "      <th>Trihalomethanes</th>\n",
       "      <th>Turbidity</th>\n",
       "      <th>Potability</th>\n",
       "    </tr>\n",
       "  </thead>\n",
       "  <tbody>\n",
       "    <tr>\n",
       "      <th>count</th>\n",
       "      <td>2785.000000</td>\n",
       "      <td>3276.000000</td>\n",
       "      <td>3276.000000</td>\n",
       "      <td>3276.000000</td>\n",
       "      <td>2495.000000</td>\n",
       "      <td>3276.000000</td>\n",
       "      <td>3276.000000</td>\n",
       "      <td>3114.000000</td>\n",
       "      <td>3276.000000</td>\n",
       "      <td>3276.000000</td>\n",
       "    </tr>\n",
       "    <tr>\n",
       "      <th>mean</th>\n",
       "      <td>7.080795</td>\n",
       "      <td>196.369496</td>\n",
       "      <td>22014.092526</td>\n",
       "      <td>7.122277</td>\n",
       "      <td>333.775777</td>\n",
       "      <td>426.205111</td>\n",
       "      <td>14.284970</td>\n",
       "      <td>66.396293</td>\n",
       "      <td>3.966786</td>\n",
       "      <td>0.390110</td>\n",
       "    </tr>\n",
       "    <tr>\n",
       "      <th>std</th>\n",
       "      <td>1.594320</td>\n",
       "      <td>32.879761</td>\n",
       "      <td>8768.570828</td>\n",
       "      <td>1.583085</td>\n",
       "      <td>41.416840</td>\n",
       "      <td>80.824064</td>\n",
       "      <td>3.308162</td>\n",
       "      <td>16.175008</td>\n",
       "      <td>0.780382</td>\n",
       "      <td>0.487849</td>\n",
       "    </tr>\n",
       "    <tr>\n",
       "      <th>min</th>\n",
       "      <td>0.000000</td>\n",
       "      <td>47.432000</td>\n",
       "      <td>320.942611</td>\n",
       "      <td>0.352000</td>\n",
       "      <td>129.000000</td>\n",
       "      <td>181.483754</td>\n",
       "      <td>2.200000</td>\n",
       "      <td>0.738000</td>\n",
       "      <td>1.450000</td>\n",
       "      <td>0.000000</td>\n",
       "    </tr>\n",
       "    <tr>\n",
       "      <th>25%</th>\n",
       "      <td>6.093092</td>\n",
       "      <td>176.850538</td>\n",
       "      <td>15666.690297</td>\n",
       "      <td>6.127421</td>\n",
       "      <td>307.699498</td>\n",
       "      <td>365.734414</td>\n",
       "      <td>12.065801</td>\n",
       "      <td>55.844536</td>\n",
       "      <td>3.439711</td>\n",
       "      <td>0.000000</td>\n",
       "    </tr>\n",
       "    <tr>\n",
       "      <th>50%</th>\n",
       "      <td>7.036752</td>\n",
       "      <td>196.967627</td>\n",
       "      <td>20927.833607</td>\n",
       "      <td>7.130299</td>\n",
       "      <td>333.073546</td>\n",
       "      <td>421.884968</td>\n",
       "      <td>14.218338</td>\n",
       "      <td>66.622485</td>\n",
       "      <td>3.955028</td>\n",
       "      <td>0.000000</td>\n",
       "    </tr>\n",
       "    <tr>\n",
       "      <th>75%</th>\n",
       "      <td>8.062066</td>\n",
       "      <td>216.667456</td>\n",
       "      <td>27332.762127</td>\n",
       "      <td>8.114887</td>\n",
       "      <td>359.950170</td>\n",
       "      <td>481.792304</td>\n",
       "      <td>16.557652</td>\n",
       "      <td>77.337473</td>\n",
       "      <td>4.500320</td>\n",
       "      <td>1.000000</td>\n",
       "    </tr>\n",
       "    <tr>\n",
       "      <th>max</th>\n",
       "      <td>14.000000</td>\n",
       "      <td>323.124000</td>\n",
       "      <td>61227.196008</td>\n",
       "      <td>13.127000</td>\n",
       "      <td>481.030642</td>\n",
       "      <td>753.342620</td>\n",
       "      <td>28.300000</td>\n",
       "      <td>124.000000</td>\n",
       "      <td>6.739000</td>\n",
       "      <td>1.000000</td>\n",
       "    </tr>\n",
       "  </tbody>\n",
       "</table>\n",
       "</div>"
      ],
      "text/plain": [
       "                ph     Hardness        Solids  Chloramines      Sulfate  \\\n",
       "count  2785.000000  3276.000000   3276.000000  3276.000000  2495.000000   \n",
       "mean      7.080795   196.369496  22014.092526     7.122277   333.775777   \n",
       "std       1.594320    32.879761   8768.570828     1.583085    41.416840   \n",
       "min       0.000000    47.432000    320.942611     0.352000   129.000000   \n",
       "25%       6.093092   176.850538  15666.690297     6.127421   307.699498   \n",
       "50%       7.036752   196.967627  20927.833607     7.130299   333.073546   \n",
       "75%       8.062066   216.667456  27332.762127     8.114887   359.950170   \n",
       "max      14.000000   323.124000  61227.196008    13.127000   481.030642   \n",
       "\n",
       "       Conductivity  Organic_carbon  Trihalomethanes    Turbidity   Potability  \n",
       "count   3276.000000     3276.000000      3114.000000  3276.000000  3276.000000  \n",
       "mean     426.205111       14.284970        66.396293     3.966786     0.390110  \n",
       "std       80.824064        3.308162        16.175008     0.780382     0.487849  \n",
       "min      181.483754        2.200000         0.738000     1.450000     0.000000  \n",
       "25%      365.734414       12.065801        55.844536     3.439711     0.000000  \n",
       "50%      421.884968       14.218338        66.622485     3.955028     0.000000  \n",
       "75%      481.792304       16.557652        77.337473     4.500320     1.000000  \n",
       "max      753.342620       28.300000       124.000000     6.739000     1.000000  "
      ]
     },
     "execution_count": 66,
     "metadata": {},
     "output_type": "execute_result"
    }
   ],
   "source": [
    "#print(os.getcwd())\n",
    "df = pd.read_csv('..\\data\\water_potability.csv')\n",
    "df.describe()"
   ]
  },
  {
   "cell_type": "markdown",
   "id": "f6e0008b",
   "metadata": {},
   "source": [
    "<h1>2. EDA</h1>"
   ]
  },
  {
   "cell_type": "markdown",
   "id": "47f5a4af",
   "metadata": {},
   "source": [
    "<b>Fields Type</b>"
   ]
  },
  {
   "cell_type": "code",
   "execution_count": 67,
   "id": "8a5f57df",
   "metadata": {},
   "outputs": [
    {
     "data": {
      "text/plain": [
       "ph                 float64\n",
       "Hardness           float64\n",
       "Solids             float64\n",
       "Chloramines        float64\n",
       "Sulfate            float64\n",
       "Conductivity       float64\n",
       "Organic_carbon     float64\n",
       "Trihalomethanes    float64\n",
       "Turbidity          float64\n",
       "Potability           int64\n",
       "dtype: object"
      ]
     },
     "execution_count": 67,
     "metadata": {},
     "output_type": "execute_result"
    }
   ],
   "source": [
    "df.dtypes"
   ]
  },
  {
   "cell_type": "markdown",
   "id": "b675fd48",
   "metadata": {},
   "source": [
    "<b>Check nulls, duplicates and Nuniques</b>"
   ]
  },
  {
   "cell_type": "code",
   "execution_count": 68,
   "id": "79f3f35e",
   "metadata": {},
   "outputs": [
    {
     "data": {
      "text/plain": [
       "ph                 491\n",
       "Hardness             0\n",
       "Solids               0\n",
       "Chloramines          0\n",
       "Sulfate            781\n",
       "Conductivity         0\n",
       "Organic_carbon       0\n",
       "Trihalomethanes    162\n",
       "Turbidity            0\n",
       "Potability           0\n",
       "dtype: int64"
      ]
     },
     "execution_count": 68,
     "metadata": {},
     "output_type": "execute_result"
    }
   ],
   "source": [
    "df.isnull().sum()"
   ]
  },
  {
   "cell_type": "markdown",
   "id": "d4e49fbc",
   "metadata": {},
   "source": [
    "The amount of missing data is 491+781+162, which is about 10% of the data. \n",
    "We'll delete the rows instead of manipulating them since it's not a significant amount."
   ]
  },
  {
   "cell_type": "code",
   "execution_count": 69,
   "id": "b46ecfbf",
   "metadata": {},
   "outputs": [
    {
     "data": {
      "text/plain": [
       "ph                 0\n",
       "Hardness           0\n",
       "Solids             0\n",
       "Chloramines        0\n",
       "Sulfate            0\n",
       "Conductivity       0\n",
       "Organic_carbon     0\n",
       "Trihalomethanes    0\n",
       "Turbidity          0\n",
       "Potability         0\n",
       "dtype: int64"
      ]
     },
     "execution_count": 69,
     "metadata": {},
     "output_type": "execute_result"
    }
   ],
   "source": [
    "df.dropna(axis=0,inplace=True)\n",
    "df.isnull().sum()"
   ]
  },
  {
   "cell_type": "code",
   "execution_count": 70,
   "id": "50de93e8",
   "metadata": {},
   "outputs": [
    {
     "data": {
      "text/plain": [
       "0"
      ]
     },
     "execution_count": 70,
     "metadata": {},
     "output_type": "execute_result"
    }
   ],
   "source": [
    "df.duplicated().sum()"
   ]
  },
  {
   "cell_type": "code",
   "execution_count": 71,
   "id": "be8bb6e0",
   "metadata": {},
   "outputs": [
    {
     "data": {
      "text/plain": [
       "ph                 2011\n",
       "Hardness           2011\n",
       "Solids             2011\n",
       "Chloramines        2011\n",
       "Sulfate            2011\n",
       "Conductivity       2011\n",
       "Organic_carbon     2011\n",
       "Trihalomethanes    2011\n",
       "Turbidity          2011\n",
       "Potability            2\n",
       "dtype: int64"
      ]
     },
     "execution_count": 71,
     "metadata": {},
     "output_type": "execute_result"
    }
   ],
   "source": [
    "df.nunique()"
   ]
  },
  {
   "cell_type": "markdown",
   "id": "15a0e60f",
   "metadata": {},
   "source": [
    "<b>Clean columns from spaces</b>"
   ]
  },
  {
   "cell_type": "code",
   "execution_count": 72,
   "id": "a7497c23",
   "metadata": {},
   "outputs": [
    {
     "name": "stdout",
     "output_type": "stream",
     "text": [
      "Index(['ph', 'hardness', 'solids', 'chloramines', 'sulfate', 'conductivity',\n",
      "       'organic_carbon', 'trihalomethanes', 'turbidity', 'potability'],\n",
      "      dtype='object')\n"
     ]
    }
   ],
   "source": [
    "df.columns = df.columns.str.lower().str.replace(' ', '_')\n",
    "categorical = df.select_dtypes(include=\"object\").columns.tolist()\n",
    "numerical = df.select_dtypes(exclude=\"object\").columns.tolist()\n",
    "\n",
    "print(df.columns)"
   ]
  },
  {
   "cell_type": "markdown",
   "id": "047443e0",
   "metadata": {},
   "source": [
    "<b>FEATURES CORRELATION (numerical)</b>"
   ]
  },
  {
   "cell_type": "code",
   "execution_count": 73,
   "id": "67f10b85",
   "metadata": {},
   "outputs": [
    {
     "data": {
      "text/plain": [
       "turbidity\n",
       "1.450000    0.0\n",
       "1.492207    1.0\n",
       "1.496101    0.0\n",
       "1.680554    0.0\n",
       "1.812529    1.0\n",
       "           ... \n",
       "6.307678    1.0\n",
       "6.357439    0.0\n",
       "6.389161    1.0\n",
       "6.494249    1.0\n",
       "6.494749    0.0\n",
       "Name: potability, Length: 2011, dtype: float64"
      ]
     },
     "execution_count": 73,
     "metadata": {},
     "output_type": "execute_result"
    }
   ],
   "source": [
    "df.groupby('turbidity').potability.mean()"
   ]
  },
  {
   "cell_type": "code",
   "execution_count": 74,
   "id": "caaaef13",
   "metadata": {},
   "outputs": [
    {
     "data": {
      "text/plain": [
       "Text(0.5, 1.0, 'Variable Correlation')"
      ]
     },
     "execution_count": 74,
     "metadata": {},
     "output_type": "execute_result"
    },
    {
     "data": {
      "image/png": "[encoded data removed]",
      "text/plain": [
       "<Figure size 640x480 with 2 Axes>"
      ]
     },
     "metadata": {},
     "output_type": "display_data"
    }
   ],
   "source": [
    "ax = sns.heatmap(df.corr(),annot=True, linewidths=.5, cmap=plt.cm.Blues)\n",
    "plt.title('Variable Correlation')"
   ]
  },
  {
   "cell_type": "markdown",
   "id": "25a3af6a",
   "metadata": {},
   "source": [
    "No strong correlation between 2 variables."
   ]
  },
  {
   "cell_type": "markdown",
   "id": "232dce20",
   "metadata": {},
   "source": [
    "<b>Price distribution</b>"
   ]
  },
  {
   "cell_type": "code",
   "execution_count": 75,
   "id": "2db9b9cb",
   "metadata": {},
   "outputs": [
    {
     "data": {
      "text/plain": [
       "<AxesSubplot:xlabel='potability', ylabel='Count'>"
      ]
     },
     "execution_count": 75,
     "metadata": {},
     "output_type": "execute_result"
    },
    {
     "data": {
      "image/png": "[encoded data removed]",
      "text/plain": [
       "<Figure size 640x480 with 1 Axes>"
      ]
     },
     "metadata": {},
     "output_type": "display_data"
    }
   ],
   "source": [
    "sns.histplot(df.potability, bins=10)"
   ]
  },
  {
   "cell_type": "code",
   "execution_count": null,
   "id": "bd320bc6",
   "metadata": {},
   "outputs": [],
   "source": []
  },
  {
   "cell_type": "markdown",
   "id": "48d1720a",
   "metadata": {},
   "source": [
    "<b>Mutual_info_score for categorical features</b>"
   ]
  },
  {
   "cell_type": "markdown",
   "id": "e9f0246e",
   "metadata": {},
   "source": [
    "<b>Make Price categorical</b>"
   ]
  },
  {
   "cell_type": "code",
   "execution_count": 76,
   "id": "1bdd97b2",
   "metadata": {},
   "outputs": [
    {
     "data": {
      "text/plain": [
       "(-0.001, 0.1]    1200\n",
       "(0.9, 1.0]        811\n",
       "(0.1, 0.2]          0\n",
       "(0.2, 0.3]          0\n",
       "(0.3, 0.4]          0\n",
       "(0.4, 0.5]          0\n",
       "(0.5, 0.6]          0\n",
       "(0.6, 0.7]          0\n",
       "(0.7, 0.8]          0\n",
       "(0.8, 0.9]          0\n",
       "Name: potability, dtype: int64"
      ]
     },
     "execution_count": 76,
     "metadata": {},
     "output_type": "execute_result"
    }
   ],
   "source": [
    "pd.cut(df.potability, bins=10).value_counts()"
   ]
  },
  {
   "cell_type": "code",
   "execution_count": null,
   "id": "acaa7f81",
   "metadata": {},
   "outputs": [],
   "source": []
  },
  {
   "cell_type": "code",
   "execution_count": 77,
   "id": "5b0d9734",
   "metadata": {},
   "outputs": [],
   "source": [
    "# from sklearn.metrics import mutual_info_score\n",
    "# cpotability = pd.cut(df.potability, bins=10)\n",
    "# def mutual_info_price_score(series):\n",
    "#     return mutual_info_score(cpotability, series)\n",
    "\n",
    "# mi = df[categorical].apply(mutual_info_price_score)\n",
    "# print(mi)\n",
    "# mi.sort_values(ascending=False)"
   ]
  },
  {
   "cell_type": "markdown",
   "id": "7069e912",
   "metadata": {},
   "source": [
    "<h1>3. Model Training</h1>"
   ]
  },
  {
   "cell_type": "code",
   "execution_count": 78,
   "id": "0e49b628",
   "metadata": {},
   "outputs": [],
   "source": [
    "from sklearn.model_selection import train_test_split\n",
    "from sklearn.feature_extraction import DictVectorizer\n",
    "from sklearn.metrics import mean_squared_error"
   ]
  },
  {
   "cell_type": "markdown",
   "id": "e95c6a1c",
   "metadata": {},
   "source": [
    "<b>Dataset subdivision (60-20-20)</b>"
   ]
  },
  {
   "cell_type": "code",
   "execution_count": 79,
   "id": "8ff44545",
   "metadata": {},
   "outputs": [],
   "source": [
    "df_full_train, df_test = train_test_split(df, test_size=0.2, random_state=42)\n",
    "df_train, df_val = train_test_split(df_full_train, test_size=0.25, random_state=42)"
   ]
  },
  {
   "cell_type": "code",
   "execution_count": 80,
   "id": "11be4fbd",
   "metadata": {},
   "outputs": [],
   "source": [
    "df_train = df_train.reset_index(drop=True)\n",
    "df_full_train = df_full_train.reset_index(drop=True)\n",
    "df_val = df_val.reset_index(drop=True)\n",
    "df_test = df_test.reset_index(drop=True)\n",
    "\n",
    "y_train = df_train.potability.values\n",
    "y_full_train = df_full_train.potability.values\n",
    "y_val = df_val.potability.values\n",
    "y_test = df_test.potability.values\n",
    "\n",
    "del df_train['potability']\n",
    "del df_val['potability']\n",
    "del df_full_train['potability']\n",
    "del df_test['potability']"
   ]
  },
  {
   "cell_type": "code",
   "execution_count": 81,
   "id": "8c15e9ac",
   "metadata": {},
   "outputs": [
    {
     "data": {
      "text/plain": [
       "'potability'"
      ]
     },
     "execution_count": 81,
     "metadata": {},
     "output_type": "execute_result"
    }
   ],
   "source": [
    "numerical.pop()"
   ]
  },
  {
   "cell_type": "code",
   "execution_count": 82,
   "id": "cbecabb2",
   "metadata": {},
   "outputs": [],
   "source": [
    "train_dicts = df_train[categorical + numerical].to_dict(orient='records')\n",
    "full_train_dicts = df_full_train[categorical + numerical].to_dict(orient='records')\n",
    "val_dicts = df_val[categorical + numerical].to_dict(orient='records')\n",
    "test_dicts = df_test[categorical + numerical].to_dict(orient='records')\n",
    "\n",
    "dv = DictVectorizer(sparse=False)\n",
    "\n",
    "X_train = dv.fit_transform(train_dicts)\n",
    "X_full_train = dv.transform(full_train_dicts)\n",
    "X_val = dv.transform(val_dicts)\n",
    "X_test = dv.transform(test_dicts)"
   ]
  },
  {
   "cell_type": "code",
   "execution_count": 83,
   "id": "15091df3",
   "metadata": {},
   "outputs": [
    {
     "name": "stderr",
     "output_type": "stream",
     "text": [
      "c:\\ProgramData\\Anaconda3\\envs\\ZoomMLCamp1\\lib\\site-packages\\sklearn\\utils\\deprecation.py:87: FutureWarning: Function get_feature_names is deprecated; get_feature_names is deprecated in 1.0 and will be removed in 1.2. Please use get_feature_names_out instead.\n",
      "  warnings.warn(msg, category=FutureWarning)\n"
     ]
    },
    {
     "data": {
      "text/plain": [
       "['chloramines',\n",
       " 'conductivity',\n",
       " 'hardness',\n",
       " 'organic_carbon',\n",
       " 'ph',\n",
       " 'solids',\n",
       " 'sulfate',\n",
       " 'trihalomethanes',\n",
       " 'turbidity']"
      ]
     },
     "execution_count": 83,
     "metadata": {},
     "output_type": "execute_result"
    }
   ],
   "source": [
    "dv.get_feature_names()"
   ]
  },
  {
   "cell_type": "markdown",
   "id": "86aacdb4",
   "metadata": {},
   "source": [
    "<b>Test multiple models and check RMSE best value</b>"
   ]
  },
  {
   "cell_type": "code",
   "execution_count": 84,
   "id": "6e1ecf9a",
   "metadata": {},
   "outputs": [],
   "source": [
    "model_RMSE_scores = {}"
   ]
  },
  {
   "cell_type": "markdown",
   "id": "fdcbf5e9",
   "metadata": {},
   "source": [
    "<b>LINEAR REGRESSION<b/>"
   ]
  },
  {
   "cell_type": "code",
   "execution_count": 85,
   "id": "a3abc136",
   "metadata": {},
   "outputs": [],
   "source": [
    "from sklearn.linear_model import LinearRegression"
   ]
  },
  {
   "cell_type": "code",
   "execution_count": 86,
   "id": "673532e0",
   "metadata": {},
   "outputs": [
    {
     "name": "stderr",
     "output_type": "stream",
     "text": [
      "c:\\ProgramData\\Anaconda3\\envs\\ZoomMLCamp1\\lib\\site-packages\\sklearn\\linear_model\\_base.py:141: FutureWarning: 'normalize' was deprecated in version 1.0 and will be removed in 1.2.\n",
      "If you wish to scale the data, use Pipeline with a StandardScaler in a preprocessing stage. To reproduce the previous behavior:\n",
      "\n",
      "from sklearn.pipeline import make_pipeline\n",
      "\n",
      "model = make_pipeline(StandardScaler(with_mean=False), LinearRegression())\n",
      "\n",
      "If you wish to pass a sample_weight parameter, you need to pass it as a fit parameter to each step of the pipeline as follows:\n",
      "\n",
      "kwargs = {s[0] + '__sample_weight': sample_weight for s in model.steps}\n",
      "model.fit(X, y, **kwargs)\n",
      "\n",
      "\n",
      "  warnings.warn(\n"
     ]
    },
    {
     "name": "stdout",
     "output_type": "stream",
     "text": [
      "RMSE: 0.49911645342170996\n"
     ]
    }
   ],
   "source": [
    "list_RMSE = []\n",
    "\n",
    "model = LinearRegression(normalize=True)\n",
    "model.fit(X_full_train, y_full_train)\n",
    "y_pred = model.predict(X_test)\n",
    "RMSE = mean_squared_error(y_test, y_pred, squared=False)\n",
    "print(f'RMSE: {RMSE}')"
   ]
  },
  {
   "cell_type": "code",
   "execution_count": 87,
   "id": "7c944207",
   "metadata": {},
   "outputs": [
    {
     "data": {
      "text/plain": [
       "dict_keys(['Linear Regression RMSE='])"
      ]
     },
     "execution_count": 87,
     "metadata": {},
     "output_type": "execute_result"
    }
   ],
   "source": [
    "key = 'Linear Regression RMSE='\n",
    "model_RMSE_scores[key] = RMSE\n",
    "model_RMSE_scores.keys()"
   ]
  },
  {
   "cell_type": "code",
   "execution_count": 88,
   "id": "e7e9e967",
   "metadata": {},
   "outputs": [
    {
     "name": "stderr",
     "output_type": "stream",
     "text": [
      "c:\\ProgramData\\Anaconda3\\envs\\ZoomMLCamp1\\lib\\site-packages\\sklearn\\linear_model\\_base.py:141: FutureWarning: 'normalize' was deprecated in version 1.0 and will be removed in 1.2.\n",
      "If you wish to scale the data, use Pipeline with a StandardScaler in a preprocessing stage. To reproduce the previous behavior:\n",
      "\n",
      "from sklearn.pipeline import make_pipeline\n",
      "\n",
      "model = make_pipeline(StandardScaler(with_mean=False), LinearRegression())\n",
      "\n",
      "If you wish to pass a sample_weight parameter, you need to pass it as a fit parameter to each step of the pipeline as follows:\n",
      "\n",
      "kwargs = {s[0] + '__sample_weight': sample_weight for s in model.steps}\n",
      "model.fit(X, y, **kwargs)\n",
      "\n",
      "\n",
      "  warnings.warn(\n"
     ]
    },
    {
     "data": {
      "text/html": [
       "<style>#sk-container-id-1 {color: black;background-color: white;}#sk-container-id-1 pre{padding: 0;}#sk-container-id-1 div.sk-toggleable {background-color: white;}#sk-container-id-1 label.sk-toggleable__label {cursor: pointer;display: block;width: 100%;margin-bottom: 0;padding: 0.3em;box-sizing: border-box;text-align: center;}#sk-container-id-1 label.sk-toggleable__label-arrow:before {content: \"▸\";float: left;margin-right: 0.25em;color: #696969;}#sk-container-id-1 label.sk-toggleable__label-arrow:hover:before {color: black;}#sk-container-id-1 div.sk-estimator:hover label.sk-toggleable__label-arrow:before {color: black;}#sk-container-id-1 div.sk-toggleable__content {max-height: 0;max-width: 0;overflow: hidden;text-align: left;background-color: #f0f8ff;}#sk-container-id-1 div.sk-toggleable__content pre {margin: 0.2em;color: black;border-radius: 0.25em;background-color: #f0f8ff;}#sk-container-id-1 input.sk-toggleable__control:checked~div.sk-toggleable__content {max-height: 200px;max-width: 100%;overflow: auto;}#sk-container-id-1 input.sk-toggleable__control:checked~label.sk-toggleable__label-arrow:before {content: \"▾\";}#sk-container-id-1 div.sk-estimator input.sk-toggleable__control:checked~label.sk-toggleable__label {background-color: #d4ebff;}#sk-container-id-1 div.sk-label input.sk-toggleable__control:checked~label.sk-toggleable__label {background-color: #d4ebff;}#sk-container-id-1 input.sk-hidden--visually {border: 0;clip: rect(1px 1px 1px 1px);clip: rect(1px, 1px, 1px, 1px);height: 1px;margin: -1px;overflow: hidden;padding: 0;position: absolute;width: 1px;}#sk-container-id-1 div.sk-estimator {font-family: monospace;background-color: #f0f8ff;border: 1px dotted black;border-radius: 0.25em;box-sizing: border-box;margin-bottom: 0.5em;}#sk-container-id-1 div.sk-estimator:hover {background-color: #d4ebff;}#sk-container-id-1 div.sk-parallel-item::after {content: \"\";width: 100%;border-bottom: 1px solid gray;flex-grow: 1;}#sk-container-id-1 div.sk-label:hover label.sk-toggleable__label {background-color: #d4ebff;}#sk-container-id-1 div.sk-serial::before {content: \"\";position: absolute;border-left: 1px solid gray;box-sizing: border-box;top: 0;bottom: 0;left: 50%;z-index: 0;}#sk-container-id-1 div.sk-serial {display: flex;flex-direction: column;align-items: center;background-color: white;padding-right: 0.2em;padding-left: 0.2em;position: relative;}#sk-container-id-1 div.sk-item {position: relative;z-index: 1;}#sk-container-id-1 div.sk-parallel {display: flex;align-items: stretch;justify-content: center;background-color: white;position: relative;}#sk-container-id-1 div.sk-item::before, #sk-container-id-1 div.sk-parallel-item::before {content: \"\";position: absolute;border-left: 1px solid gray;box-sizing: border-box;top: 0;bottom: 0;left: 50%;z-index: -1;}#sk-container-id-1 div.sk-parallel-item {display: flex;flex-direction: column;z-index: 1;position: relative;background-color: white;}#sk-container-id-1 div.sk-parallel-item:first-child::after {align-self: flex-end;width: 50%;}#sk-container-id-1 div.sk-parallel-item:last-child::after {align-self: flex-start;width: 50%;}#sk-container-id-1 div.sk-parallel-item:only-child::after {width: 0;}#sk-container-id-1 div.sk-dashed-wrapped {border: 1px dashed gray;margin: 0 0.4em 0.5em 0.4em;box-sizing: border-box;padding-bottom: 0.4em;background-color: white;}#sk-container-id-1 div.sk-label label {font-family: monospace;font-weight: bold;display: inline-block;line-height: 1.2em;}#sk-container-id-1 div.sk-label-container {text-align: center;}#sk-container-id-1 div.sk-container {/* jupyter's `normalize.less` sets `[hidden] { display: none; }` but bootstrap.min.css set `[hidden] { display: none !important; }` so we also need the `!important` here to be able to override the default hidden behavior on the sphinx rendered scikit-learn.org. See: https://github.com/scikit-learn/scikit-learn/issues/21755 */display: inline-block !important;position: relative;}#sk-container-id-1 div.sk-text-repr-fallback {display: none;}</style><div id=\"sk-container-id-1\" class=\"sk-top-container\"><div class=\"sk-text-repr-fallback\"><pre>LinearRegression(normalize=True)</pre><b>In a Jupyter environment, please rerun this cell to show the HTML representation or trust the notebook. <br />On GitHub, the HTML representation is unable to render, please try loading this page with nbviewer.org.</b></div><div class=\"sk-container\" hidden><div class=\"sk-item\"><div class=\"sk-estimator sk-toggleable\"><input class=\"sk-toggleable__control sk-hidden--visually\" id=\"sk-estimator-id-1\" type=\"checkbox\" checked><label for=\"sk-estimator-id-1\" class=\"sk-toggleable__label sk-toggleable__label-arrow\">LinearRegression</label><div class=\"sk-toggleable__content\"><pre>LinearRegression(normalize=True)</pre></div></div></div></div></div>"
      ],
      "text/plain": [
       "LinearRegression(normalize=True)"
      ]
     },
     "execution_count": 88,
     "metadata": {},
     "output_type": "execute_result"
    }
   ],
   "source": [
    "model = LinearRegression(normalize=True)\n",
    "model.fit(X_full_train, y_full_train)"
   ]
  },
  {
   "cell_type": "code",
   "execution_count": 89,
   "id": "abb8575a",
   "metadata": {},
   "outputs": [
    {
     "data": {
      "text/plain": [
       "{'ph': 7.606066882417412,\n",
       " 'hardness': 248.04145326529877,\n",
       " 'solids': 14609.976883468133,\n",
       " 'chloramines': 6.356555064233982,\n",
       " 'sulfate': 322.3565718913334,\n",
       " 'conductivity': 275.31714604250067,\n",
       " 'organic_carbon': 11.706095193068222,\n",
       " 'trihalomethanes': 94.7752437833952,\n",
       " 'turbidity': 4.581477460023954}"
      ]
     },
     "execution_count": 89,
     "metadata": {},
     "output_type": "execute_result"
    }
   ],
   "source": [
    "record = df_test.iloc[3].to_dict()\n",
    "X = dv.transform([record])\n",
    "record"
   ]
  },
  {
   "cell_type": "code",
   "execution_count": 90,
   "id": "65c196aa",
   "metadata": {},
   "outputs": [
    {
     "data": {
      "text/plain": [
       "(0, 0.46381605561504347)"
      ]
     },
     "execution_count": 90,
     "metadata": {},
     "output_type": "execute_result"
    }
   ],
   "source": [
    "y_pred = model.predict(X)\n",
    "\n",
    "\n",
    "original_price = y_test[3]\n",
    "pred = y_pred\n",
    "\n",
    "\n",
    "original_price, pred[0]"
   ]
  },
  {
   "cell_type": "code",
   "execution_count": null,
   "id": "c836f8a4",
   "metadata": {},
   "outputs": [],
   "source": []
  },
  {
   "cell_type": "markdown",
   "id": "c29fc46f",
   "metadata": {},
   "source": [
    "<b>RIDGE REGRESSION with alpha tuning<b/>"
   ]
  },
  {
   "cell_type": "code",
   "execution_count": 91,
   "id": "2cee308f",
   "metadata": {},
   "outputs": [],
   "source": [
    "from sklearn.linear_model import Ridge"
   ]
  },
  {
   "cell_type": "code",
   "execution_count": 92,
   "id": "feecc412",
   "metadata": {},
   "outputs": [
    {
     "name": "stderr",
     "output_type": "stream",
     "text": [
      "c:\\ProgramData\\Anaconda3\\envs\\ZoomMLCamp1\\lib\\site-packages\\sklearn\\linear_model\\_base.py:141: FutureWarning: 'normalize' was deprecated in version 1.0 and will be removed in 1.2.\n",
      "If you wish to scale the data, use Pipeline with a StandardScaler in a preprocessing stage. To reproduce the previous behavior:\n",
      "\n",
      "from sklearn.pipeline import make_pipeline\n",
      "\n",
      "model = make_pipeline(StandardScaler(with_mean=False), Ridge())\n",
      "\n",
      "If you wish to pass a sample_weight parameter, you need to pass it as a fit parameter to each step of the pipeline as follows:\n",
      "\n",
      "kwargs = {s[0] + '__sample_weight': sample_weight for s in model.steps}\n",
      "model.fit(X, y, **kwargs)\n",
      "\n",
      "Set parameter alpha to: original_alpha * n_samples. \n",
      "  warnings.warn(\n"
     ]
    },
    {
     "name": "stdout",
     "output_type": "stream",
     "text": [
      "RMSE with alpha=0.0001: 0.49911592084121775\n",
      "RMSE with alpha=0.001: 0.4991111340951659\n",
      "RMSE with alpha=0.01: 0.49906389978153143\n",
      "RMSE with alpha=0.05: 0.4988670495216062\n",
      "RMSE with alpha=0.1: 0.4986475900678709\n",
      "RMSE with alpha=0.2: 0.49827985144641956\n",
      "RMSE with alpha=0.3: 0.4979845554543689\n",
      "RMSE with alpha=0.4: 0.49774277046869586\n",
      "RMSE with alpha=0.5: 0.4975415332692967\n",
      "RMSE with alpha=0.6: 0.4973716908503592\n",
      "RMSE with alpha=0.7: 0.4972266099124253\n",
      "RMSE with alpha=1: 0.4968964361646534\n",
      "RMSE with alpha=2: 0.49634064407424255\n",
      "RMSE with alpha=3: 0.49609529189457396\n",
      "RMSE with alpha=5: 0.49587124769389185\n",
      "RMSE with alpha=10: 0.4956858731124381\n"
     ]
    },
    {
     "name": "stderr",
     "output_type": "stream",
     "text": [
      "c:\\ProgramData\\Anaconda3\\envs\\ZoomMLCamp1\\lib\\site-packages\\sklearn\\linear_model\\_base.py:141: FutureWarning: 'normalize' was deprecated in version 1.0 and will be removed in 1.2.\n",
      "If you wish to scale the data, use Pipeline with a StandardScaler in a preprocessing stage. To reproduce the previous behavior:\n",
      "\n",
      "from sklearn.pipeline import make_pipeline\n",
      "\n",
      "model = make_pipeline(StandardScaler(with_mean=False), Ridge())\n",
      "\n",
      "If you wish to pass a sample_weight parameter, you need to pass it as a fit parameter to each step of the pipeline as follows:\n",
      "\n",
      "kwargs = {s[0] + '__sample_weight': sample_weight for s in model.steps}\n",
      "model.fit(X, y, **kwargs)\n",
      "\n",
      "Set parameter alpha to: original_alpha * n_samples. \n",
      "  warnings.warn(\n",
      "c:\\ProgramData\\Anaconda3\\envs\\ZoomMLCamp1\\lib\\site-packages\\sklearn\\linear_model\\_base.py:141: FutureWarning: 'normalize' was deprecated in version 1.0 and will be removed in 1.2.\n",
      "If you wish to scale the data, use Pipeline with a StandardScaler in a preprocessing stage. To reproduce the previous behavior:\n",
      "\n",
      "from sklearn.pipeline import make_pipeline\n",
      "\n",
      "model = make_pipeline(StandardScaler(with_mean=False), Ridge())\n",
      "\n",
      "If you wish to pass a sample_weight parameter, you need to pass it as a fit parameter to each step of the pipeline as follows:\n",
      "\n",
      "kwargs = {s[0] + '__sample_weight': sample_weight for s in model.steps}\n",
      "model.fit(X, y, **kwargs)\n",
      "\n",
      "Set parameter alpha to: original_alpha * n_samples. \n",
      "  warnings.warn(\n",
      "c:\\ProgramData\\Anaconda3\\envs\\ZoomMLCamp1\\lib\\site-packages\\sklearn\\linear_model\\_base.py:141: FutureWarning: 'normalize' was deprecated in version 1.0 and will be removed in 1.2.\n",
      "If you wish to scale the data, use Pipeline with a StandardScaler in a preprocessing stage. To reproduce the previous behavior:\n",
      "\n",
      "from sklearn.pipeline import make_pipeline\n",
      "\n",
      "model = make_pipeline(StandardScaler(with_mean=False), Ridge())\n",
      "\n",
      "If you wish to pass a sample_weight parameter, you need to pass it as a fit parameter to each step of the pipeline as follows:\n",
      "\n",
      "kwargs = {s[0] + '__sample_weight': sample_weight for s in model.steps}\n",
      "model.fit(X, y, **kwargs)\n",
      "\n",
      "Set parameter alpha to: original_alpha * n_samples. \n",
      "  warnings.warn(\n",
      "c:\\ProgramData\\Anaconda3\\envs\\ZoomMLCamp1\\lib\\site-packages\\sklearn\\linear_model\\_base.py:141: FutureWarning: 'normalize' was deprecated in version 1.0 and will be removed in 1.2.\n",
      "If you wish to scale the data, use Pipeline with a StandardScaler in a preprocessing stage. To reproduce the previous behavior:\n",
      "\n",
      "from sklearn.pipeline import make_pipeline\n",
      "\n",
      "model = make_pipeline(StandardScaler(with_mean=False), Ridge())\n",
      "\n",
      "If you wish to pass a sample_weight parameter, you need to pass it as a fit parameter to each step of the pipeline as follows:\n",
      "\n",
      "kwargs = {s[0] + '__sample_weight': sample_weight for s in model.steps}\n",
      "model.fit(X, y, **kwargs)\n",
      "\n",
      "Set parameter alpha to: original_alpha * n_samples. \n",
      "  warnings.warn(\n",
      "c:\\ProgramData\\Anaconda3\\envs\\ZoomMLCamp1\\lib\\site-packages\\sklearn\\linear_model\\_base.py:141: FutureWarning: 'normalize' was deprecated in version 1.0 and will be removed in 1.2.\n",
      "If you wish to scale the data, use Pipeline with a StandardScaler in a preprocessing stage. To reproduce the previous behavior:\n",
      "\n",
      "from sklearn.pipeline import make_pipeline\n",
      "\n",
      "model = make_pipeline(StandardScaler(with_mean=False), Ridge())\n",
      "\n",
      "If you wish to pass a sample_weight parameter, you need to pass it as a fit parameter to each step of the pipeline as follows:\n",
      "\n",
      "kwargs = {s[0] + '__sample_weight': sample_weight for s in model.steps}\n",
      "model.fit(X, y, **kwargs)\n",
      "\n",
      "Set parameter alpha to: original_alpha * n_samples. \n",
      "  warnings.warn(\n",
      "c:\\ProgramData\\Anaconda3\\envs\\ZoomMLCamp1\\lib\\site-packages\\sklearn\\linear_model\\_base.py:141: FutureWarning: 'normalize' was deprecated in version 1.0 and will be removed in 1.2.\n",
      "If you wish to scale the data, use Pipeline with a StandardScaler in a preprocessing stage. To reproduce the previous behavior:\n",
      "\n",
      "from sklearn.pipeline import make_pipeline\n",
      "\n",
      "model = make_pipeline(StandardScaler(with_mean=False), Ridge())\n",
      "\n",
      "If you wish to pass a sample_weight parameter, you need to pass it as a fit parameter to each step of the pipeline as follows:\n",
      "\n",
      "kwargs = {s[0] + '__sample_weight': sample_weight for s in model.steps}\n",
      "model.fit(X, y, **kwargs)\n",
      "\n",
      "Set parameter alpha to: original_alpha * n_samples. \n",
      "  warnings.warn(\n",
      "c:\\ProgramData\\Anaconda3\\envs\\ZoomMLCamp1\\lib\\site-packages\\sklearn\\linear_model\\_base.py:141: FutureWarning: 'normalize' was deprecated in version 1.0 and will be removed in 1.2.\n",
      "If you wish to scale the data, use Pipeline with a StandardScaler in a preprocessing stage. To reproduce the previous behavior:\n",
      "\n",
      "from sklearn.pipeline import make_pipeline\n",
      "\n",
      "model = make_pipeline(StandardScaler(with_mean=False), Ridge())\n",
      "\n",
      "If you wish to pass a sample_weight parameter, you need to pass it as a fit parameter to each step of the pipeline as follows:\n",
      "\n",
      "kwargs = {s[0] + '__sample_weight': sample_weight for s in model.steps}\n",
      "model.fit(X, y, **kwargs)\n",
      "\n",
      "Set parameter alpha to: original_alpha * n_samples. \n",
      "  warnings.warn(\n",
      "c:\\ProgramData\\Anaconda3\\envs\\ZoomMLCamp1\\lib\\site-packages\\sklearn\\linear_model\\_base.py:141: FutureWarning: 'normalize' was deprecated in version 1.0 and will be removed in 1.2.\n",
      "If you wish to scale the data, use Pipeline with a StandardScaler in a preprocessing stage. To reproduce the previous behavior:\n",
      "\n",
      "from sklearn.pipeline import make_pipeline\n",
      "\n",
      "model = make_pipeline(StandardScaler(with_mean=False), Ridge())\n",
      "\n",
      "If you wish to pass a sample_weight parameter, you need to pass it as a fit parameter to each step of the pipeline as follows:\n",
      "\n",
      "kwargs = {s[0] + '__sample_weight': sample_weight for s in model.steps}\n",
      "model.fit(X, y, **kwargs)\n",
      "\n",
      "Set parameter alpha to: original_alpha * n_samples. \n",
      "  warnings.warn(\n",
      "c:\\ProgramData\\Anaconda3\\envs\\ZoomMLCamp1\\lib\\site-packages\\sklearn\\linear_model\\_base.py:141: FutureWarning: 'normalize' was deprecated in version 1.0 and will be removed in 1.2.\n",
      "If you wish to scale the data, use Pipeline with a StandardScaler in a preprocessing stage. To reproduce the previous behavior:\n",
      "\n",
      "from sklearn.pipeline import make_pipeline\n",
      "\n",
      "model = make_pipeline(StandardScaler(with_mean=False), Ridge())\n",
      "\n",
      "If you wish to pass a sample_weight parameter, you need to pass it as a fit parameter to each step of the pipeline as follows:\n",
      "\n",
      "kwargs = {s[0] + '__sample_weight': sample_weight for s in model.steps}\n",
      "model.fit(X, y, **kwargs)\n",
      "\n",
      "Set parameter alpha to: original_alpha * n_samples. \n",
      "  warnings.warn(\n",
      "c:\\ProgramData\\Anaconda3\\envs\\ZoomMLCamp1\\lib\\site-packages\\sklearn\\linear_model\\_base.py:141: FutureWarning: 'normalize' was deprecated in version 1.0 and will be removed in 1.2.\n",
      "If you wish to scale the data, use Pipeline with a StandardScaler in a preprocessing stage. To reproduce the previous behavior:\n",
      "\n",
      "from sklearn.pipeline import make_pipeline\n",
      "\n",
      "model = make_pipeline(StandardScaler(with_mean=False), Ridge())\n",
      "\n",
      "If you wish to pass a sample_weight parameter, you need to pass it as a fit parameter to each step of the pipeline as follows:\n",
      "\n",
      "kwargs = {s[0] + '__sample_weight': sample_weight for s in model.steps}\n",
      "model.fit(X, y, **kwargs)\n",
      "\n",
      "Set parameter alpha to: original_alpha * n_samples. \n",
      "  warnings.warn(\n",
      "c:\\ProgramData\\Anaconda3\\envs\\ZoomMLCamp1\\lib\\site-packages\\sklearn\\linear_model\\_base.py:141: FutureWarning: 'normalize' was deprecated in version 1.0 and will be removed in 1.2.\n",
      "If you wish to scale the data, use Pipeline with a StandardScaler in a preprocessing stage. To reproduce the previous behavior:\n",
      "\n",
      "from sklearn.pipeline import make_pipeline\n",
      "\n",
      "model = make_pipeline(StandardScaler(with_mean=False), Ridge())\n",
      "\n",
      "If you wish to pass a sample_weight parameter, you need to pass it as a fit parameter to each step of the pipeline as follows:\n",
      "\n",
      "kwargs = {s[0] + '__sample_weight': sample_weight for s in model.steps}\n",
      "model.fit(X, y, **kwargs)\n",
      "\n",
      "Set parameter alpha to: original_alpha * n_samples. \n",
      "  warnings.warn(\n",
      "c:\\ProgramData\\Anaconda3\\envs\\ZoomMLCamp1\\lib\\site-packages\\sklearn\\linear_model\\_base.py:141: FutureWarning: 'normalize' was deprecated in version 1.0 and will be removed in 1.2.\n",
      "If you wish to scale the data, use Pipeline with a StandardScaler in a preprocessing stage. To reproduce the previous behavior:\n",
      "\n",
      "from sklearn.pipeline import make_pipeline\n",
      "\n",
      "model = make_pipeline(StandardScaler(with_mean=False), Ridge())\n",
      "\n",
      "If you wish to pass a sample_weight parameter, you need to pass it as a fit parameter to each step of the pipeline as follows:\n",
      "\n",
      "kwargs = {s[0] + '__sample_weight': sample_weight for s in model.steps}\n",
      "model.fit(X, y, **kwargs)\n",
      "\n",
      "Set parameter alpha to: original_alpha * n_samples. \n",
      "  warnings.warn(\n",
      "c:\\ProgramData\\Anaconda3\\envs\\ZoomMLCamp1\\lib\\site-packages\\sklearn\\linear_model\\_base.py:141: FutureWarning: 'normalize' was deprecated in version 1.0 and will be removed in 1.2.\n",
      "If you wish to scale the data, use Pipeline with a StandardScaler in a preprocessing stage. To reproduce the previous behavior:\n",
      "\n",
      "from sklearn.pipeline import make_pipeline\n",
      "\n",
      "model = make_pipeline(StandardScaler(with_mean=False), Ridge())\n",
      "\n",
      "If you wish to pass a sample_weight parameter, you need to pass it as a fit parameter to each step of the pipeline as follows:\n",
      "\n",
      "kwargs = {s[0] + '__sample_weight': sample_weight for s in model.steps}\n",
      "model.fit(X, y, **kwargs)\n",
      "\n",
      "Set parameter alpha to: original_alpha * n_samples. \n",
      "  warnings.warn(\n",
      "c:\\ProgramData\\Anaconda3\\envs\\ZoomMLCamp1\\lib\\site-packages\\sklearn\\linear_model\\_base.py:141: FutureWarning: 'normalize' was deprecated in version 1.0 and will be removed in 1.2.\n",
      "If you wish to scale the data, use Pipeline with a StandardScaler in a preprocessing stage. To reproduce the previous behavior:\n",
      "\n",
      "from sklearn.pipeline import make_pipeline\n",
      "\n",
      "model = make_pipeline(StandardScaler(with_mean=False), Ridge())\n",
      "\n",
      "If you wish to pass a sample_weight parameter, you need to pass it as a fit parameter to each step of the pipeline as follows:\n",
      "\n",
      "kwargs = {s[0] + '__sample_weight': sample_weight for s in model.steps}\n",
      "model.fit(X, y, **kwargs)\n",
      "\n",
      "Set parameter alpha to: original_alpha * n_samples. \n",
      "  warnings.warn(\n",
      "c:\\ProgramData\\Anaconda3\\envs\\ZoomMLCamp1\\lib\\site-packages\\sklearn\\linear_model\\_base.py:141: FutureWarning: 'normalize' was deprecated in version 1.0 and will be removed in 1.2.\n",
      "If you wish to scale the data, use Pipeline with a StandardScaler in a preprocessing stage. To reproduce the previous behavior:\n",
      "\n",
      "from sklearn.pipeline import make_pipeline\n",
      "\n",
      "model = make_pipeline(StandardScaler(with_mean=False), Ridge())\n",
      "\n",
      "If you wish to pass a sample_weight parameter, you need to pass it as a fit parameter to each step of the pipeline as follows:\n",
      "\n",
      "kwargs = {s[0] + '__sample_weight': sample_weight for s in model.steps}\n",
      "model.fit(X, y, **kwargs)\n",
      "\n",
      "Set parameter alpha to: original_alpha * n_samples. \n",
      "  warnings.warn(\n"
     ]
    },
    {
     "data": {
      "image/png": "[encoded data removed]",
      "text/plain": [
       "<Figure size 640x480 with 1 Axes>"
      ]
     },
     "metadata": {},
     "output_type": "display_data"
    }
   ],
   "source": [
    "list_alpha = [0.0001, 0.001, 0.01, 0.05, 0.1, 0.2, 0.3, 0.4, 0.5, 0.6, 0.7, 1, 2, 3, 5, 10]\n",
    "list_RMSE = []\n",
    "\n",
    "for i in list_alpha:\n",
    "    model = Ridge(alpha=i, normalize=True, random_state=42)\n",
    "    model.fit(X_full_train, y_full_train)\n",
    "    y_pred = model.predict(X_test)\n",
    "    RMSE = mean_squared_error(y_test, y_pred, squared=False)\n",
    "    list_RMSE.append(RMSE)\n",
    "    print(f'RMSE with alpha={i}: {RMSE}')\n",
    "    \n",
    "plt.plot(list_alpha,list_RMSE)\n",
    "plt.xlabel('Alpha')\n",
    "plt.ylabel('RMSE')\n",
    "plt.show()\n"
   ]
  },
  {
   "cell_type": "code",
   "execution_count": 93,
   "id": "56bdc5d0",
   "metadata": {},
   "outputs": [
    {
     "data": {
      "text/plain": [
       "dict_keys(['Linear Regression RMSE=', 'Ridge Regression (alpha 3) RMSE='])"
      ]
     },
     "execution_count": 93,
     "metadata": {},
     "output_type": "execute_result"
    }
   ],
   "source": [
    "key = 'Ridge Regression (alpha 3) RMSE='\n",
    "model_RMSE_scores[key] = RMSE\n",
    "model_RMSE_scores.keys()"
   ]
  },
  {
   "cell_type": "code",
   "execution_count": 94,
   "id": "78eb613e",
   "metadata": {},
   "outputs": [
    {
     "name": "stderr",
     "output_type": "stream",
     "text": [
      "c:\\ProgramData\\Anaconda3\\envs\\ZoomMLCamp1\\lib\\site-packages\\sklearn\\linear_model\\_base.py:141: FutureWarning: 'normalize' was deprecated in version 1.0 and will be removed in 1.2.\n",
      "If you wish to scale the data, use Pipeline with a StandardScaler in a preprocessing stage. To reproduce the previous behavior:\n",
      "\n",
      "from sklearn.pipeline import make_pipeline\n",
      "\n",
      "model = make_pipeline(StandardScaler(with_mean=False), Ridge())\n",
      "\n",
      "If you wish to pass a sample_weight parameter, you need to pass it as a fit parameter to each step of the pipeline as follows:\n",
      "\n",
      "kwargs = {s[0] + '__sample_weight': sample_weight for s in model.steps}\n",
      "model.fit(X, y, **kwargs)\n",
      "\n",
      "Set parameter alpha to: original_alpha * n_samples. \n",
      "  warnings.warn(\n"
     ]
    },
    {
     "data": {
      "text/html": [
       "<style>#sk-container-id-2 {color: black;background-color: white;}#sk-container-id-2 pre{padding: 0;}#sk-container-id-2 div.sk-toggleable {background-color: white;}#sk-container-id-2 label.sk-toggleable__label {cursor: pointer;display: block;width: 100%;margin-bottom: 0;padding: 0.3em;box-sizing: border-box;text-align: center;}#sk-container-id-2 label.sk-toggleable__label-arrow:before {content: \"▸\";float: left;margin-right: 0.25em;color: #696969;}#sk-container-id-2 label.sk-toggleable__label-arrow:hover:before {color: black;}#sk-container-id-2 div.sk-estimator:hover label.sk-toggleable__label-arrow:before {color: black;}#sk-container-id-2 div.sk-toggleable__content {max-height: 0;max-width: 0;overflow: hidden;text-align: left;background-color: #f0f8ff;}#sk-container-id-2 div.sk-toggleable__content pre {margin: 0.2em;color: black;border-radius: 0.25em;background-color: #f0f8ff;}#sk-container-id-2 input.sk-toggleable__control:checked~div.sk-toggleable__content {max-height: 200px;max-width: 100%;overflow: auto;}#sk-container-id-2 input.sk-toggleable__control:checked~label.sk-toggleable__label-arrow:before {content: \"▾\";}#sk-container-id-2 div.sk-estimator input.sk-toggleable__control:checked~label.sk-toggleable__label {background-color: #d4ebff;}#sk-container-id-2 div.sk-label input.sk-toggleable__control:checked~label.sk-toggleable__label {background-color: #d4ebff;}#sk-container-id-2 input.sk-hidden--visually {border: 0;clip: rect(1px 1px 1px 1px);clip: rect(1px, 1px, 1px, 1px);height: 1px;margin: -1px;overflow: hidden;padding: 0;position: absolute;width: 1px;}#sk-container-id-2 div.sk-estimator {font-family: monospace;background-color: #f0f8ff;border: 1px dotted black;border-radius: 0.25em;box-sizing: border-box;margin-bottom: 0.5em;}#sk-container-id-2 div.sk-estimator:hover {background-color: #d4ebff;}#sk-container-id-2 div.sk-parallel-item::after {content: \"\";width: 100%;border-bottom: 1px solid gray;flex-grow: 1;}#sk-container-id-2 div.sk-label:hover label.sk-toggleable__label {background-color: #d4ebff;}#sk-container-id-2 div.sk-serial::before {content: \"\";position: absolute;border-left: 1px solid gray;box-sizing: border-box;top: 0;bottom: 0;left: 50%;z-index: 0;}#sk-container-id-2 div.sk-serial {display: flex;flex-direction: column;align-items: center;background-color: white;padding-right: 0.2em;padding-left: 0.2em;position: relative;}#sk-container-id-2 div.sk-item {position: relative;z-index: 1;}#sk-container-id-2 div.sk-parallel {display: flex;align-items: stretch;justify-content: center;background-color: white;position: relative;}#sk-container-id-2 div.sk-item::before, #sk-container-id-2 div.sk-parallel-item::before {content: \"\";position: absolute;border-left: 1px solid gray;box-sizing: border-box;top: 0;bottom: 0;left: 50%;z-index: -1;}#sk-container-id-2 div.sk-parallel-item {display: flex;flex-direction: column;z-index: 1;position: relative;background-color: white;}#sk-container-id-2 div.sk-parallel-item:first-child::after {align-self: flex-end;width: 50%;}#sk-container-id-2 div.sk-parallel-item:last-child::after {align-self: flex-start;width: 50%;}#sk-container-id-2 div.sk-parallel-item:only-child::after {width: 0;}#sk-container-id-2 div.sk-dashed-wrapped {border: 1px dashed gray;margin: 0 0.4em 0.5em 0.4em;box-sizing: border-box;padding-bottom: 0.4em;background-color: white;}#sk-container-id-2 div.sk-label label {font-family: monospace;font-weight: bold;display: inline-block;line-height: 1.2em;}#sk-container-id-2 div.sk-label-container {text-align: center;}#sk-container-id-2 div.sk-container {/* jupyter's `normalize.less` sets `[hidden] { display: none; }` but bootstrap.min.css set `[hidden] { display: none !important; }` so we also need the `!important` here to be able to override the default hidden behavior on the sphinx rendered scikit-learn.org. See: https://github.com/scikit-learn/scikit-learn/issues/21755 */display: inline-block !important;position: relative;}#sk-container-id-2 div.sk-text-repr-fallback {display: none;}</style><div id=\"sk-container-id-2\" class=\"sk-top-container\"><div class=\"sk-text-repr-fallback\"><pre>Ridge(alpha=3, normalize=True, random_state=42)</pre><b>In a Jupyter environment, please rerun this cell to show the HTML representation or trust the notebook. <br />On GitHub, the HTML representation is unable to render, please try loading this page with nbviewer.org.</b></div><div class=\"sk-container\" hidden><div class=\"sk-item\"><div class=\"sk-estimator sk-toggleable\"><input class=\"sk-toggleable__control sk-hidden--visually\" id=\"sk-estimator-id-2\" type=\"checkbox\" checked><label for=\"sk-estimator-id-2\" class=\"sk-toggleable__label sk-toggleable__label-arrow\">Ridge</label><div class=\"sk-toggleable__content\"><pre>Ridge(alpha=3, normalize=True, random_state=42)</pre></div></div></div></div></div>"
      ],
      "text/plain": [
       "Ridge(alpha=3, normalize=True, random_state=42)"
      ]
     },
     "execution_count": 94,
     "metadata": {},
     "output_type": "execute_result"
    }
   ],
   "source": [
    "model = Ridge(alpha=3, normalize=True, random_state=42)\n",
    "model.fit(X_full_train, y_full_train)"
   ]
  },
  {
   "cell_type": "code",
   "execution_count": 95,
   "id": "fe73c493",
   "metadata": {},
   "outputs": [
    {
     "data": {
      "text/plain": [
       "{'ph': 7.606066882417412,\n",
       " 'hardness': 248.04145326529877,\n",
       " 'solids': 14609.976883468133,\n",
       " 'chloramines': 6.356555064233982,\n",
       " 'sulfate': 322.3565718913334,\n",
       " 'conductivity': 275.31714604250067,\n",
       " 'organic_carbon': 11.706095193068222,\n",
       " 'trihalomethanes': 94.7752437833952,\n",
       " 'turbidity': 4.581477460023954}"
      ]
     },
     "execution_count": 95,
     "metadata": {},
     "output_type": "execute_result"
    }
   ],
   "source": [
    "record = df_test.iloc[3].to_dict()\n",
    "X = dv.transform([record])\n",
    "record"
   ]
  },
  {
   "cell_type": "code",
   "execution_count": 96,
   "id": "e27d5b3b",
   "metadata": {},
   "outputs": [
    {
     "data": {
      "text/plain": [
       "(0, 0.41468889086923033)"
      ]
     },
     "execution_count": 96,
     "metadata": {},
     "output_type": "execute_result"
    }
   ],
   "source": [
    "y_pred = model.predict(X)\n",
    "\n",
    "\n",
    "original_price = y_test[3]\n",
    "pred = y_pred\n",
    "\n",
    "\n",
    "original_price, pred[0]"
   ]
  },
  {
   "cell_type": "code",
   "execution_count": null,
   "id": "2e0d72e4",
   "metadata": {},
   "outputs": [],
   "source": []
  },
  {
   "cell_type": "markdown",
   "id": "d8dfa89a",
   "metadata": {},
   "source": [
    "<b>SGD REGRESSION<b/>"
   ]
  },
  {
   "cell_type": "code",
   "execution_count": 97,
   "id": "fb03c32a",
   "metadata": {},
   "outputs": [],
   "source": [
    "from sklearn.linear_model import SGDRegressor"
   ]
  },
  {
   "cell_type": "code",
   "execution_count": 98,
   "id": "4723607f",
   "metadata": {},
   "outputs": [
    {
     "name": "stdout",
     "output_type": "stream",
     "text": [
      "RMSE: 8.701541050151814e+16\n"
     ]
    }
   ],
   "source": [
    "model = SGDRegressor(random_state=42)\n",
    "\n",
    "model.fit(X_full_train, y_full_train)\n",
    "y_pred = model.predict(X_val)\n",
    "\n",
    "RMSE = mean_squared_error(y_val, y_pred, squared=False)\n",
    "print(f'RMSE: {RMSE}')\n"
   ]
  },
  {
   "cell_type": "code",
   "execution_count": 99,
   "id": "b93c5587",
   "metadata": {},
   "outputs": [
    {
     "data": {
      "text/plain": [
       "dict_keys(['Linear Regression RMSE=', 'Ridge Regression (alpha 3) RMSE=', 'SGDRegressor RMSE='])"
      ]
     },
     "execution_count": 99,
     "metadata": {},
     "output_type": "execute_result"
    }
   ],
   "source": [
    "key = 'SGDRegressor RMSE='\n",
    "model_RMSE_scores[key] = RMSE\n",
    "model_RMSE_scores.keys()"
   ]
  },
  {
   "cell_type": "code",
   "execution_count": 100,
   "id": "afb36f7f",
   "metadata": {},
   "outputs": [
    {
     "data": {
      "text/plain": [
       "{'ph': 7.606066882417412,\n",
       " 'hardness': 248.04145326529877,\n",
       " 'solids': 14609.976883468133,\n",
       " 'chloramines': 6.356555064233982,\n",
       " 'sulfate': 322.3565718913334,\n",
       " 'conductivity': 275.31714604250067,\n",
       " 'organic_carbon': 11.706095193068222,\n",
       " 'trihalomethanes': 94.7752437833952,\n",
       " 'turbidity': 4.581477460023954}"
      ]
     },
     "execution_count": 100,
     "metadata": {},
     "output_type": "execute_result"
    }
   ],
   "source": [
    "record = df_test.iloc[3].to_dict()\n",
    "X = dv.transform([record])\n",
    "record"
   ]
  },
  {
   "cell_type": "code",
   "execution_count": 101,
   "id": "119c16df",
   "metadata": {},
   "outputs": [
    {
     "data": {
      "text/plain": [
       "(0, -5.09021580183833e+16)"
      ]
     },
     "execution_count": 101,
     "metadata": {},
     "output_type": "execute_result"
    }
   ],
   "source": [
    "y_pred = model.predict(X)\n",
    "\n",
    "\n",
    "original_price = y_test[3]\n",
    "pred = y_pred\n",
    "\n",
    "\n",
    "original_price, pred[0]"
   ]
  },
  {
   "cell_type": "code",
   "execution_count": null,
   "id": "02416a91",
   "metadata": {},
   "outputs": [],
   "source": []
  },
  {
   "cell_type": "markdown",
   "id": "8eba31a0",
   "metadata": {},
   "source": [
    "<b>SVR REGRESSION<b/>"
   ]
  },
  {
   "cell_type": "code",
   "execution_count": 102,
   "id": "c3aa9a27",
   "metadata": {},
   "outputs": [],
   "source": [
    "from sklearn.svm import SVR"
   ]
  },
  {
   "cell_type": "code",
   "execution_count": 103,
   "id": "c271fbb4",
   "metadata": {},
   "outputs": [
    {
     "name": "stdout",
     "output_type": "stream",
     "text": [
      "RMSE: 0.5914453572291585\n"
     ]
    }
   ],
   "source": [
    "clf_svr = SVR()\n",
    "clf_svr.fit(X_full_train, y_full_train)\n",
    "y_pred = clf_svr.predict(X_test)\n",
    "\n",
    "RMSE = mean_squared_error(y_test, y_pred, squared=False)\n",
    "print(f'RMSE: {RMSE}')\n",
    "\n"
   ]
  },
  {
   "cell_type": "code",
   "execution_count": 104,
   "id": "ead57beb",
   "metadata": {},
   "outputs": [
    {
     "data": {
      "text/plain": [
       "dict_keys(['Linear Regression RMSE=', 'Ridge Regression (alpha 3) RMSE=', 'SGDRegressor RMSE=', 'SVR RMSE='])"
      ]
     },
     "execution_count": 104,
     "metadata": {},
     "output_type": "execute_result"
    }
   ],
   "source": [
    "key = 'SVR RMSE='\n",
    "model_RMSE_scores[key] = RMSE\n",
    "model_RMSE_scores.keys()"
   ]
  },
  {
   "cell_type": "code",
   "execution_count": 105,
   "id": "6372e107",
   "metadata": {},
   "outputs": [
    {
     "data": {
      "text/plain": [
       "{'ph': 7.606066882417412,\n",
       " 'hardness': 248.04145326529877,\n",
       " 'solids': 14609.976883468133,\n",
       " 'chloramines': 6.356555064233982,\n",
       " 'sulfate': 322.3565718913334,\n",
       " 'conductivity': 275.31714604250067,\n",
       " 'organic_carbon': 11.706095193068222,\n",
       " 'trihalomethanes': 94.7752437833952,\n",
       " 'turbidity': 4.581477460023954}"
      ]
     },
     "execution_count": 105,
     "metadata": {},
     "output_type": "execute_result"
    }
   ],
   "source": [
    "record = df_test.iloc[3].to_dict()\n",
    "X = dv.transform([record])\n",
    "record"
   ]
  },
  {
   "cell_type": "code",
   "execution_count": 106,
   "id": "ec861924",
   "metadata": {},
   "outputs": [
    {
     "data": {
      "text/plain": [
       "(0, 0.1001306876029383)"
      ]
     },
     "execution_count": 106,
     "metadata": {},
     "output_type": "execute_result"
    }
   ],
   "source": [
    "y_pred = clf_svr.predict(X)\n",
    "\n",
    "\n",
    "original_price = y_test[3]\n",
    "pred = y_pred\n",
    "\n",
    "\n",
    "original_price, pred[0]"
   ]
  },
  {
   "cell_type": "code",
   "execution_count": null,
   "id": "9367e290",
   "metadata": {},
   "outputs": [],
   "source": []
  },
  {
   "cell_type": "markdown",
   "id": "841b52f4",
   "metadata": {},
   "source": [
    "<b>RANDOM FOREST REGRESSION<b/>"
   ]
  },
  {
   "cell_type": "code",
   "execution_count": 107,
   "id": "26a0221b",
   "metadata": {},
   "outputs": [],
   "source": [
    "from sklearn.ensemble import RandomForestRegressor"
   ]
  },
  {
   "cell_type": "code",
   "execution_count": 108,
   "id": "ecb1071d",
   "metadata": {},
   "outputs": [
    {
     "name": "stdout",
     "output_type": "stream",
     "text": [
      "RMSE: 0.4587933250783804\n"
     ]
    }
   ],
   "source": [
    "rf = RandomForestRegressor(random_state=42)\n",
    "rf.fit(X_full_train,y_full_train)\n",
    "y_pred = rf.predict(X_test)\n",
    "\n",
    "RMSE = mean_squared_error(y_test, y_pred, squared=False)\n",
    "print(f'RMSE: {RMSE}')\n"
   ]
  },
  {
   "cell_type": "code",
   "execution_count": 109,
   "id": "dc866d38",
   "metadata": {},
   "outputs": [
    {
     "data": {
      "text/plain": [
       "dict_keys(['Linear Regression RMSE=', 'Ridge Regression (alpha 3) RMSE=', 'SGDRegressor RMSE=', 'SVR RMSE=', 'RandomForestRegressor RMSE='])"
      ]
     },
     "execution_count": 109,
     "metadata": {},
     "output_type": "execute_result"
    }
   ],
   "source": [
    "key = 'RandomForestRegressor RMSE='\n",
    "model_RMSE_scores[key] = RMSE\n",
    "model_RMSE_scores.keys()"
   ]
  },
  {
   "cell_type": "code",
   "execution_count": 110,
   "id": "36108aae",
   "metadata": {},
   "outputs": [
    {
     "data": {
      "text/plain": [
       "{'ph': 7.606066882417412,\n",
       " 'hardness': 248.04145326529877,\n",
       " 'solids': 14609.976883468133,\n",
       " 'chloramines': 6.356555064233982,\n",
       " 'sulfate': 322.3565718913334,\n",
       " 'conductivity': 275.31714604250067,\n",
       " 'organic_carbon': 11.706095193068222,\n",
       " 'trihalomethanes': 94.7752437833952,\n",
       " 'turbidity': 4.581477460023954}"
      ]
     },
     "execution_count": 110,
     "metadata": {},
     "output_type": "execute_result"
    }
   ],
   "source": [
    "record = df_test.iloc[3].to_dict()\n",
    "X = dv.transform([record])\n",
    "record"
   ]
  },
  {
   "cell_type": "code",
   "execution_count": 111,
   "id": "75122bcd",
   "metadata": {},
   "outputs": [
    {
     "data": {
      "text/plain": [
       "(0, 0.51)"
      ]
     },
     "execution_count": 111,
     "metadata": {},
     "output_type": "execute_result"
    }
   ],
   "source": [
    "y_pred = rf.predict(X)\n",
    "\n",
    "\n",
    "original_price = y_test[3]\n",
    "pred = y_pred\n",
    "\n",
    "\n",
    "original_price, pred[0]"
   ]
  },
  {
   "cell_type": "code",
   "execution_count": null,
   "id": "4574970e",
   "metadata": {},
   "outputs": [],
   "source": []
  },
  {
   "cell_type": "markdown",
   "id": "98545337",
   "metadata": {},
   "source": [
    "<b>DECISION TREE REGRESSION<b/>"
   ]
  },
  {
   "cell_type": "code",
   "execution_count": 112,
   "id": "3a093426",
   "metadata": {},
   "outputs": [],
   "source": [
    "from sklearn.tree import DecisionTreeRegressor"
   ]
  },
  {
   "cell_type": "code",
   "execution_count": 113,
   "id": "30510c56",
   "metadata": {},
   "outputs": [
    {
     "name": "stdout",
     "output_type": "stream",
     "text": [
      "RMSE: 0.4587933250783804\n"
     ]
    }
   ],
   "source": [
    "dt = DecisionTreeRegressor(random_state=42)\n",
    "dt.fit(X_full_train,y_full_train)\n",
    "y_pred = rf.predict(X_test)\n",
    "\n",
    "RMSE = mean_squared_error(y_test, y_pred, squared=False)\n",
    "print(f'RMSE: {RMSE}')"
   ]
  },
  {
   "cell_type": "code",
   "execution_count": 114,
   "id": "b33f0f09",
   "metadata": {},
   "outputs": [
    {
     "data": {
      "text/plain": [
       "dict_keys(['Linear Regression RMSE=', 'Ridge Regression (alpha 3) RMSE=', 'SGDRegressor RMSE=', 'SVR RMSE=', 'RandomForestRegressor RMSE=', 'DecisionTreeRegressor RMSE='])"
      ]
     },
     "execution_count": 114,
     "metadata": {},
     "output_type": "execute_result"
    }
   ],
   "source": [
    "key = 'DecisionTreeRegressor RMSE='\n",
    "model_RMSE_scores[key] = RMSE\n",
    "model_RMSE_scores.keys()"
   ]
  },
  {
   "cell_type": "code",
   "execution_count": 115,
   "id": "e8d673a6",
   "metadata": {},
   "outputs": [
    {
     "data": {
      "text/plain": [
       "{'ph': 7.606066882417412,\n",
       " 'hardness': 248.04145326529877,\n",
       " 'solids': 14609.976883468133,\n",
       " 'chloramines': 6.356555064233982,\n",
       " 'sulfate': 322.3565718913334,\n",
       " 'conductivity': 275.31714604250067,\n",
       " 'organic_carbon': 11.706095193068222,\n",
       " 'trihalomethanes': 94.7752437833952,\n",
       " 'turbidity': 4.581477460023954}"
      ]
     },
     "execution_count": 115,
     "metadata": {},
     "output_type": "execute_result"
    }
   ],
   "source": [
    "record = df_test.iloc[3].to_dict()\n",
    "X = dv.transform([record])\n",
    "record"
   ]
  },
  {
   "cell_type": "code",
   "execution_count": 116,
   "id": "0e287870",
   "metadata": {},
   "outputs": [
    {
     "data": {
      "text/plain": [
       "(0, 1.0)"
      ]
     },
     "execution_count": 116,
     "metadata": {},
     "output_type": "execute_result"
    }
   ],
   "source": [
    "y_pred = dt.predict(X)\n",
    "\n",
    "\n",
    "original_price = y_test[3]\n",
    "pred = y_pred\n",
    "\n",
    "\n",
    "original_price, pred[0]"
   ]
  },
  {
   "cell_type": "code",
   "execution_count": null,
   "id": "fef1d65f",
   "metadata": {},
   "outputs": [],
   "source": []
  },
  {
   "cell_type": "markdown",
   "id": "745a75ac",
   "metadata": {},
   "source": [
    "<b>XgBOOST REGRESSION with eta, max_depth, max_child_weight TUNING<b/>"
   ]
  },
  {
   "cell_type": "code",
   "execution_count": 117,
   "id": "071e188e",
   "metadata": {},
   "outputs": [
    {
     "name": "stderr",
     "output_type": "stream",
     "text": [
      "c:\\ProgramData\\Anaconda3\\envs\\ZoomMLCamp1\\lib\\site-packages\\xgboost\\compat.py:36: FutureWarning: pandas.Int64Index is deprecated and will be removed from pandas in a future version. Use pandas.Index with the appropriate dtype instead.\n",
      "  from pandas import MultiIndex, Int64Index\n"
     ]
    }
   ],
   "source": [
    "import xgboost as xgb"
   ]
  },
  {
   "cell_type": "code",
   "execution_count": 118,
   "id": "a506896f",
   "metadata": {},
   "outputs": [
    {
     "name": "stderr",
     "output_type": "stream",
     "text": [
      "c:\\ProgramData\\Anaconda3\\envs\\ZoomMLCamp1\\lib\\site-packages\\sklearn\\utils\\deprecation.py:87: FutureWarning: Function get_feature_names is deprecated; get_feature_names is deprecated in 1.0 and will be removed in 1.2. Please use get_feature_names_out instead.\n",
      "  warnings.warn(msg, category=FutureWarning)\n"
     ]
    },
    {
     "data": {
      "text/plain": [
       "['chloramines',\n",
       " 'conductivity',\n",
       " 'hardness',\n",
       " 'organic_carbon',\n",
       " 'ph',\n",
       " 'solids',\n",
       " 'sulfate',\n",
       " 'trihalomethanes',\n",
       " 'turbidity']"
      ]
     },
     "execution_count": 118,
     "metadata": {},
     "output_type": "execute_result"
    }
   ],
   "source": [
    "features = dv.get_feature_names()\n",
    "features"
   ]
  },
  {
   "cell_type": "code",
   "execution_count": 119,
   "id": "affa4196",
   "metadata": {},
   "outputs": [],
   "source": [
    "dtrain = xgb.DMatrix(X_train, label=y_train, feature_names=features)\n",
    "dfulltrain = xgb.DMatrix(X_full_train, label=y_full_train, feature_names=features)\n",
    "dval = xgb.DMatrix(X_val, label=y_val, feature_names=features)\n",
    "dtest = xgb.DMatrix(X_test, label=y_test, feature_names=features)"
   ]
  },
  {
   "cell_type": "code",
   "execution_count": 120,
   "id": "a947c4c6",
   "metadata": {},
   "outputs": [],
   "source": [
    "watchlist = [(dfulltrain, 'train'), (dtest, 'test')]"
   ]
  },
  {
   "cell_type": "code",
   "execution_count": 121,
   "id": "0aedcbce",
   "metadata": {},
   "outputs": [
    {
     "name": "stdout",
     "output_type": "stream",
     "text": [
      "[0]\ttrain-rmse:0.43386\ttest-rmse:0.47903\n",
      "[5]\ttrain-rmse:0.25903\ttest-rmse:0.46028\n",
      "[10]\ttrain-rmse:0.18096\ttest-rmse:0.46686\n",
      "[15]\ttrain-rmse:0.12781\ttest-rmse:0.46948\n",
      "[20]\ttrain-rmse:0.08707\ttest-rmse:0.47152\n",
      "[25]\ttrain-rmse:0.06492\ttest-rmse:0.47235\n",
      "[30]\ttrain-rmse:0.04899\ttest-rmse:0.47152\n",
      "[35]\ttrain-rmse:0.03540\ttest-rmse:0.47182\n",
      "[40]\ttrain-rmse:0.02263\ttest-rmse:0.47113\n",
      "[45]\ttrain-rmse:0.01574\ttest-rmse:0.47178\n",
      "[50]\ttrain-rmse:0.01239\ttest-rmse:0.47174\n",
      "[55]\ttrain-rmse:0.01002\ttest-rmse:0.47212\n",
      "[60]\ttrain-rmse:0.00773\ttest-rmse:0.47196\n",
      "[65]\ttrain-rmse:0.00582\ttest-rmse:0.47190\n",
      "[70]\ttrain-rmse:0.00474\ttest-rmse:0.47178\n",
      "[75]\ttrain-rmse:0.00389\ttest-rmse:0.47171\n",
      "[80]\ttrain-rmse:0.00291\ttest-rmse:0.47168\n",
      "[85]\ttrain-rmse:0.00221\ttest-rmse:0.47167\n",
      "[90]\ttrain-rmse:0.00174\ttest-rmse:0.47168\n",
      "[95]\ttrain-rmse:0.00127\ttest-rmse:0.47167\n",
      "[100]\ttrain-rmse:0.00101\ttest-rmse:0.47165\n",
      "[105]\ttrain-rmse:0.00101\ttest-rmse:0.47165\n",
      "[110]\ttrain-rmse:0.00101\ttest-rmse:0.47165\n",
      "[115]\ttrain-rmse:0.00101\ttest-rmse:0.47165\n",
      "[120]\ttrain-rmse:0.00101\ttest-rmse:0.47165\n",
      "[125]\ttrain-rmse:0.00101\ttest-rmse:0.47165\n",
      "[130]\ttrain-rmse:0.00101\ttest-rmse:0.47165\n",
      "[135]\ttrain-rmse:0.00101\ttest-rmse:0.47165\n",
      "[140]\ttrain-rmse:0.00101\ttest-rmse:0.47165\n",
      "[145]\ttrain-rmse:0.00101\ttest-rmse:0.47165\n",
      "[150]\ttrain-rmse:0.00101\ttest-rmse:0.47165\n",
      "[155]\ttrain-rmse:0.00101\ttest-rmse:0.47165\n",
      "[160]\ttrain-rmse:0.00101\ttest-rmse:0.47165\n",
      "[165]\ttrain-rmse:0.00101\ttest-rmse:0.47165\n",
      "[170]\ttrain-rmse:0.00101\ttest-rmse:0.47165\n",
      "[175]\ttrain-rmse:0.00101\ttest-rmse:0.47165\n",
      "[180]\ttrain-rmse:0.00101\ttest-rmse:0.47165\n",
      "[185]\ttrain-rmse:0.00101\ttest-rmse:0.47165\n",
      "[190]\ttrain-rmse:0.00101\ttest-rmse:0.47165\n",
      "[195]\ttrain-rmse:0.00101\ttest-rmse:0.47165\n",
      "[199]\ttrain-rmse:0.00101\ttest-rmse:0.47165\n"
     ]
    }
   ],
   "source": [
    "xgb_params = {\n",
    "    'eta': 0.3,\n",
    "    'max_depth': 10,\n",
    "    'min_child_weight': 1,\n",
    "    'objective': 'reg:squarederror',\n",
    "    'nthread': 8,\n",
    "    'seed': 1,\n",
    "    'verbosity': 1,\n",
    "}\n",
    "\n",
    "model = xgb.train(xgb_params, dfulltrain, num_boost_round=200, evals=watchlist, verbose_eval=5)"
   ]
  },
  {
   "cell_type": "markdown",
   "id": "00a6d6c7",
   "metadata": {},
   "source": [
    "<b>10 Rounds has the best RMSE to start with</b>"
   ]
  },
  {
   "cell_type": "code",
   "execution_count": null,
   "id": "43c85b2f",
   "metadata": {},
   "outputs": [],
   "source": []
  },
  {
   "cell_type": "code",
   "execution_count": 122,
   "id": "c1a323a5",
   "metadata": {},
   "outputs": [
    {
     "data": {
      "text/plain": [
       "0.47164991240735593"
      ]
     },
     "execution_count": 122,
     "metadata": {},
     "output_type": "execute_result"
    }
   ],
   "source": [
    "y_pred = model.predict(dtest)\n",
    "RMSE = mean_squared_error(y_test, y_pred, squared=False)\n",
    "RMSE"
   ]
  },
  {
   "cell_type": "code",
   "execution_count": null,
   "id": "824b22bf",
   "metadata": {},
   "outputs": [],
   "source": []
  },
  {
   "cell_type": "code",
   "execution_count": 123,
   "id": "73a109a3",
   "metadata": {},
   "outputs": [
    {
     "data": {
      "text/plain": [
       "{'ph': 7.606066882417412,\n",
       " 'hardness': 248.04145326529877,\n",
       " 'solids': 14609.976883468133,\n",
       " 'chloramines': 6.356555064233982,\n",
       " 'sulfate': 322.3565718913334,\n",
       " 'conductivity': 275.31714604250067,\n",
       " 'organic_carbon': 11.706095193068222,\n",
       " 'trihalomethanes': 94.7752437833952,\n",
       " 'turbidity': 4.581477460023954}"
      ]
     },
     "execution_count": 123,
     "metadata": {},
     "output_type": "execute_result"
    }
   ],
   "source": [
    "record = df_test.iloc[3].to_dict()\n",
    "X = dv.transform([record])\n",
    "dcheck = xgb.DMatrix(X, feature_names=features)\n",
    "record"
   ]
  },
  {
   "cell_type": "code",
   "execution_count": 124,
   "id": "86c61cfa",
   "metadata": {},
   "outputs": [
    {
     "data": {
      "text/plain": [
       "(0, 0.5612034)"
      ]
     },
     "execution_count": 124,
     "metadata": {},
     "output_type": "execute_result"
    }
   ],
   "source": [
    "y_pred = model.predict(dcheck)\n",
    "\n",
    "\n",
    "original_price = y_test[3]\n",
    "pred = y_pred\n",
    "\n",
    "original_price, pred[0]"
   ]
  },
  {
   "cell_type": "code",
   "execution_count": null,
   "id": "d4d65c96",
   "metadata": {},
   "outputs": [],
   "source": []
  },
  {
   "cell_type": "markdown",
   "id": "a0b84ce4",
   "metadata": {},
   "source": [
    "<b>PARAMETERS TUNING</b>"
   ]
  },
  {
   "cell_type": "code",
   "execution_count": 125,
   "id": "a4bee4c5",
   "metadata": {},
   "outputs": [],
   "source": [
    "def parse_xgb_output(output):\n",
    "    results = []\n",
    "    \n",
    "    for line in output.stdout.strip().split('\\n'):\n",
    "        it_line, train_line, val_line = line.split('\\t')\n",
    "        \n",
    "        it = int(it_line.strip('[]'))\n",
    "        train = float(train_line.split(':')[1])\n",
    "        val = float(val_line.split(':')[1])\n",
    "        \n",
    "        results.append((it, train, val))\n",
    "    \n",
    "    columns = ['num_iter', 'train_rmse', 'val_rmse']\n",
    "    df_results = pd.DataFrame(results, columns=columns)\n",
    "    return df_results"
   ]
  },
  {
   "cell_type": "markdown",
   "id": "e4f410a4",
   "metadata": {},
   "source": [
    "<b>ETA TUNING with 10 Rounds<b/>"
   ]
  },
  {
   "cell_type": "code",
   "execution_count": 126,
   "id": "765d0ffd",
   "metadata": {},
   "outputs": [],
   "source": [
    "scores = {}"
   ]
  },
  {
   "cell_type": "code",
   "execution_count": 127,
   "id": "30d9f130",
   "metadata": {},
   "outputs": [],
   "source": [
    "%%capture output\n",
    "\n",
    "xgb_params = {\n",
    "    'eta': 1.0,\n",
    "    'max_depth': 10,\n",
    "    'min_child_weight': 1,\n",
    "    'objective': 'reg:squarederror',\n",
    "    'nthread': 8,\n",
    "    'seed': 1,\n",
    "    'verbosity': 1,\n",
    "}\n",
    "\n",
    "model = xgb.train(xgb_params, dfulltrain, num_boost_round=10, evals=watchlist, verbose_eval=5)"
   ]
  },
  {
   "cell_type": "code",
   "execution_count": 128,
   "id": "ace1ed09",
   "metadata": {},
   "outputs": [
    {
     "data": {
      "text/plain": [
       "dict_keys(['eta=1.0'])"
      ]
     },
     "execution_count": 128,
     "metadata": {},
     "output_type": "execute_result"
    }
   ],
   "source": [
    "key = 'eta=%s' % (xgb_params['eta'])\n",
    "scores[key] = parse_xgb_output(output)\n",
    "scores.keys()"
   ]
  },
  {
   "cell_type": "code",
   "execution_count": 129,
   "id": "68e84fa5",
   "metadata": {},
   "outputs": [
    {
     "ename": "KeyError",
     "evalue": "'eta=0.3'",
     "output_type": "error",
     "traceback": [
      "\u001b[1;31m---------------------------------------------------------------------------\u001b[0m",
      "\u001b[1;31mKeyError\u001b[0m                                  Traceback (most recent call last)",
      "\u001b[1;32mc:\\Users\\OWNER\\Documents\\Python Scripts\\ML-ZoomCamp\\Week1\\ML-ZoomCamp\\MidtermProject\\notebook.ipynb Cell 101\u001b[0m in \u001b[0;36m<cell line: 2>\u001b[1;34m()\u001b[0m\n\u001b[0;32m      <a href='vscode-notebook-cell:/c%3A/Users/OWNER/Documents/Python%20Scripts/ML-ZoomCamp/Week1/ML-ZoomCamp/MidtermProject/notebook.ipynb#Y216sZmlsZQ%3D%3D?line=0'>1</a>\u001b[0m etas \u001b[39m=\u001b[39m [\u001b[39m'\u001b[39m\u001b[39meta=0.3\u001b[39m\u001b[39m'\u001b[39m, \u001b[39m'\u001b[39m\u001b[39meta=1.0\u001b[39m\u001b[39m'\u001b[39m, \u001b[39m'\u001b[39m\u001b[39meta=0.1\u001b[39m\u001b[39m'\u001b[39m, \u001b[39m'\u001b[39m\u001b[39meta=0.05\u001b[39m\u001b[39m'\u001b[39m, \u001b[39m'\u001b[39m\u001b[39meta=0.01\u001b[39m\u001b[39m'\u001b[39m]\n\u001b[0;32m      <a href='vscode-notebook-cell:/c%3A/Users/OWNER/Documents/Python%20Scripts/ML-ZoomCamp/Week1/ML-ZoomCamp/MidtermProject/notebook.ipynb#Y216sZmlsZQ%3D%3D?line=1'>2</a>\u001b[0m \u001b[39mfor\u001b[39;00m eta \u001b[39min\u001b[39;00m etas:\n\u001b[1;32m----> <a href='vscode-notebook-cell:/c%3A/Users/OWNER/Documents/Python%20Scripts/ML-ZoomCamp/Week1/ML-ZoomCamp/MidtermProject/notebook.ipynb#Y216sZmlsZQ%3D%3D?line=2'>3</a>\u001b[0m     df_score \u001b[39m=\u001b[39m scores[eta]\n\u001b[0;32m      <a href='vscode-notebook-cell:/c%3A/Users/OWNER/Documents/Python%20Scripts/ML-ZoomCamp/Week1/ML-ZoomCamp/MidtermProject/notebook.ipynb#Y216sZmlsZQ%3D%3D?line=3'>4</a>\u001b[0m     plt\u001b[39m.\u001b[39mplot(df_score\u001b[39m.\u001b[39mnum_iter, df_score\u001b[39m.\u001b[39mval_rmse, label\u001b[39m=\u001b[39meta)\n\u001b[0;32m      <a href='vscode-notebook-cell:/c%3A/Users/OWNER/Documents/Python%20Scripts/ML-ZoomCamp/Week1/ML-ZoomCamp/MidtermProject/notebook.ipynb#Y216sZmlsZQ%3D%3D?line=5'>6</a>\u001b[0m plt\u001b[39m.\u001b[39mlegend()\n",
      "\u001b[1;31mKeyError\u001b[0m: 'eta=0.3'"
     ]
    }
   ],
   "source": [
    "etas = ['eta=0.3', 'eta=1.0', 'eta=0.1', 'eta=0.05', 'eta=0.01']\n",
    "for eta in etas:\n",
    "    df_score = scores[eta]\n",
    "    plt.plot(df_score.num_iter, df_score.val_rmse, label=eta)\n",
    "\n",
    "plt.legend()"
   ]
  },
  {
   "cell_type": "markdown",
   "id": "c2d79a6c",
   "metadata": {},
   "source": [
    "<b>eta=0.3 in 10 Rounds has the best RMSE<b/>"
   ]
  },
  {
   "cell_type": "code",
   "execution_count": null,
   "id": "78a34544",
   "metadata": {},
   "outputs": [],
   "source": []
  },
  {
   "cell_type": "markdown",
   "id": "464c7508",
   "metadata": {},
   "source": [
    "<b>max_weight TUNING<b/>"
   ]
  },
  {
   "cell_type": "code",
   "execution_count": null,
   "id": "7a920970",
   "metadata": {},
   "outputs": [],
   "source": [
    "scores = {}"
   ]
  },
  {
   "cell_type": "code",
   "execution_count": null,
   "id": "a5454b47",
   "metadata": {},
   "outputs": [],
   "source": [
    "%%capture output\n",
    "\n",
    "xgb_params = {\n",
    "    'eta': 0.3,\n",
    "    'max_depth': 90,\n",
    "    'min_child_weight': 1,\n",
    "    'objective': 'reg:squarederror',\n",
    "    'nthread': 8,\n",
    "    'seed': 1,\n",
    "    'verbosity': 1,\n",
    "}\n",
    "\n",
    "model = xgb.train(xgb_params, dfulltrain, num_boost_round=10, evals=watchlist, verbose_eval=5)"
   ]
  },
  {
   "cell_type": "code",
   "execution_count": null,
   "id": "77504948",
   "metadata": {},
   "outputs": [
    {
     "data": {
      "text/plain": [
       "dict_keys(['max_depth=1', 'max_depth=2', 'max_depth=3', 'max_depth=4', 'max_depth=6', 'max_depth=10', 'max_depth=15', 'max_depth=30', 'max_depth=60', 'max_depth=90'])"
      ]
     },
     "execution_count": 122,
     "metadata": {},
     "output_type": "execute_result"
    }
   ],
   "source": [
    "key = 'max_depth=%s' % (xgb_params['max_depth'])\n",
    "scores[key] = parse_xgb_output(output)\n",
    "scores.keys()"
   ]
  },
  {
   "cell_type": "code",
   "execution_count": null,
   "id": "c93ca77f",
   "metadata": {},
   "outputs": [
    {
     "data": {
      "text/plain": [
       "<matplotlib.legend.Legend at 0x7f6c50287f10>"
      ]
     },
     "execution_count": 123,
     "metadata": {},
     "output_type": "execute_result"
    },
    {
     "data": {
      "image/png": "[encoded data removed]",
      "text/plain": [
       "<Figure size 432x288 with 1 Axes>"
      ]
     },
     "metadata": {
      "needs_background": "light"
     },
     "output_type": "display_data"
    }
   ],
   "source": [
    "for max_depth, df_score in scores.items():\n",
    "    plt.plot(df_score.num_iter, df_score.val_rmse, label=max_depth)\n",
    "\n",
    "    \n",
    "plt.legend()"
   ]
  },
  {
   "cell_type": "markdown",
   "id": "e1776644",
   "metadata": {},
   "source": [
    "<b>max_weight=1 in 10 Rounds has the best RMSE<b/>"
   ]
  },
  {
   "cell_type": "code",
   "execution_count": null,
   "id": "188ddde7",
   "metadata": {},
   "outputs": [],
   "source": []
  },
  {
   "cell_type": "markdown",
   "id": "98d97cfd",
   "metadata": {},
   "source": [
    "<b>min_child_weight TUNING<b/>"
   ]
  },
  {
   "cell_type": "code",
   "execution_count": null,
   "id": "83f0bc0c",
   "metadata": {},
   "outputs": [],
   "source": [
    "scores = {}"
   ]
  },
  {
   "cell_type": "code",
   "execution_count": null,
   "id": "caeeaf6a",
   "metadata": {},
   "outputs": [],
   "source": [
    "%%capture output\n",
    "\n",
    "xgb_params = {\n",
    "    'eta': 0.3,\n",
    "    'max_depth': 1,\n",
    "    'min_child_weight': 90,\n",
    "    'objective': 'reg:squarederror',\n",
    "    'nthread': 8,\n",
    "    'seed': 1,\n",
    "    'verbosity': 1,\n",
    "}\n",
    "\n",
    "model = xgb.train(xgb_params, dfulltrain, num_boost_round=10, evals=watchlist, verbose_eval=5)"
   ]
  },
  {
   "cell_type": "code",
   "execution_count": null,
   "id": "61599f0f",
   "metadata": {},
   "outputs": [
    {
     "data": {
      "text/plain": [
       "dict_keys(['min_child_weight=1', 'min_child_weight=2', 'min_child_weight=5', 'min_child_weight=10', 'min_child_weight=15', 'min_child_weight=30', 'min_child_weight=60', 'min_child_weight=90'])"
      ]
     },
     "execution_count": 140,
     "metadata": {},
     "output_type": "execute_result"
    }
   ],
   "source": [
    "key = 'min_child_weight=%s' % (xgb_params['min_child_weight'])\n",
    "scores[key] = parse_xgb_output(output)\n",
    "scores.keys()"
   ]
  },
  {
   "cell_type": "code",
   "execution_count": null,
   "id": "e870a5ca",
   "metadata": {},
   "outputs": [
    {
     "data": {
      "text/plain": [
       "<matplotlib.legend.Legend at 0x7f6c50447eb0>"
      ]
     },
     "execution_count": 141,
     "metadata": {},
     "output_type": "execute_result"
    },
    {
     "data": {
      "image/png": "[encoded data removed]",
      "text/plain": [
       "<Figure size 432x288 with 1 Axes>"
      ]
     },
     "metadata": {
      "needs_background": "light"
     },
     "output_type": "display_data"
    }
   ],
   "source": [
    "for min_child_weight, df_score in scores.items():\n",
    "    plt.plot(df_score.num_iter, df_score.val_rmse, label=min_child_weight)\n",
    "\n",
    "plt.legend()"
   ]
  },
  {
   "cell_type": "code",
   "execution_count": null,
   "id": "a313bcdb",
   "metadata": {},
   "outputs": [],
   "source": []
  },
  {
   "cell_type": "markdown",
   "id": "e76c830e",
   "metadata": {},
   "source": [
    "<b>min_child_weight=1 in 10 Rounds has the best RMSE<b/>"
   ]
  },
  {
   "cell_type": "code",
   "execution_count": null,
   "id": "20152f74",
   "metadata": {},
   "outputs": [],
   "source": []
  },
  {
   "cell_type": "markdown",
   "id": "d755c98d",
   "metadata": {},
   "source": [
    "<b>Train the model with the best parameters</b>"
   ]
  },
  {
   "cell_type": "code",
   "execution_count": null,
   "id": "c0029de9",
   "metadata": {},
   "outputs": [],
   "source": [
    "xgb_params = {\n",
    "    'eta': 0.3,\n",
    "    'max_depth': 1,\n",
    "    'min_child_weight': 1,\n",
    "    'objective': 'reg:squarederror',\n",
    "    'nthread': 8,\n",
    "    'seed': 1,\n",
    "    'verbosity': 1,\n",
    "}\n",
    "\n",
    "model = xgb.train(xgb_params, dfulltrain, num_boost_round=10)"
   ]
  },
  {
   "cell_type": "code",
   "execution_count": null,
   "id": "63a4a1b8",
   "metadata": {},
   "outputs": [],
   "source": []
  },
  {
   "cell_type": "code",
   "execution_count": null,
   "id": "a3fbecc3",
   "metadata": {},
   "outputs": [
    {
     "data": {
      "text/plain": [
       "0.41614005"
      ]
     },
     "execution_count": 216,
     "metadata": {},
     "output_type": "execute_result"
    }
   ],
   "source": [
    "y_pred = model.predict(dtest)\n",
    "RMSE = mean_squared_error(y_test, y_pred, squared=False)\n",
    "RMSE"
   ]
  },
  {
   "cell_type": "code",
   "execution_count": null,
   "id": "88304009",
   "metadata": {},
   "outputs": [
    {
     "data": {
      "text/plain": [
       "dict_keys(['Linear Regression RMSE=', 'Ridge Regression (alpha 3) RMSE=', 'SGDRegressor RMSE=', 'SVR RMSE=', 'RandomForestRegressor RMSE=', 'DecisionTreeRegressor RMSE=', 'xgboostRegressor RMSE='])"
      ]
     },
     "execution_count": 217,
     "metadata": {},
     "output_type": "execute_result"
    }
   ],
   "source": [
    "key = 'xgboostRegressor RMSE='\n",
    "model_RMSE_scores[key] = RMSE\n",
    "model_RMSE_scores.keys()"
   ]
  },
  {
   "cell_type": "code",
   "execution_count": null,
   "id": "b3ce2b8a",
   "metadata": {},
   "outputs": [],
   "source": []
  },
  {
   "cell_type": "code",
   "execution_count": null,
   "id": "18f822ad",
   "metadata": {},
   "outputs": [],
   "source": [
    "record = df_test.iloc[3].to_dict()\n",
    "X = dv.transform([record])\n",
    "dcheck = xgb.DMatrix(X, feature_names=features)"
   ]
  },
  {
   "cell_type": "code",
   "execution_count": null,
   "id": "9fac3ca3",
   "metadata": {},
   "outputs": [
    {
     "data": {
      "text/plain": [
       "(8.0, 8.048736)"
      ]
     },
     "execution_count": 227,
     "metadata": {},
     "output_type": "execute_result"
    }
   ],
   "source": [
    "y_pred = model.predict(dcheck)\n",
    "\n",
    "\n",
    "original_price = y_test[3]\n",
    "pred = y_pred\n",
    "\n",
    "original_price, pred[0]"
   ]
  },
  {
   "cell_type": "code",
   "execution_count": null,
   "id": "fe048c5b",
   "metadata": {},
   "outputs": [],
   "source": []
  },
  {
   "cell_type": "code",
   "execution_count": null,
   "id": "954078f6",
   "metadata": {},
   "outputs": [],
   "source": []
  },
  {
   "cell_type": "code",
   "execution_count": null,
   "id": "3273cb10",
   "metadata": {},
   "outputs": [
    {
     "data": {
      "text/plain": [
       "{'Linear Regression RMSE=': 0.8717005362328303,\n",
       " 'Ridge Regression (alpha 3) RMSE=': 0.5138463543966755,\n",
       " 'SGDRegressor RMSE=': 1.1782828316062282,\n",
       " 'SVR RMSE=': 0.4238536795607311,\n",
       " 'RandomForestRegressor RMSE=': 0.769604971722506,\n",
       " 'DecisionTreeRegressor RMSE=': 0.769604971722506,\n",
       " 'xgboostRegressor RMSE=': 0.41614005}"
      ]
     },
     "execution_count": 219,
     "metadata": {},
     "output_type": "execute_result"
    }
   ],
   "source": [
    "model_RMSE_scores"
   ]
  },
  {
   "cell_type": "markdown",
   "id": "6eada1b5",
   "metadata": {},
   "source": [
    "<h1>4. Exporting notebook to script</h1>"
   ]
  },
  {
   "cell_type": "markdown",
   "id": "8b417a25",
   "metadata": {},
   "source": [
    "<b>model.bin export data</b>"
   ]
  },
  {
   "cell_type": "code",
   "execution_count": null,
   "id": "9f57b458",
   "metadata": {},
   "outputs": [],
   "source": [
    "import pickle"
   ]
  },
  {
   "cell_type": "code",
   "execution_count": null,
   "id": "0d40ef9d",
   "metadata": {},
   "outputs": [],
   "source": [
    "xgb_params = {\n",
    "    'eta': 0.3,\n",
    "    'max_depth': 1,\n",
    "    'min_child_weight': 1,\n",
    "    'objective': 'reg:squarederror',\n",
    "    'nthread': 8,\n",
    "    'seed': 1,\n",
    "    'verbosity': 1,\n",
    "}\n",
    "\n",
    "model = xgb.train(xgb_params, dfulltrain, num_boost_round=10)"
   ]
  },
  {
   "cell_type": "code",
   "execution_count": null,
   "id": "a1e0317b",
   "metadata": {},
   "outputs": [],
   "source": [
    "output_file = f'model.bin'"
   ]
  },
  {
   "cell_type": "code",
   "execution_count": null,
   "id": "9bcd2cc4",
   "metadata": {},
   "outputs": [
    {
     "name": "stdout",
     "output_type": "stream",
     "text": [
      "The Model is saved to model.bin\n"
     ]
    }
   ],
   "source": [
    "with open(output_file, 'wb') as f_out:\n",
    "    pickle.dump((dv,model), f_out)\n",
    "\n",
    "print(f'The Model is saved to {output_file}')"
   ]
  },
  {
   "cell_type": "code",
   "execution_count": null,
   "id": "9034f304",
   "metadata": {},
   "outputs": [],
   "source": []
  }
 ],
 "metadata": {
  "kernelspec": {
   "display_name": "Python 3.9.13",
   "language": "python",
   "name": "python3"
  },
  "language_info": {
   "codemirror_mode": {
    "name": "ipython",
    "version": 3
   },
   "file_extension": ".py",
   "mimetype": "text/x-python",
   "name": "python",
   "nbconvert_exporter": "python",
   "pygments_lexer": "ipython3",
   "version": "3.9.13"
  },
  "vscode": {
   "interpreter": {
    "hash": "40a089c9e2876b59c14a032651a8ac874d98378ee6e08a1496bf9fa8d864ff0d"
   }
  }
 },
 "nbformat": 4,
 "nbformat_minor": 5
}
