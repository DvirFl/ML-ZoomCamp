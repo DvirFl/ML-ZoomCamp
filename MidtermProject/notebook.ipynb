{
 "cells": [
  {
   "cell_type": "markdown",
   "id": "b03439c2",
   "metadata": {},
   "source": [
    "<H1>1. Problem Description</H1>"
   ]
  },
  {
   "cell_type": "markdown",
   "id": "5cd4c3ef",
   "metadata": {},
   "source": [
    "Dataset of Water Quality\n",
    "\n",
    "This dataset for beginners for practice\n",
    "\n",
    "https://www.kaggle.com/datasets/adityakadiwal/water-potability\n",
    "\n",
    "Access to safe drinking-water is essential to health, a basic human right and a component of effective policy for health protection. This is important as a health and development issue at a national, regional and local level. In some regions, it has been shown that investments in water supply and sanitation can yield a net economic benefit, since the reductions in adverse health effects and health care costs outweigh the costs of undertaking the interventions.\n"
   ]
  },
  {
   "cell_type": "code",
   "execution_count": 339,
   "id": "d0979d93",
   "metadata": {},
   "outputs": [],
   "source": [
    "import pandas as pd\n",
    "import numpy as np\n",
    "\n",
    "import matplotlib.pyplot as plt\n",
    "import seaborn as sns\n",
    "import math\n",
    "import os\n",
    "\n",
    "%matplotlib inline"
   ]
  },
  {
   "cell_type": "code",
   "execution_count": 340,
   "id": "4acc233e",
   "metadata": {},
   "outputs": [
    {
     "data": {
      "text/html": [
       "<div>\n",
       "<style scoped>\n",
       "    .dataframe tbody tr th:only-of-type {\n",
       "        vertical-align: middle;\n",
       "    }\n",
       "\n",
       "    .dataframe tbody tr th {\n",
       "        vertical-align: top;\n",
       "    }\n",
       "\n",
       "    .dataframe thead th {\n",
       "        text-align: right;\n",
       "    }\n",
       "</style>\n",
       "<table border=\"1\" class=\"dataframe\">\n",
       "  <thead>\n",
       "    <tr style=\"text-align: right;\">\n",
       "      <th></th>\n",
       "      <th>ph</th>\n",
       "      <th>hardness</th>\n",
       "      <th>solids</th>\n",
       "      <th>chloramines</th>\n",
       "      <th>sulfate</th>\n",
       "      <th>conductivity</th>\n",
       "      <th>organic_carbon</th>\n",
       "      <th>trihalomethanes</th>\n",
       "      <th>turbidity</th>\n",
       "      <th>potability</th>\n",
       "    </tr>\n",
       "  </thead>\n",
       "  <tbody>\n",
       "    <tr>\n",
       "      <th>count</th>\n",
       "      <td>2785.000000</td>\n",
       "      <td>3276.000000</td>\n",
       "      <td>3276.000000</td>\n",
       "      <td>3276.000000</td>\n",
       "      <td>2495.000000</td>\n",
       "      <td>3276.000000</td>\n",
       "      <td>3276.000000</td>\n",
       "      <td>3114.000000</td>\n",
       "      <td>3276.000000</td>\n",
       "      <td>3276.000000</td>\n",
       "    </tr>\n",
       "    <tr>\n",
       "      <th>mean</th>\n",
       "      <td>7.080795</td>\n",
       "      <td>196.369496</td>\n",
       "      <td>22014.092526</td>\n",
       "      <td>7.122277</td>\n",
       "      <td>333.775777</td>\n",
       "      <td>426.205111</td>\n",
       "      <td>14.284970</td>\n",
       "      <td>66.396293</td>\n",
       "      <td>3.966786</td>\n",
       "      <td>0.390110</td>\n",
       "    </tr>\n",
       "    <tr>\n",
       "      <th>std</th>\n",
       "      <td>1.594320</td>\n",
       "      <td>32.879761</td>\n",
       "      <td>8768.570828</td>\n",
       "      <td>1.583085</td>\n",
       "      <td>41.416840</td>\n",
       "      <td>80.824064</td>\n",
       "      <td>3.308162</td>\n",
       "      <td>16.175008</td>\n",
       "      <td>0.780382</td>\n",
       "      <td>0.487849</td>\n",
       "    </tr>\n",
       "    <tr>\n",
       "      <th>min</th>\n",
       "      <td>0.000000</td>\n",
       "      <td>47.432000</td>\n",
       "      <td>320.942611</td>\n",
       "      <td>0.352000</td>\n",
       "      <td>129.000000</td>\n",
       "      <td>181.483754</td>\n",
       "      <td>2.200000</td>\n",
       "      <td>0.738000</td>\n",
       "      <td>1.450000</td>\n",
       "      <td>0.000000</td>\n",
       "    </tr>\n",
       "    <tr>\n",
       "      <th>25%</th>\n",
       "      <td>6.093092</td>\n",
       "      <td>176.850538</td>\n",
       "      <td>15666.690297</td>\n",
       "      <td>6.127421</td>\n",
       "      <td>307.699498</td>\n",
       "      <td>365.734414</td>\n",
       "      <td>12.065801</td>\n",
       "      <td>55.844536</td>\n",
       "      <td>3.439711</td>\n",
       "      <td>0.000000</td>\n",
       "    </tr>\n",
       "    <tr>\n",
       "      <th>50%</th>\n",
       "      <td>7.036752</td>\n",
       "      <td>196.967627</td>\n",
       "      <td>20927.833607</td>\n",
       "      <td>7.130299</td>\n",
       "      <td>333.073546</td>\n",
       "      <td>421.884968</td>\n",
       "      <td>14.218338</td>\n",
       "      <td>66.622485</td>\n",
       "      <td>3.955028</td>\n",
       "      <td>0.000000</td>\n",
       "    </tr>\n",
       "    <tr>\n",
       "      <th>75%</th>\n",
       "      <td>8.062066</td>\n",
       "      <td>216.667456</td>\n",
       "      <td>27332.762127</td>\n",
       "      <td>8.114887</td>\n",
       "      <td>359.950170</td>\n",
       "      <td>481.792304</td>\n",
       "      <td>16.557652</td>\n",
       "      <td>77.337473</td>\n",
       "      <td>4.500320</td>\n",
       "      <td>1.000000</td>\n",
       "    </tr>\n",
       "    <tr>\n",
       "      <th>max</th>\n",
       "      <td>14.000000</td>\n",
       "      <td>323.124000</td>\n",
       "      <td>61227.196008</td>\n",
       "      <td>13.127000</td>\n",
       "      <td>481.030642</td>\n",
       "      <td>753.342620</td>\n",
       "      <td>28.300000</td>\n",
       "      <td>124.000000</td>\n",
       "      <td>6.739000</td>\n",
       "      <td>1.000000</td>\n",
       "    </tr>\n",
       "  </tbody>\n",
       "</table>\n",
       "</div>"
      ],
      "text/plain": [
       "                ph     hardness        solids  chloramines      sulfate  \\\n",
       "count  2785.000000  3276.000000   3276.000000  3276.000000  2495.000000   \n",
       "mean      7.080795   196.369496  22014.092526     7.122277   333.775777   \n",
       "std       1.594320    32.879761   8768.570828     1.583085    41.416840   \n",
       "min       0.000000    47.432000    320.942611     0.352000   129.000000   \n",
       "25%       6.093092   176.850538  15666.690297     6.127421   307.699498   \n",
       "50%       7.036752   196.967627  20927.833607     7.130299   333.073546   \n",
       "75%       8.062066   216.667456  27332.762127     8.114887   359.950170   \n",
       "max      14.000000   323.124000  61227.196008    13.127000   481.030642   \n",
       "\n",
       "       conductivity  organic_carbon  trihalomethanes    turbidity   potability  \n",
       "count   3276.000000     3276.000000      3114.000000  3276.000000  3276.000000  \n",
       "mean     426.205111       14.284970        66.396293     3.966786     0.390110  \n",
       "std       80.824064        3.308162        16.175008     0.780382     0.487849  \n",
       "min      181.483754        2.200000         0.738000     1.450000     0.000000  \n",
       "25%      365.734414       12.065801        55.844536     3.439711     0.000000  \n",
       "50%      421.884968       14.218338        66.622485     3.955028     0.000000  \n",
       "75%      481.792304       16.557652        77.337473     4.500320     1.000000  \n",
       "max      753.342620       28.300000       124.000000     6.739000     1.000000  "
      ]
     },
     "execution_count": 340,
     "metadata": {},
     "output_type": "execute_result"
    }
   ],
   "source": [
    "#print(os.getcwd())\n",
    "df = pd.read_csv('..\\data\\water_potability.csv')\n",
    "df.columns = df.columns.str.lower().str.replace(' ', '_')\n",
    "\n",
    "df.describe()"
   ]
  },
  {
   "cell_type": "markdown",
   "id": "f6e0008b",
   "metadata": {},
   "source": [
    "<h1>2. EDA</h1>"
   ]
  },
  {
   "cell_type": "markdown",
   "id": "47f5a4af",
   "metadata": {},
   "source": [
    "<b>Fields Type</b>"
   ]
  },
  {
   "cell_type": "code",
   "execution_count": 341,
   "id": "8a5f57df",
   "metadata": {},
   "outputs": [
    {
     "data": {
      "text/plain": [
       "ph                 float64\n",
       "hardness           float64\n",
       "solids             float64\n",
       "chloramines        float64\n",
       "sulfate            float64\n",
       "conductivity       float64\n",
       "organic_carbon     float64\n",
       "trihalomethanes    float64\n",
       "turbidity          float64\n",
       "potability           int64\n",
       "dtype: object"
      ]
     },
     "execution_count": 341,
     "metadata": {},
     "output_type": "execute_result"
    }
   ],
   "source": [
    "df.dtypes"
   ]
  },
  {
   "cell_type": "markdown",
   "id": "b675fd48",
   "metadata": {},
   "source": [
    "<b>Check nulls, duplicates and Nuniques</b>"
   ]
  },
  {
   "cell_type": "code",
   "execution_count": 342,
   "id": "79f3f35e",
   "metadata": {},
   "outputs": [
    {
     "data": {
      "text/plain": [
       "ph                 491\n",
       "hardness             0\n",
       "solids               0\n",
       "chloramines          0\n",
       "sulfate            781\n",
       "conductivity         0\n",
       "organic_carbon       0\n",
       "trihalomethanes    162\n",
       "turbidity            0\n",
       "potability           0\n",
       "dtype: int64"
      ]
     },
     "execution_count": 342,
     "metadata": {},
     "output_type": "execute_result"
    }
   ],
   "source": [
    "df.isnull().sum()"
   ]
  },
  {
   "cell_type": "markdown",
   "id": "d4e49fbc",
   "metadata": {},
   "source": [
    "The amount of missing data is 491+781+162, which is about a third of the data. \n",
    "Let's see the mean and median for the 3 features with missing values: ph, sulfate and Trihalomethanes."
   ]
  },
  {
   "cell_type": "code",
   "execution_count": 343,
   "id": "ca00dd72",
   "metadata": {},
   "outputs": [
    {
     "data": {
      "text/html": [
       "<div>\n",
       "<style scoped>\n",
       "    .dataframe tbody tr th:only-of-type {\n",
       "        vertical-align: middle;\n",
       "    }\n",
       "\n",
       "    .dataframe tbody tr th {\n",
       "        vertical-align: top;\n",
       "    }\n",
       "\n",
       "    .dataframe thead th {\n",
       "        text-align: right;\n",
       "    }\n",
       "</style>\n",
       "<table border=\"1\" class=\"dataframe\">\n",
       "  <thead>\n",
       "    <tr style=\"text-align: right;\">\n",
       "      <th></th>\n",
       "      <th>ph</th>\n",
       "      <th>hardness</th>\n",
       "      <th>solids</th>\n",
       "      <th>chloramines</th>\n",
       "      <th>sulfate</th>\n",
       "      <th>conductivity</th>\n",
       "      <th>organic_carbon</th>\n",
       "      <th>trihalomethanes</th>\n",
       "      <th>turbidity</th>\n",
       "      <th>potability</th>\n",
       "    </tr>\n",
       "  </thead>\n",
       "  <tbody>\n",
       "    <tr>\n",
       "      <th>count</th>\n",
       "      <td>811.000000</td>\n",
       "      <td>811.000000</td>\n",
       "      <td>811.000000</td>\n",
       "      <td>811.000000</td>\n",
       "      <td>811.000000</td>\n",
       "      <td>811.000000</td>\n",
       "      <td>811.000000</td>\n",
       "      <td>811.000000</td>\n",
       "      <td>811.000000</td>\n",
       "      <td>811.0</td>\n",
       "    </tr>\n",
       "    <tr>\n",
       "      <th>mean</th>\n",
       "      <td>7.113791</td>\n",
       "      <td>195.908341</td>\n",
       "      <td>22344.922883</td>\n",
       "      <td>7.174395</td>\n",
       "      <td>332.457832</td>\n",
       "      <td>425.005423</td>\n",
       "      <td>14.294764</td>\n",
       "      <td>66.581596</td>\n",
       "      <td>3.991254</td>\n",
       "      <td>1.0</td>\n",
       "    </tr>\n",
       "    <tr>\n",
       "      <th>std</th>\n",
       "      <td>1.437623</td>\n",
       "      <td>35.301146</td>\n",
       "      <td>8891.547966</td>\n",
       "      <td>1.732796</td>\n",
       "      <td>47.446190</td>\n",
       "      <td>81.950982</td>\n",
       "      <td>3.257917</td>\n",
       "      <td>16.297713</td>\n",
       "      <td>0.776408</td>\n",
       "      <td>0.0</td>\n",
       "    </tr>\n",
       "    <tr>\n",
       "      <th>min</th>\n",
       "      <td>0.227499</td>\n",
       "      <td>73.492234</td>\n",
       "      <td>1198.943699</td>\n",
       "      <td>1.390871</td>\n",
       "      <td>129.000000</td>\n",
       "      <td>201.619737</td>\n",
       "      <td>2.200000</td>\n",
       "      <td>8.577013</td>\n",
       "      <td>1.492207</td>\n",
       "      <td>1.0</td>\n",
       "    </tr>\n",
       "    <tr>\n",
       "      <th>25%</th>\n",
       "      <td>6.256039</td>\n",
       "      <td>174.380497</td>\n",
       "      <td>15816.076607</td>\n",
       "      <td>6.106169</td>\n",
       "      <td>301.768819</td>\n",
       "      <td>360.275012</td>\n",
       "      <td>12.148355</td>\n",
       "      <td>55.751069</td>\n",
       "      <td>3.440564</td>\n",
       "      <td>1.0</td>\n",
       "    </tr>\n",
       "    <tr>\n",
       "      <th>50%</th>\n",
       "      <td>7.046549</td>\n",
       "      <td>197.617494</td>\n",
       "      <td>21217.158596</td>\n",
       "      <td>7.212254</td>\n",
       "      <td>331.087177</td>\n",
       "      <td>421.099917</td>\n",
       "      <td>14.252684</td>\n",
       "      <td>66.612984</td>\n",
       "      <td>4.007347</td>\n",
       "      <td>1.0</td>\n",
       "    </tr>\n",
       "    <tr>\n",
       "      <th>75%</th>\n",
       "      <td>7.955161</td>\n",
       "      <td>218.414531</td>\n",
       "      <td>27696.134419</td>\n",
       "      <td>8.181431</td>\n",
       "      <td>365.632984</td>\n",
       "      <td>482.296528</td>\n",
       "      <td>16.561121</td>\n",
       "      <td>77.372587</td>\n",
       "      <td>4.527463</td>\n",
       "      <td>1.0</td>\n",
       "    </tr>\n",
       "    <tr>\n",
       "      <th>max</th>\n",
       "      <td>11.898078</td>\n",
       "      <td>317.338124</td>\n",
       "      <td>56488.672413</td>\n",
       "      <td>13.127000</td>\n",
       "      <td>481.030642</td>\n",
       "      <td>695.369528</td>\n",
       "      <td>23.604298</td>\n",
       "      <td>124.000000</td>\n",
       "      <td>6.494249</td>\n",
       "      <td>1.0</td>\n",
       "    </tr>\n",
       "  </tbody>\n",
       "</table>\n",
       "</div>"
      ],
      "text/plain": [
       "               ph    hardness        solids  chloramines     sulfate  \\\n",
       "count  811.000000  811.000000    811.000000   811.000000  811.000000   \n",
       "mean     7.113791  195.908341  22344.922883     7.174395  332.457832   \n",
       "std      1.437623   35.301146   8891.547966     1.732796   47.446190   \n",
       "min      0.227499   73.492234   1198.943699     1.390871  129.000000   \n",
       "25%      6.256039  174.380497  15816.076607     6.106169  301.768819   \n",
       "50%      7.046549  197.617494  21217.158596     7.212254  331.087177   \n",
       "75%      7.955161  218.414531  27696.134419     8.181431  365.632984   \n",
       "max     11.898078  317.338124  56488.672413    13.127000  481.030642   \n",
       "\n",
       "       conductivity  organic_carbon  trihalomethanes   turbidity  potability  \n",
       "count    811.000000      811.000000       811.000000  811.000000       811.0  \n",
       "mean     425.005423       14.294764        66.581596    3.991254         1.0  \n",
       "std       81.950982        3.257917        16.297713    0.776408         0.0  \n",
       "min      201.619737        2.200000         8.577013    1.492207         1.0  \n",
       "25%      360.275012       12.148355        55.751069    3.440564         1.0  \n",
       "50%      421.099917       14.252684        66.612984    4.007347         1.0  \n",
       "75%      482.296528       16.561121        77.372587    4.527463         1.0  \n",
       "max      695.369528       23.604298       124.000000    6.494249         1.0  "
      ]
     },
     "execution_count": 343,
     "metadata": {},
     "output_type": "execute_result"
    }
   ],
   "source": [
    "df_trimmed = df.dropna(axis=0,inplace=False)\n",
    "df_potable = df_trimmed[df_trimmed.potability== 1.0]\n",
    "df_potable.describe()"
   ]
  },
  {
   "cell_type": "code",
   "execution_count": 344,
   "id": "4fe5d9a9",
   "metadata": {},
   "outputs": [
    {
     "data": {
      "text/html": [
       "<div>\n",
       "<style scoped>\n",
       "    .dataframe tbody tr th:only-of-type {\n",
       "        vertical-align: middle;\n",
       "    }\n",
       "\n",
       "    .dataframe tbody tr th {\n",
       "        vertical-align: top;\n",
       "    }\n",
       "\n",
       "    .dataframe thead th {\n",
       "        text-align: right;\n",
       "    }\n",
       "</style>\n",
       "<table border=\"1\" class=\"dataframe\">\n",
       "  <thead>\n",
       "    <tr style=\"text-align: right;\">\n",
       "      <th></th>\n",
       "      <th>ph</th>\n",
       "      <th>hardness</th>\n",
       "      <th>solids</th>\n",
       "      <th>chloramines</th>\n",
       "      <th>sulfate</th>\n",
       "      <th>conductivity</th>\n",
       "      <th>organic_carbon</th>\n",
       "      <th>trihalomethanes</th>\n",
       "      <th>turbidity</th>\n",
       "      <th>potability</th>\n",
       "    </tr>\n",
       "  </thead>\n",
       "  <tbody>\n",
       "    <tr>\n",
       "      <th>count</th>\n",
       "      <td>1200.000000</td>\n",
       "      <td>1200.000000</td>\n",
       "      <td>1200.000000</td>\n",
       "      <td>1200.000000</td>\n",
       "      <td>1200.000000</td>\n",
       "      <td>1200.000000</td>\n",
       "      <td>1200.000000</td>\n",
       "      <td>1200.000000</td>\n",
       "      <td>1200.000000</td>\n",
       "      <td>1200.0</td>\n",
       "    </tr>\n",
       "    <tr>\n",
       "      <th>mean</th>\n",
       "      <td>7.067201</td>\n",
       "      <td>196.008440</td>\n",
       "      <td>21628.535122</td>\n",
       "      <td>7.107267</td>\n",
       "      <td>333.742928</td>\n",
       "      <td>427.554342</td>\n",
       "      <td>14.400250</td>\n",
       "      <td>66.278712</td>\n",
       "      <td>3.955181</td>\n",
       "      <td>0.0</td>\n",
       "    </tr>\n",
       "    <tr>\n",
       "      <th>std</th>\n",
       "      <td>1.659106</td>\n",
       "      <td>30.717642</td>\n",
       "      <td>8461.108693</td>\n",
       "      <td>1.476577</td>\n",
       "      <td>36.398403</td>\n",
       "      <td>79.882677</td>\n",
       "      <td>3.370196</td>\n",
       "      <td>15.931953</td>\n",
       "      <td>0.782984</td>\n",
       "      <td>0.0</td>\n",
       "    </tr>\n",
       "    <tr>\n",
       "      <th>min</th>\n",
       "      <td>1.431782</td>\n",
       "      <td>98.452931</td>\n",
       "      <td>320.942611</td>\n",
       "      <td>2.456014</td>\n",
       "      <td>203.444521</td>\n",
       "      <td>210.319182</td>\n",
       "      <td>4.371899</td>\n",
       "      <td>14.343161</td>\n",
       "      <td>1.450000</td>\n",
       "      <td>0.0</td>\n",
       "    </tr>\n",
       "    <tr>\n",
       "      <th>25%</th>\n",
       "      <td>5.982888</td>\n",
       "      <td>177.313440</td>\n",
       "      <td>15378.907323</td>\n",
       "      <td>6.169384</td>\n",
       "      <td>310.653441</td>\n",
       "      <td>369.580980</td>\n",
       "      <td>12.118659</td>\n",
       "      <td>56.152070</td>\n",
       "      <td>3.444706</td>\n",
       "      <td>0.0</td>\n",
       "    </tr>\n",
       "    <tr>\n",
       "      <th>50%</th>\n",
       "      <td>6.992004</td>\n",
       "      <td>196.799368</td>\n",
       "      <td>20507.399647</td>\n",
       "      <td>7.103718</td>\n",
       "      <td>332.615625</td>\n",
       "      <td>424.479471</td>\n",
       "      <td>14.351828</td>\n",
       "      <td>66.206116</td>\n",
       "      <td>3.944085</td>\n",
       "      <td>0.0</td>\n",
       "    </tr>\n",
       "    <tr>\n",
       "      <th>75%</th>\n",
       "      <td>8.141979</td>\n",
       "      <td>214.532109</td>\n",
       "      <td>26786.546213</td>\n",
       "      <td>8.076759</td>\n",
       "      <td>356.432048</td>\n",
       "      <td>482.333786</td>\n",
       "      <td>16.787531</td>\n",
       "      <td>77.144621</td>\n",
       "      <td>4.497522</td>\n",
       "      <td>0.0</td>\n",
       "    </tr>\n",
       "    <tr>\n",
       "      <th>max</th>\n",
       "      <td>14.000000</td>\n",
       "      <td>300.292476</td>\n",
       "      <td>55334.702799</td>\n",
       "      <td>12.653362</td>\n",
       "      <td>460.107069</td>\n",
       "      <td>753.342620</td>\n",
       "      <td>27.006707</td>\n",
       "      <td>120.030077</td>\n",
       "      <td>6.494749</td>\n",
       "      <td>0.0</td>\n",
       "    </tr>\n",
       "  </tbody>\n",
       "</table>\n",
       "</div>"
      ],
      "text/plain": [
       "                ph     hardness        solids  chloramines      sulfate  \\\n",
       "count  1200.000000  1200.000000   1200.000000  1200.000000  1200.000000   \n",
       "mean      7.067201   196.008440  21628.535122     7.107267   333.742928   \n",
       "std       1.659106    30.717642   8461.108693     1.476577    36.398403   \n",
       "min       1.431782    98.452931    320.942611     2.456014   203.444521   \n",
       "25%       5.982888   177.313440  15378.907323     6.169384   310.653441   \n",
       "50%       6.992004   196.799368  20507.399647     7.103718   332.615625   \n",
       "75%       8.141979   214.532109  26786.546213     8.076759   356.432048   \n",
       "max      14.000000   300.292476  55334.702799    12.653362   460.107069   \n",
       "\n",
       "       conductivity  organic_carbon  trihalomethanes    turbidity  potability  \n",
       "count   1200.000000     1200.000000      1200.000000  1200.000000      1200.0  \n",
       "mean     427.554342       14.400250        66.278712     3.955181         0.0  \n",
       "std       79.882677        3.370196        15.931953     0.782984         0.0  \n",
       "min      210.319182        4.371899        14.343161     1.450000         0.0  \n",
       "25%      369.580980       12.118659        56.152070     3.444706         0.0  \n",
       "50%      424.479471       14.351828        66.206116     3.944085         0.0  \n",
       "75%      482.333786       16.787531        77.144621     4.497522         0.0  \n",
       "max      753.342620       27.006707       120.030077     6.494749         0.0  "
      ]
     },
     "execution_count": 344,
     "metadata": {},
     "output_type": "execute_result"
    }
   ],
   "source": [
    "df_nonpotable = df_trimmed[df_trimmed.potability== 0.0]\n",
    "df_nonpotable.describe()"
   ]
  },
  {
   "cell_type": "code",
   "execution_count": 345,
   "id": "15119c30",
   "metadata": {},
   "outputs": [
    {
     "data": {
      "image/png": "[encoded data removed]",
      "text/plain": [
       "<Figure size 500x500 with 1 Axes>"
      ]
     },
     "metadata": {},
     "output_type": "display_data"
    }
   ],
   "source": [
    "sns.displot(df.ph, bins=15, kde=False)\n",
    "plt.show()"
   ]
  },
  {
   "cell_type": "code",
   "execution_count": 346,
   "id": "b1d21f55",
   "metadata": {},
   "outputs": [
    {
     "data": {
      "image/png": "[encoded data removed]",
      "text/plain": [
       "<Figure size 640x480 with 1 Axes>"
      ]
     },
     "metadata": {},
     "output_type": "display_data"
    }
   ],
   "source": [
    "sns.boxplot(x=df_nonpotable.ph)\n",
    "plt.show()"
   ]
  },
  {
   "cell_type": "code",
   "execution_count": 347,
   "id": "7afd79dc",
   "metadata": {},
   "outputs": [
    {
     "data": {
      "image/png": "[encoded data removed]",
      "text/plain": [
       "<Figure size 500x500 with 1 Axes>"
      ]
     },
     "metadata": {},
     "output_type": "display_data"
    }
   ],
   "source": [
    "#df.ph.mean()\n",
    "#df.ph.median()\n",
    "sns.displot(df_potable.ph, bins=15, kde=False)\n",
    "plt.show()"
   ]
  },
  {
   "cell_type": "code",
   "execution_count": 348,
   "id": "89cb941b",
   "metadata": {},
   "outputs": [
    {
     "data": {
      "image/png": "[encoded data removed]",
      "text/plain": [
       "<Figure size 500x500 with 1 Axes>"
      ]
     },
     "metadata": {},
     "output_type": "display_data"
    }
   ],
   "source": [
    "sns.displot(df_nonpotable.ph, bins=15, kde=False)\n",
    "plt.show()"
   ]
  },
  {
   "cell_type": "markdown",
   "id": "a4ab9699",
   "metadata": {},
   "source": [
    "We see that there are different distributions to the potable and non potable values of pH.\n",
    "We'll impute the data with KNN (K=3 Nearest Neighbours)"
   ]
  },
  {
   "cell_type": "code",
   "execution_count": 349,
   "id": "6d3da13c",
   "metadata": {},
   "outputs": [
    {
     "data": {
      "text/html": [
       "<div>\n",
       "<style scoped>\n",
       "    .dataframe tbody tr th:only-of-type {\n",
       "        vertical-align: middle;\n",
       "    }\n",
       "\n",
       "    .dataframe tbody tr th {\n",
       "        vertical-align: top;\n",
       "    }\n",
       "\n",
       "    .dataframe thead th {\n",
       "        text-align: right;\n",
       "    }\n",
       "</style>\n",
       "<table border=\"1\" class=\"dataframe\">\n",
       "  <thead>\n",
       "    <tr style=\"text-align: right;\">\n",
       "      <th></th>\n",
       "      <th>ph</th>\n",
       "      <th>hardness</th>\n",
       "      <th>solids</th>\n",
       "      <th>chloramines</th>\n",
       "      <th>sulfate</th>\n",
       "      <th>conductivity</th>\n",
       "      <th>organic_carbon</th>\n",
       "      <th>trihalomethanes</th>\n",
       "      <th>turbidity</th>\n",
       "      <th>potability</th>\n",
       "    </tr>\n",
       "  </thead>\n",
       "  <tbody>\n",
       "    <tr>\n",
       "      <th>0</th>\n",
       "      <td>NaN</td>\n",
       "      <td>0.571139</td>\n",
       "      <td>0.336096</td>\n",
       "      <td>0.543891</td>\n",
       "      <td>0.680385</td>\n",
       "      <td>0.669439</td>\n",
       "      <td>0.313402</td>\n",
       "      <td>0.699753</td>\n",
       "      <td>0.286091</td>\n",
       "      <td>0.0</td>\n",
       "    </tr>\n",
       "    <tr>\n",
       "      <th>1</th>\n",
       "      <td>0.265434</td>\n",
       "      <td>0.297400</td>\n",
       "      <td>0.300611</td>\n",
       "      <td>0.491839</td>\n",
       "      <td>NaN</td>\n",
       "      <td>0.719411</td>\n",
       "      <td>0.497319</td>\n",
       "      <td>0.450999</td>\n",
       "      <td>0.576793</td>\n",
       "      <td>0.0</td>\n",
       "    </tr>\n",
       "    <tr>\n",
       "      <th>2</th>\n",
       "      <td>0.578509</td>\n",
       "      <td>0.641311</td>\n",
       "      <td>0.321619</td>\n",
       "      <td>0.698543</td>\n",
       "      <td>NaN</td>\n",
       "      <td>0.414652</td>\n",
       "      <td>0.562017</td>\n",
       "      <td>0.532866</td>\n",
       "      <td>0.303637</td>\n",
       "      <td>0.0</td>\n",
       "    </tr>\n",
       "    <tr>\n",
       "      <th>3</th>\n",
       "      <td>0.594055</td>\n",
       "      <td>0.605536</td>\n",
       "      <td>0.356244</td>\n",
       "      <td>0.603314</td>\n",
       "      <td>0.647347</td>\n",
       "      <td>0.317880</td>\n",
       "      <td>0.622089</td>\n",
       "      <td>0.808065</td>\n",
       "      <td>0.601015</td>\n",
       "      <td>0.0</td>\n",
       "    </tr>\n",
       "    <tr>\n",
       "      <th>4</th>\n",
       "      <td>0.649445</td>\n",
       "      <td>0.484851</td>\n",
       "      <td>0.289922</td>\n",
       "      <td>0.484900</td>\n",
       "      <td>0.514545</td>\n",
       "      <td>0.379337</td>\n",
       "      <td>0.358555</td>\n",
       "      <td>0.253606</td>\n",
       "      <td>0.496327</td>\n",
       "      <td>0.0</td>\n",
       "    </tr>\n",
       "  </tbody>\n",
       "</table>\n",
       "</div>"
      ],
      "text/plain": [
       "         ph  hardness    solids  chloramines   sulfate  conductivity  \\\n",
       "0       NaN  0.571139  0.336096     0.543891  0.680385      0.669439   \n",
       "1  0.265434  0.297400  0.300611     0.491839       NaN      0.719411   \n",
       "2  0.578509  0.641311  0.321619     0.698543       NaN      0.414652   \n",
       "3  0.594055  0.605536  0.356244     0.603314  0.647347      0.317880   \n",
       "4  0.649445  0.484851  0.289922     0.484900  0.514545      0.379337   \n",
       "\n",
       "   organic_carbon  trihalomethanes  turbidity  potability  \n",
       "0        0.313402         0.699753   0.286091         0.0  \n",
       "1        0.497319         0.450999   0.576793         0.0  \n",
       "2        0.562017         0.532866   0.303637         0.0  \n",
       "3        0.622089         0.808065   0.601015         0.0  \n",
       "4        0.358555         0.253606   0.496327         0.0  "
      ]
     },
     "execution_count": 349,
     "metadata": {},
     "output_type": "execute_result"
    }
   ],
   "source": [
    "from sklearn.preprocessing import MinMaxScaler\n",
    "scaler = MinMaxScaler()\n",
    "df_fixed = pd.DataFrame(scaler.fit_transform(df), columns=df.columns)\n",
    "df_fixed.head()"
   ]
  },
  {
   "cell_type": "code",
   "execution_count": 350,
   "id": "222d41e5",
   "metadata": {},
   "outputs": [
    {
     "data": {
      "text/plain": [
       "ph                 0\n",
       "hardness           0\n",
       "solids             0\n",
       "chloramines        0\n",
       "sulfate            0\n",
       "conductivity       0\n",
       "organic_carbon     0\n",
       "trihalomethanes    0\n",
       "turbidity          0\n",
       "potability         0\n",
       "dtype: int64"
      ]
     },
     "execution_count": 350,
     "metadata": {},
     "output_type": "execute_result"
    }
   ],
   "source": [
    "from sklearn.impute import KNNImputer\n",
    "imputer = KNNImputer(n_neighbors = 3)\n",
    "df_fixed = pd.DataFrame(imputer.fit_transform(df), columns=df.columns)\n",
    "df_fixed.isnull().sum()"
   ]
  },
  {
   "cell_type": "code",
   "execution_count": 351,
   "id": "50de93e8",
   "metadata": {},
   "outputs": [
    {
     "data": {
      "text/plain": [
       "0"
      ]
     },
     "execution_count": 351,
     "metadata": {},
     "output_type": "execute_result"
    }
   ],
   "source": [
    "df_fixed.duplicated().sum()"
   ]
  },
  {
   "cell_type": "code",
   "execution_count": 352,
   "id": "be8bb6e0",
   "metadata": {},
   "outputs": [
    {
     "data": {
      "text/plain": [
       "ph                 3254\n",
       "hardness           3276\n",
       "solids             3276\n",
       "chloramines        3276\n",
       "sulfate            3227\n",
       "conductivity       3276\n",
       "organic_carbon     3276\n",
       "trihalomethanes    3274\n",
       "turbidity          3276\n",
       "potability            2\n",
       "dtype: int64"
      ]
     },
     "execution_count": 352,
     "metadata": {},
     "output_type": "execute_result"
    }
   ],
   "source": [
    "df_fixed.nunique()"
   ]
  },
  {
   "cell_type": "markdown",
   "id": "15a0e60f",
   "metadata": {},
   "source": [
    "<b>Clean columns from spaces</b>"
   ]
  },
  {
   "cell_type": "code",
   "execution_count": 353,
   "id": "a7497c23",
   "metadata": {},
   "outputs": [
    {
     "name": "stdout",
     "output_type": "stream",
     "text": [
      "Index(['ph', 'hardness', 'solids', 'chloramines', 'sulfate', 'conductivity',\n",
      "       'organic_carbon', 'trihalomethanes', 'turbidity', 'potability'],\n",
      "      dtype='object')\n"
     ]
    }
   ],
   "source": [
    "categorical = df_fixed.select_dtypes(include=\"object\").columns.tolist()\n",
    "numerical = df_fixed.select_dtypes(exclude=\"object\").columns.tolist()\n",
    "\n",
    "print(df_fixed.columns)"
   ]
  },
  {
   "cell_type": "markdown",
   "id": "047443e0",
   "metadata": {},
   "source": [
    "<b>FEATURES CORRELATION (numerical)</b>"
   ]
  },
  {
   "cell_type": "code",
   "execution_count": 354,
   "id": "67f10b85",
   "metadata": {},
   "outputs": [
    {
     "data": {
      "text/plain": [
       "turbidity\n",
       "1.450000    0.0\n",
       "1.492207    1.0\n",
       "1.496101    0.0\n",
       "1.641515    1.0\n",
       "1.659799    1.0\n",
       "           ... \n",
       "6.357439    0.0\n",
       "6.389161    1.0\n",
       "6.494249    1.0\n",
       "6.494749    0.0\n",
       "6.739000    0.0\n",
       "Name: potability, Length: 3276, dtype: float64"
      ]
     },
     "execution_count": 354,
     "metadata": {},
     "output_type": "execute_result"
    }
   ],
   "source": [
    "df_fixed.groupby('turbidity').potability.mean()"
   ]
  },
  {
   "cell_type": "code",
   "execution_count": 355,
   "id": "caaaef13",
   "metadata": {},
   "outputs": [
    {
     "data": {
      "text/plain": [
       "Text(0.5, 1.0, 'Variable Correlation')"
      ]
     },
     "execution_count": 355,
     "metadata": {},
     "output_type": "execute_result"
    },
    {
     "data": {
      "image/png": "[encoded data removed]",
      "text/plain": [
       "<Figure size 640x480 with 2 Axes>"
      ]
     },
     "metadata": {},
     "output_type": "display_data"
    }
   ],
   "source": [
    "ax = sns.heatmap(df_fixed.corr(),annot=True, linewidths=.5, cmap=plt.cm.Blues)\n",
    "plt.title('Variable Correlation')"
   ]
  },
  {
   "cell_type": "markdown",
   "id": "25a3af6a",
   "metadata": {},
   "source": [
    "No strong correlation between 2 variables."
   ]
  },
  {
   "cell_type": "markdown",
   "id": "232dce20",
   "metadata": {},
   "source": [
    "<b>Price distribution</b>"
   ]
  },
  {
   "cell_type": "code",
   "execution_count": 356,
   "id": "2db9b9cb",
   "metadata": {},
   "outputs": [
    {
     "data": {
      "text/plain": [
       "<AxesSubplot:xlabel='potability', ylabel='Count'>"
      ]
     },
     "execution_count": 356,
     "metadata": {},
     "output_type": "execute_result"
    },
    {
     "data": {
      "image/png": "[encoded data removed]",
      "text/plain": [
       "<Figure size 640x480 with 1 Axes>"
      ]
     },
     "metadata": {},
     "output_type": "display_data"
    }
   ],
   "source": [
    "sns.histplot(df_fixed.potability, bins=10)"
   ]
  },
  {
   "cell_type": "code",
   "execution_count": 357,
   "id": "5b0d9734",
   "metadata": {},
   "outputs": [],
   "source": [
    "# from sklearn.metrics import mutual_info_score\n",
    "# cpotability = pd.cut(df.potability, bins=10)\n",
    "# def mutual_info_price_score(series):\n",
    "#     return mutual_info_score(cpotability, series)\n",
    "\n",
    "# mi = df[categorical].apply(mutual_info_price_score)\n",
    "# print(mi)\n",
    "# mi.sort_values(ascending=False)"
   ]
  },
  {
   "cell_type": "markdown",
   "id": "7069e912",
   "metadata": {},
   "source": [
    "<h1>3. Model Training</h1>"
   ]
  },
  {
   "cell_type": "code",
   "execution_count": 358,
   "id": "0e49b628",
   "metadata": {},
   "outputs": [],
   "source": [
    "from sklearn.model_selection import train_test_split\n",
    "from sklearn.feature_extraction import DictVectorizer\n",
    "from sklearn.metrics import mean_squared_error"
   ]
  },
  {
   "cell_type": "markdown",
   "id": "e95c6a1c",
   "metadata": {},
   "source": [
    "<b>Dataset subdivision (60-20-20)</b>"
   ]
  },
  {
   "cell_type": "code",
   "execution_count": 359,
   "id": "8ff44545",
   "metadata": {},
   "outputs": [],
   "source": [
    "df_full_train, df_test = train_test_split(df_fixed, test_size=0.2, random_state=42)\n",
    "df_train, df_val = train_test_split(df_full_train, test_size=0.25, random_state=42)"
   ]
  },
  {
   "cell_type": "code",
   "execution_count": 360,
   "id": "11be4fbd",
   "metadata": {},
   "outputs": [],
   "source": [
    "df_train = df_train.reset_index(drop=True)\n",
    "df_full_train = df_full_train.reset_index(drop=True)\n",
    "df_val = df_val.reset_index(drop=True)\n",
    "df_test = df_test.reset_index(drop=True)\n",
    "\n",
    "y_train = df_train.potability.values\n",
    "y_full_train = df_full_train.potability.values\n",
    "y_val = df_val.potability.values\n",
    "y_test = df_test.potability.values\n",
    "\n",
    "del df_train['potability']\n",
    "del df_val['potability']\n",
    "del df_full_train['potability']\n",
    "del df_test['potability']"
   ]
  },
  {
   "cell_type": "code",
   "execution_count": 361,
   "id": "8c15e9ac",
   "metadata": {},
   "outputs": [
    {
     "data": {
      "text/plain": [
       "'potability'"
      ]
     },
     "execution_count": 361,
     "metadata": {},
     "output_type": "execute_result"
    }
   ],
   "source": [
    "numerical.pop()"
   ]
  },
  {
   "cell_type": "code",
   "execution_count": 362,
   "id": "cbecabb2",
   "metadata": {},
   "outputs": [],
   "source": [
    "train_dicts = df_train[categorical + numerical].to_dict(orient='records')\n",
    "full_train_dicts = df_full_train[categorical + numerical].to_dict(orient='records')\n",
    "val_dicts = df_val[categorical + numerical].to_dict(orient='records')\n",
    "test_dicts = df_test[categorical + numerical].to_dict(orient='records')\n",
    "\n",
    "dv = DictVectorizer(sparse=False)\n",
    "\n",
    "X_train = dv.fit_transform(train_dicts)\n",
    "X_full_train = dv.transform(full_train_dicts)\n",
    "X_val = dv.transform(val_dicts)\n",
    "X_test = dv.transform(test_dicts)"
   ]
  },
  {
   "cell_type": "code",
   "execution_count": 363,
   "id": "15091df3",
   "metadata": {},
   "outputs": [
    {
     "name": "stderr",
     "output_type": "stream",
     "text": [
      "c:\\ProgramData\\Anaconda3\\envs\\ZoomMLCamp1\\lib\\site-packages\\sklearn\\utils\\deprecation.py:87: FutureWarning: Function get_feature_names is deprecated; get_feature_names is deprecated in 1.0 and will be removed in 1.2. Please use get_feature_names_out instead.\n",
      "  warnings.warn(msg, category=FutureWarning)\n"
     ]
    },
    {
     "data": {
      "text/plain": [
       "['chloramines',\n",
       " 'conductivity',\n",
       " 'hardness',\n",
       " 'organic_carbon',\n",
       " 'ph',\n",
       " 'solids',\n",
       " 'sulfate',\n",
       " 'trihalomethanes',\n",
       " 'turbidity']"
      ]
     },
     "execution_count": 363,
     "metadata": {},
     "output_type": "execute_result"
    }
   ],
   "source": [
    "dv.get_feature_names()"
   ]
  },
  {
   "cell_type": "markdown",
   "id": "86aacdb4",
   "metadata": {},
   "source": [
    "<b>Test multiple models and check RMSE best value</b>"
   ]
  },
  {
   "cell_type": "code",
   "execution_count": 364,
   "id": "6e1ecf9a",
   "metadata": {},
   "outputs": [],
   "source": [
    "model_RMSE_scores = {}"
   ]
  },
  {
   "cell_type": "markdown",
   "id": "fdcbf5e9",
   "metadata": {},
   "source": [
    "<b>LINEAR REGRESSION<b/>"
   ]
  },
  {
   "cell_type": "code",
   "execution_count": 365,
   "id": "a3abc136",
   "metadata": {},
   "outputs": [],
   "source": [
    "from sklearn.linear_model import LinearRegression"
   ]
  },
  {
   "cell_type": "code",
   "execution_count": 366,
   "id": "673532e0",
   "metadata": {},
   "outputs": [
    {
     "name": "stdout",
     "output_type": "stream",
     "text": [
      "RMSE: 0.4836550843248386\n"
     ]
    },
    {
     "name": "stderr",
     "output_type": "stream",
     "text": [
      "c:\\ProgramData\\Anaconda3\\envs\\ZoomMLCamp1\\lib\\site-packages\\sklearn\\linear_model\\_base.py:141: FutureWarning: 'normalize' was deprecated in version 1.0 and will be removed in 1.2.\n",
      "If you wish to scale the data, use Pipeline with a StandardScaler in a preprocessing stage. To reproduce the previous behavior:\n",
      "\n",
      "from sklearn.pipeline import make_pipeline\n",
      "\n",
      "model = make_pipeline(StandardScaler(with_mean=False), LinearRegression())\n",
      "\n",
      "If you wish to pass a sample_weight parameter, you need to pass it as a fit parameter to each step of the pipeline as follows:\n",
      "\n",
      "kwargs = {s[0] + '__sample_weight': sample_weight for s in model.steps}\n",
      "model.fit(X, y, **kwargs)\n",
      "\n",
      "\n",
      "  warnings.warn(\n"
     ]
    }
   ],
   "source": [
    "list_RMSE = []\n",
    "\n",
    "model = LinearRegression(normalize=True)\n",
    "model.fit(X_full_train, y_full_train)\n",
    "y_pred = model.predict(X_test)\n",
    "RMSE = mean_squared_error(y_test, y_pred, squared=False)\n",
    "print(f'RMSE: {RMSE}')"
   ]
  },
  {
   "cell_type": "code",
   "execution_count": 367,
   "id": "7c944207",
   "metadata": {},
   "outputs": [
    {
     "data": {
      "text/plain": [
       "dict_keys(['Linear Regression RMSE='])"
      ]
     },
     "execution_count": 367,
     "metadata": {},
     "output_type": "execute_result"
    }
   ],
   "source": [
    "key = 'Linear Regression RMSE='\n",
    "model_RMSE_scores[key] = RMSE\n",
    "model_RMSE_scores.keys()"
   ]
  },
  {
   "cell_type": "code",
   "execution_count": 368,
   "id": "e7e9e967",
   "metadata": {},
   "outputs": [
    {
     "name": "stderr",
     "output_type": "stream",
     "text": [
      "c:\\ProgramData\\Anaconda3\\envs\\ZoomMLCamp1\\lib\\site-packages\\sklearn\\linear_model\\_base.py:141: FutureWarning: 'normalize' was deprecated in version 1.0 and will be removed in 1.2.\n",
      "If you wish to scale the data, use Pipeline with a StandardScaler in a preprocessing stage. To reproduce the previous behavior:\n",
      "\n",
      "from sklearn.pipeline import make_pipeline\n",
      "\n",
      "model = make_pipeline(StandardScaler(with_mean=False), LinearRegression())\n",
      "\n",
      "If you wish to pass a sample_weight parameter, you need to pass it as a fit parameter to each step of the pipeline as follows:\n",
      "\n",
      "kwargs = {s[0] + '__sample_weight': sample_weight for s in model.steps}\n",
      "model.fit(X, y, **kwargs)\n",
      "\n",
      "\n",
      "  warnings.warn(\n"
     ]
    },
    {
     "data": {
      "text/html": [
       "<style>#sk-container-id-7 {color: black;background-color: white;}#sk-container-id-7 pre{padding: 0;}#sk-container-id-7 div.sk-toggleable {background-color: white;}#sk-container-id-7 label.sk-toggleable__label {cursor: pointer;display: block;width: 100%;margin-bottom: 0;padding: 0.3em;box-sizing: border-box;text-align: center;}#sk-container-id-7 label.sk-toggleable__label-arrow:before {content: \"▸\";float: left;margin-right: 0.25em;color: #696969;}#sk-container-id-7 label.sk-toggleable__label-arrow:hover:before {color: black;}#sk-container-id-7 div.sk-estimator:hover label.sk-toggleable__label-arrow:before {color: black;}#sk-container-id-7 div.sk-toggleable__content {max-height: 0;max-width: 0;overflow: hidden;text-align: left;background-color: #f0f8ff;}#sk-container-id-7 div.sk-toggleable__content pre {margin: 0.2em;color: black;border-radius: 0.25em;background-color: #f0f8ff;}#sk-container-id-7 input.sk-toggleable__control:checked~div.sk-toggleable__content {max-height: 200px;max-width: 100%;overflow: auto;}#sk-container-id-7 input.sk-toggleable__control:checked~label.sk-toggleable__label-arrow:before {content: \"▾\";}#sk-container-id-7 div.sk-estimator input.sk-toggleable__control:checked~label.sk-toggleable__label {background-color: #d4ebff;}#sk-container-id-7 div.sk-label input.sk-toggleable__control:checked~label.sk-toggleable__label {background-color: #d4ebff;}#sk-container-id-7 input.sk-hidden--visually {border: 0;clip: rect(1px 1px 1px 1px);clip: rect(1px, 1px, 1px, 1px);height: 1px;margin: -1px;overflow: hidden;padding: 0;position: absolute;width: 1px;}#sk-container-id-7 div.sk-estimator {font-family: monospace;background-color: #f0f8ff;border: 1px dotted black;border-radius: 0.25em;box-sizing: border-box;margin-bottom: 0.5em;}#sk-container-id-7 div.sk-estimator:hover {background-color: #d4ebff;}#sk-container-id-7 div.sk-parallel-item::after {content: \"\";width: 100%;border-bottom: 1px solid gray;flex-grow: 1;}#sk-container-id-7 div.sk-label:hover label.sk-toggleable__label {background-color: #d4ebff;}#sk-container-id-7 div.sk-serial::before {content: \"\";position: absolute;border-left: 1px solid gray;box-sizing: border-box;top: 0;bottom: 0;left: 50%;z-index: 0;}#sk-container-id-7 div.sk-serial {display: flex;flex-direction: column;align-items: center;background-color: white;padding-right: 0.2em;padding-left: 0.2em;position: relative;}#sk-container-id-7 div.sk-item {position: relative;z-index: 1;}#sk-container-id-7 div.sk-parallel {display: flex;align-items: stretch;justify-content: center;background-color: white;position: relative;}#sk-container-id-7 div.sk-item::before, #sk-container-id-7 div.sk-parallel-item::before {content: \"\";position: absolute;border-left: 1px solid gray;box-sizing: border-box;top: 0;bottom: 0;left: 50%;z-index: -1;}#sk-container-id-7 div.sk-parallel-item {display: flex;flex-direction: column;z-index: 1;position: relative;background-color: white;}#sk-container-id-7 div.sk-parallel-item:first-child::after {align-self: flex-end;width: 50%;}#sk-container-id-7 div.sk-parallel-item:last-child::after {align-self: flex-start;width: 50%;}#sk-container-id-7 div.sk-parallel-item:only-child::after {width: 0;}#sk-container-id-7 div.sk-dashed-wrapped {border: 1px dashed gray;margin: 0 0.4em 0.5em 0.4em;box-sizing: border-box;padding-bottom: 0.4em;background-color: white;}#sk-container-id-7 div.sk-label label {font-family: monospace;font-weight: bold;display: inline-block;line-height: 1.2em;}#sk-container-id-7 div.sk-label-container {text-align: center;}#sk-container-id-7 div.sk-container {/* jupyter's `normalize.less` sets `[hidden] { display: none; }` but bootstrap.min.css set `[hidden] { display: none !important; }` so we also need the `!important` here to be able to override the default hidden behavior on the sphinx rendered scikit-learn.org. See: https://github.com/scikit-learn/scikit-learn/issues/21755 */display: inline-block !important;position: relative;}#sk-container-id-7 div.sk-text-repr-fallback {display: none;}</style><div id=\"sk-container-id-7\" class=\"sk-top-container\"><div class=\"sk-text-repr-fallback\"><pre>LinearRegression(normalize=True)</pre><b>In a Jupyter environment, please rerun this cell to show the HTML representation or trust the notebook. <br />On GitHub, the HTML representation is unable to render, please try loading this page with nbviewer.org.</b></div><div class=\"sk-container\" hidden><div class=\"sk-item\"><div class=\"sk-estimator sk-toggleable\"><input class=\"sk-toggleable__control sk-hidden--visually\" id=\"sk-estimator-id-7\" type=\"checkbox\" checked><label for=\"sk-estimator-id-7\" class=\"sk-toggleable__label sk-toggleable__label-arrow\">LinearRegression</label><div class=\"sk-toggleable__content\"><pre>LinearRegression(normalize=True)</pre></div></div></div></div></div>"
      ],
      "text/plain": [
       "LinearRegression(normalize=True)"
      ]
     },
     "execution_count": 368,
     "metadata": {},
     "output_type": "execute_result"
    }
   ],
   "source": [
    "model = LinearRegression(normalize=True)\n",
    "model.fit(X_full_train, y_full_train)"
   ]
  },
  {
   "cell_type": "code",
   "execution_count": 369,
   "id": "abb8575a",
   "metadata": {},
   "outputs": [
    {
     "data": {
      "text/plain": [
       "{'ph': 7.16046723080874,\n",
       " 'hardness': 183.0893100379288,\n",
       " 'solids': 6743.346065530401,\n",
       " 'chloramines': 3.8030364235979857,\n",
       " 'sulfate': 277.5990986210596,\n",
       " 'conductivity': 428.0363443504035,\n",
       " 'organic_carbon': 9.79962468961304,\n",
       " 'trihalomethanes': 90.03537367362071,\n",
       " 'turbidity': 3.8848910441472793}"
      ]
     },
     "execution_count": 369,
     "metadata": {},
     "output_type": "execute_result"
    }
   ],
   "source": [
    "record = df_test.iloc[3].to_dict()\n",
    "X = dv.transform([record])\n",
    "record"
   ]
  },
  {
   "cell_type": "code",
   "execution_count": 370,
   "id": "65c196aa",
   "metadata": {},
   "outputs": [
    {
     "data": {
      "text/plain": [
       "(0.0, 0.3852619639954935)"
      ]
     },
     "execution_count": 370,
     "metadata": {},
     "output_type": "execute_result"
    }
   ],
   "source": [
    "y_pred = model.predict(X)\n",
    "\n",
    "\n",
    "original_price = y_test[3]\n",
    "pred = y_pred\n",
    "\n",
    "\n",
    "original_price, pred[0]"
   ]
  },
  {
   "cell_type": "markdown",
   "id": "c29fc46f",
   "metadata": {},
   "source": [
    "<b>RIDGE REGRESSION with alpha tuning<b/>"
   ]
  },
  {
   "cell_type": "code",
   "execution_count": 371,
   "id": "2cee308f",
   "metadata": {},
   "outputs": [],
   "source": [
    "from sklearn.linear_model import Ridge"
   ]
  },
  {
   "cell_type": "code",
   "execution_count": 372,
   "id": "feecc412",
   "metadata": {},
   "outputs": [
    {
     "name": "stderr",
     "output_type": "stream",
     "text": [
      "c:\\ProgramData\\Anaconda3\\envs\\ZoomMLCamp1\\lib\\site-packages\\sklearn\\linear_model\\_base.py:141: FutureWarning: 'normalize' was deprecated in version 1.0 and will be removed in 1.2.\n",
      "If you wish to scale the data, use Pipeline with a StandardScaler in a preprocessing stage. To reproduce the previous behavior:\n",
      "\n",
      "from sklearn.pipeline import make_pipeline\n",
      "\n",
      "model = make_pipeline(StandardScaler(with_mean=False), Ridge())\n",
      "\n",
      "If you wish to pass a sample_weight parameter, you need to pass it as a fit parameter to each step of the pipeline as follows:\n",
      "\n",
      "kwargs = {s[0] + '__sample_weight': sample_weight for s in model.steps}\n",
      "model.fit(X, y, **kwargs)\n",
      "\n",
      "Set parameter alpha to: original_alpha * n_samples. \n",
      "  warnings.warn(\n",
      "c:\\ProgramData\\Anaconda3\\envs\\ZoomMLCamp1\\lib\\site-packages\\sklearn\\linear_model\\_base.py:141: FutureWarning: 'normalize' was deprecated in version 1.0 and will be removed in 1.2.\n",
      "If you wish to scale the data, use Pipeline with a StandardScaler in a preprocessing stage. To reproduce the previous behavior:\n",
      "\n",
      "from sklearn.pipeline import make_pipeline\n",
      "\n",
      "model = make_pipeline(StandardScaler(with_mean=False), Ridge())\n",
      "\n",
      "If you wish to pass a sample_weight parameter, you need to pass it as a fit parameter to each step of the pipeline as follows:\n",
      "\n",
      "kwargs = {s[0] + '__sample_weight': sample_weight for s in model.steps}\n",
      "model.fit(X, y, **kwargs)\n",
      "\n",
      "Set parameter alpha to: original_alpha * n_samples. \n",
      "  warnings.warn(\n",
      "c:\\ProgramData\\Anaconda3\\envs\\ZoomMLCamp1\\lib\\site-packages\\sklearn\\linear_model\\_base.py:141: FutureWarning: 'normalize' was deprecated in version 1.0 and will be removed in 1.2.\n",
      "If you wish to scale the data, use Pipeline with a StandardScaler in a preprocessing stage. To reproduce the previous behavior:\n",
      "\n",
      "from sklearn.pipeline import make_pipeline\n",
      "\n",
      "model = make_pipeline(StandardScaler(with_mean=False), Ridge())\n",
      "\n",
      "If you wish to pass a sample_weight parameter, you need to pass it as a fit parameter to each step of the pipeline as follows:\n",
      "\n",
      "kwargs = {s[0] + '__sample_weight': sample_weight for s in model.steps}\n",
      "model.fit(X, y, **kwargs)\n",
      "\n",
      "Set parameter alpha to: original_alpha * n_samples. \n",
      "  warnings.warn(\n",
      "c:\\ProgramData\\Anaconda3\\envs\\ZoomMLCamp1\\lib\\site-packages\\sklearn\\linear_model\\_base.py:141: FutureWarning: 'normalize' was deprecated in version 1.0 and will be removed in 1.2.\n",
      "If you wish to scale the data, use Pipeline with a StandardScaler in a preprocessing stage. To reproduce the previous behavior:\n",
      "\n",
      "from sklearn.pipeline import make_pipeline\n",
      "\n",
      "model = make_pipeline(StandardScaler(with_mean=False), Ridge())\n",
      "\n",
      "If you wish to pass a sample_weight parameter, you need to pass it as a fit parameter to each step of the pipeline as follows:\n",
      "\n",
      "kwargs = {s[0] + '__sample_weight': sample_weight for s in model.steps}\n",
      "model.fit(X, y, **kwargs)\n",
      "\n",
      "Set parameter alpha to: original_alpha * n_samples. \n",
      "  warnings.warn(\n",
      "c:\\ProgramData\\Anaconda3\\envs\\ZoomMLCamp1\\lib\\site-packages\\sklearn\\linear_model\\_base.py:141: FutureWarning: 'normalize' was deprecated in version 1.0 and will be removed in 1.2.\n",
      "If you wish to scale the data, use Pipeline with a StandardScaler in a preprocessing stage. To reproduce the previous behavior:\n",
      "\n",
      "from sklearn.pipeline import make_pipeline\n",
      "\n",
      "model = make_pipeline(StandardScaler(with_mean=False), Ridge())\n",
      "\n",
      "If you wish to pass a sample_weight parameter, you need to pass it as a fit parameter to each step of the pipeline as follows:\n",
      "\n",
      "kwargs = {s[0] + '__sample_weight': sample_weight for s in model.steps}\n",
      "model.fit(X, y, **kwargs)\n",
      "\n",
      "Set parameter alpha to: original_alpha * n_samples. \n",
      "  warnings.warn(\n",
      "c:\\ProgramData\\Anaconda3\\envs\\ZoomMLCamp1\\lib\\site-packages\\sklearn\\linear_model\\_base.py:141: FutureWarning: 'normalize' was deprecated in version 1.0 and will be removed in 1.2.\n",
      "If you wish to scale the data, use Pipeline with a StandardScaler in a preprocessing stage. To reproduce the previous behavior:\n",
      "\n",
      "from sklearn.pipeline import make_pipeline\n",
      "\n",
      "model = make_pipeline(StandardScaler(with_mean=False), Ridge())\n",
      "\n",
      "If you wish to pass a sample_weight parameter, you need to pass it as a fit parameter to each step of the pipeline as follows:\n",
      "\n",
      "kwargs = {s[0] + '__sample_weight': sample_weight for s in model.steps}\n",
      "model.fit(X, y, **kwargs)\n",
      "\n",
      "Set parameter alpha to: original_alpha * n_samples. \n",
      "  warnings.warn(\n",
      "c:\\ProgramData\\Anaconda3\\envs\\ZoomMLCamp1\\lib\\site-packages\\sklearn\\linear_model\\_base.py:141: FutureWarning: 'normalize' was deprecated in version 1.0 and will be removed in 1.2.\n",
      "If you wish to scale the data, use Pipeline with a StandardScaler in a preprocessing stage. To reproduce the previous behavior:\n",
      "\n",
      "from sklearn.pipeline import make_pipeline\n",
      "\n",
      "model = make_pipeline(StandardScaler(with_mean=False), Ridge())\n",
      "\n",
      "If you wish to pass a sample_weight parameter, you need to pass it as a fit parameter to each step of the pipeline as follows:\n",
      "\n",
      "kwargs = {s[0] + '__sample_weight': sample_weight for s in model.steps}\n",
      "model.fit(X, y, **kwargs)\n",
      "\n",
      "Set parameter alpha to: original_alpha * n_samples. \n",
      "  warnings.warn(\n",
      "c:\\ProgramData\\Anaconda3\\envs\\ZoomMLCamp1\\lib\\site-packages\\sklearn\\linear_model\\_base.py:141: FutureWarning: 'normalize' was deprecated in version 1.0 and will be removed in 1.2.\n",
      "If you wish to scale the data, use Pipeline with a StandardScaler in a preprocessing stage. To reproduce the previous behavior:\n",
      "\n",
      "from sklearn.pipeline import make_pipeline\n",
      "\n",
      "model = make_pipeline(StandardScaler(with_mean=False), Ridge())\n",
      "\n",
      "If you wish to pass a sample_weight parameter, you need to pass it as a fit parameter to each step of the pipeline as follows:\n",
      "\n",
      "kwargs = {s[0] + '__sample_weight': sample_weight for s in model.steps}\n",
      "model.fit(X, y, **kwargs)\n",
      "\n",
      "Set parameter alpha to: original_alpha * n_samples. \n",
      "  warnings.warn(\n",
      "c:\\ProgramData\\Anaconda3\\envs\\ZoomMLCamp1\\lib\\site-packages\\sklearn\\linear_model\\_base.py:141: FutureWarning: 'normalize' was deprecated in version 1.0 and will be removed in 1.2.\n",
      "If you wish to scale the data, use Pipeline with a StandardScaler in a preprocessing stage. To reproduce the previous behavior:\n",
      "\n",
      "from sklearn.pipeline import make_pipeline\n",
      "\n",
      "model = make_pipeline(StandardScaler(with_mean=False), Ridge())\n",
      "\n",
      "If you wish to pass a sample_weight parameter, you need to pass it as a fit parameter to each step of the pipeline as follows:\n",
      "\n",
      "kwargs = {s[0] + '__sample_weight': sample_weight for s in model.steps}\n",
      "model.fit(X, y, **kwargs)\n",
      "\n",
      "Set parameter alpha to: original_alpha * n_samples. \n",
      "  warnings.warn(\n",
      "c:\\ProgramData\\Anaconda3\\envs\\ZoomMLCamp1\\lib\\site-packages\\sklearn\\linear_model\\_base.py:141: FutureWarning: 'normalize' was deprecated in version 1.0 and will be removed in 1.2.\n",
      "If you wish to scale the data, use Pipeline with a StandardScaler in a preprocessing stage. To reproduce the previous behavior:\n",
      "\n",
      "from sklearn.pipeline import make_pipeline\n",
      "\n",
      "model = make_pipeline(StandardScaler(with_mean=False), Ridge())\n",
      "\n",
      "If you wish to pass a sample_weight parameter, you need to pass it as a fit parameter to each step of the pipeline as follows:\n",
      "\n",
      "kwargs = {s[0] + '__sample_weight': sample_weight for s in model.steps}\n",
      "model.fit(X, y, **kwargs)\n",
      "\n",
      "Set parameter alpha to: original_alpha * n_samples. \n",
      "  warnings.warn(\n",
      "c:\\ProgramData\\Anaconda3\\envs\\ZoomMLCamp1\\lib\\site-packages\\sklearn\\linear_model\\_base.py:141: FutureWarning: 'normalize' was deprecated in version 1.0 and will be removed in 1.2.\n",
      "If you wish to scale the data, use Pipeline with a StandardScaler in a preprocessing stage. To reproduce the previous behavior:\n",
      "\n",
      "from sklearn.pipeline import make_pipeline\n",
      "\n",
      "model = make_pipeline(StandardScaler(with_mean=False), Ridge())\n",
      "\n",
      "If you wish to pass a sample_weight parameter, you need to pass it as a fit parameter to each step of the pipeline as follows:\n",
      "\n",
      "kwargs = {s[0] + '__sample_weight': sample_weight for s in model.steps}\n",
      "model.fit(X, y, **kwargs)\n",
      "\n",
      "Set parameter alpha to: original_alpha * n_samples. \n",
      "  warnings.warn(\n",
      "c:\\ProgramData\\Anaconda3\\envs\\ZoomMLCamp1\\lib\\site-packages\\sklearn\\linear_model\\_base.py:141: FutureWarning: 'normalize' was deprecated in version 1.0 and will be removed in 1.2.\n",
      "If you wish to scale the data, use Pipeline with a StandardScaler in a preprocessing stage. To reproduce the previous behavior:\n",
      "\n",
      "from sklearn.pipeline import make_pipeline\n",
      "\n",
      "model = make_pipeline(StandardScaler(with_mean=False), Ridge())\n",
      "\n",
      "If you wish to pass a sample_weight parameter, you need to pass it as a fit parameter to each step of the pipeline as follows:\n",
      "\n",
      "kwargs = {s[0] + '__sample_weight': sample_weight for s in model.steps}\n",
      "model.fit(X, y, **kwargs)\n",
      "\n",
      "Set parameter alpha to: original_alpha * n_samples. \n",
      "  warnings.warn(\n",
      "c:\\ProgramData\\Anaconda3\\envs\\ZoomMLCamp1\\lib\\site-packages\\sklearn\\linear_model\\_base.py:141: FutureWarning: 'normalize' was deprecated in version 1.0 and will be removed in 1.2.\n",
      "If you wish to scale the data, use Pipeline with a StandardScaler in a preprocessing stage. To reproduce the previous behavior:\n",
      "\n",
      "from sklearn.pipeline import make_pipeline\n",
      "\n",
      "model = make_pipeline(StandardScaler(with_mean=False), Ridge())\n",
      "\n",
      "If you wish to pass a sample_weight parameter, you need to pass it as a fit parameter to each step of the pipeline as follows:\n",
      "\n",
      "kwargs = {s[0] + '__sample_weight': sample_weight for s in model.steps}\n",
      "model.fit(X, y, **kwargs)\n",
      "\n",
      "Set parameter alpha to: original_alpha * n_samples. \n",
      "  warnings.warn(\n",
      "c:\\ProgramData\\Anaconda3\\envs\\ZoomMLCamp1\\lib\\site-packages\\sklearn\\linear_model\\_base.py:141: FutureWarning: 'normalize' was deprecated in version 1.0 and will be removed in 1.2.\n",
      "If you wish to scale the data, use Pipeline with a StandardScaler in a preprocessing stage. To reproduce the previous behavior:\n",
      "\n",
      "from sklearn.pipeline import make_pipeline\n",
      "\n",
      "model = make_pipeline(StandardScaler(with_mean=False), Ridge())\n",
      "\n",
      "If you wish to pass a sample_weight parameter, you need to pass it as a fit parameter to each step of the pipeline as follows:\n",
      "\n",
      "kwargs = {s[0] + '__sample_weight': sample_weight for s in model.steps}\n",
      "model.fit(X, y, **kwargs)\n",
      "\n",
      "Set parameter alpha to: original_alpha * n_samples. \n",
      "  warnings.warn(\n",
      "c:\\ProgramData\\Anaconda3\\envs\\ZoomMLCamp1\\lib\\site-packages\\sklearn\\linear_model\\_base.py:141: FutureWarning: 'normalize' was deprecated in version 1.0 and will be removed in 1.2.\n",
      "If you wish to scale the data, use Pipeline with a StandardScaler in a preprocessing stage. To reproduce the previous behavior:\n",
      "\n",
      "from sklearn.pipeline import make_pipeline\n",
      "\n",
      "model = make_pipeline(StandardScaler(with_mean=False), Ridge())\n",
      "\n",
      "If you wish to pass a sample_weight parameter, you need to pass it as a fit parameter to each step of the pipeline as follows:\n",
      "\n",
      "kwargs = {s[0] + '__sample_weight': sample_weight for s in model.steps}\n",
      "model.fit(X, y, **kwargs)\n",
      "\n",
      "Set parameter alpha to: original_alpha * n_samples. \n",
      "  warnings.warn(\n",
      "c:\\ProgramData\\Anaconda3\\envs\\ZoomMLCamp1\\lib\\site-packages\\sklearn\\linear_model\\_base.py:141: FutureWarning: 'normalize' was deprecated in version 1.0 and will be removed in 1.2.\n",
      "If you wish to scale the data, use Pipeline with a StandardScaler in a preprocessing stage. To reproduce the previous behavior:\n",
      "\n",
      "from sklearn.pipeline import make_pipeline\n",
      "\n",
      "model = make_pipeline(StandardScaler(with_mean=False), Ridge())\n",
      "\n",
      "If you wish to pass a sample_weight parameter, you need to pass it as a fit parameter to each step of the pipeline as follows:\n",
      "\n",
      "kwargs = {s[0] + '__sample_weight': sample_weight for s in model.steps}\n",
      "model.fit(X, y, **kwargs)\n",
      "\n",
      "Set parameter alpha to: original_alpha * n_samples. \n",
      "  warnings.warn(\n"
     ]
    },
    {
     "name": "stdout",
     "output_type": "stream",
     "text": [
      "RMSE with alpha=0.0001: 0.4836550476207635\n",
      "RMSE with alpha=0.001: 0.48365471804531274\n",
      "RMSE with alpha=0.01: 0.4836514965215436\n",
      "RMSE with alpha=0.05: 0.4836386953171893\n",
      "RMSE with alpha=0.1: 0.4836257099450741\n",
      "RMSE with alpha=0.2: 0.48360745267291266\n",
      "RMSE with alpha=0.3: 0.48359655232329113\n",
      "RMSE with alpha=0.4: 0.4835906256275843\n",
      "RMSE with alpha=0.5: 0.48358811266080526\n",
      "RMSE with alpha=0.6: 0.4835879657033319\n",
      "RMSE with alpha=0.7: 0.4835894661212081\n",
      "RMSE with alpha=1: 0.48359952432611986\n",
      "RMSE with alpha=2: 0.4836451306570925\n",
      "RMSE with alpha=3: 0.4836821330180111\n",
      "RMSE with alpha=5: 0.4837294914451652\n",
      "RMSE with alpha=10: 0.48378218440309473\n"
     ]
    },
    {
     "data": {
      "image/png": "[encoded data removed]",
      "text/plain": [
       "<Figure size 640x480 with 1 Axes>"
      ]
     },
     "metadata": {},
     "output_type": "display_data"
    }
   ],
   "source": [
    "list_alpha = [0.0001, 0.001, 0.01, 0.05, 0.1, 0.2, 0.3, 0.4, 0.5, 0.6, 0.7, 1, 2, 3, 5, 10]\n",
    "list_RMSE = []\n",
    "\n",
    "for i in list_alpha:\n",
    "    model = Ridge(alpha=i, normalize=True, random_state=42)\n",
    "    model.fit(X_full_train, y_full_train)\n",
    "    y_pred = model.predict(X_test)\n",
    "    RMSE = mean_squared_error(y_test, y_pred, squared=False)\n",
    "    list_RMSE.append(RMSE)\n",
    "    print(f'RMSE with alpha={i}: {RMSE}')\n",
    "    \n",
    "plt.plot(list_alpha,list_RMSE)\n",
    "plt.xlabel('Alpha')\n",
    "plt.ylabel('RMSE')\n",
    "plt.show()\n"
   ]
  },
  {
   "cell_type": "code",
   "execution_count": 373,
   "id": "56bdc5d0",
   "metadata": {},
   "outputs": [
    {
     "data": {
      "text/plain": [
       "dict_keys(['Linear Regression RMSE=', 'Ridge Regression (alpha 3) RMSE='])"
      ]
     },
     "execution_count": 373,
     "metadata": {},
     "output_type": "execute_result"
    }
   ],
   "source": [
    "key = 'Ridge Regression (alpha 3) RMSE='\n",
    "model_RMSE_scores[key] = RMSE\n",
    "model_RMSE_scores.keys()"
   ]
  },
  {
   "cell_type": "code",
   "execution_count": 374,
   "id": "78eb613e",
   "metadata": {},
   "outputs": [
    {
     "name": "stderr",
     "output_type": "stream",
     "text": [
      "c:\\ProgramData\\Anaconda3\\envs\\ZoomMLCamp1\\lib\\site-packages\\sklearn\\linear_model\\_base.py:141: FutureWarning: 'normalize' was deprecated in version 1.0 and will be removed in 1.2.\n",
      "If you wish to scale the data, use Pipeline with a StandardScaler in a preprocessing stage. To reproduce the previous behavior:\n",
      "\n",
      "from sklearn.pipeline import make_pipeline\n",
      "\n",
      "model = make_pipeline(StandardScaler(with_mean=False), Ridge())\n",
      "\n",
      "If you wish to pass a sample_weight parameter, you need to pass it as a fit parameter to each step of the pipeline as follows:\n",
      "\n",
      "kwargs = {s[0] + '__sample_weight': sample_weight for s in model.steps}\n",
      "model.fit(X, y, **kwargs)\n",
      "\n",
      "Set parameter alpha to: original_alpha * n_samples. \n",
      "  warnings.warn(\n"
     ]
    },
    {
     "data": {
      "text/html": [
       "<style>#sk-container-id-8 {color: black;background-color: white;}#sk-container-id-8 pre{padding: 0;}#sk-container-id-8 div.sk-toggleable {background-color: white;}#sk-container-id-8 label.sk-toggleable__label {cursor: pointer;display: block;width: 100%;margin-bottom: 0;padding: 0.3em;box-sizing: border-box;text-align: center;}#sk-container-id-8 label.sk-toggleable__label-arrow:before {content: \"▸\";float: left;margin-right: 0.25em;color: #696969;}#sk-container-id-8 label.sk-toggleable__label-arrow:hover:before {color: black;}#sk-container-id-8 div.sk-estimator:hover label.sk-toggleable__label-arrow:before {color: black;}#sk-container-id-8 div.sk-toggleable__content {max-height: 0;max-width: 0;overflow: hidden;text-align: left;background-color: #f0f8ff;}#sk-container-id-8 div.sk-toggleable__content pre {margin: 0.2em;color: black;border-radius: 0.25em;background-color: #f0f8ff;}#sk-container-id-8 input.sk-toggleable__control:checked~div.sk-toggleable__content {max-height: 200px;max-width: 100%;overflow: auto;}#sk-container-id-8 input.sk-toggleable__control:checked~label.sk-toggleable__label-arrow:before {content: \"▾\";}#sk-container-id-8 div.sk-estimator input.sk-toggleable__control:checked~label.sk-toggleable__label {background-color: #d4ebff;}#sk-container-id-8 div.sk-label input.sk-toggleable__control:checked~label.sk-toggleable__label {background-color: #d4ebff;}#sk-container-id-8 input.sk-hidden--visually {border: 0;clip: rect(1px 1px 1px 1px);clip: rect(1px, 1px, 1px, 1px);height: 1px;margin: -1px;overflow: hidden;padding: 0;position: absolute;width: 1px;}#sk-container-id-8 div.sk-estimator {font-family: monospace;background-color: #f0f8ff;border: 1px dotted black;border-radius: 0.25em;box-sizing: border-box;margin-bottom: 0.5em;}#sk-container-id-8 div.sk-estimator:hover {background-color: #d4ebff;}#sk-container-id-8 div.sk-parallel-item::after {content: \"\";width: 100%;border-bottom: 1px solid gray;flex-grow: 1;}#sk-container-id-8 div.sk-label:hover label.sk-toggleable__label {background-color: #d4ebff;}#sk-container-id-8 div.sk-serial::before {content: \"\";position: absolute;border-left: 1px solid gray;box-sizing: border-box;top: 0;bottom: 0;left: 50%;z-index: 0;}#sk-container-id-8 div.sk-serial {display: flex;flex-direction: column;align-items: center;background-color: white;padding-right: 0.2em;padding-left: 0.2em;position: relative;}#sk-container-id-8 div.sk-item {position: relative;z-index: 1;}#sk-container-id-8 div.sk-parallel {display: flex;align-items: stretch;justify-content: center;background-color: white;position: relative;}#sk-container-id-8 div.sk-item::before, #sk-container-id-8 div.sk-parallel-item::before {content: \"\";position: absolute;border-left: 1px solid gray;box-sizing: border-box;top: 0;bottom: 0;left: 50%;z-index: -1;}#sk-container-id-8 div.sk-parallel-item {display: flex;flex-direction: column;z-index: 1;position: relative;background-color: white;}#sk-container-id-8 div.sk-parallel-item:first-child::after {align-self: flex-end;width: 50%;}#sk-container-id-8 div.sk-parallel-item:last-child::after {align-self: flex-start;width: 50%;}#sk-container-id-8 div.sk-parallel-item:only-child::after {width: 0;}#sk-container-id-8 div.sk-dashed-wrapped {border: 1px dashed gray;margin: 0 0.4em 0.5em 0.4em;box-sizing: border-box;padding-bottom: 0.4em;background-color: white;}#sk-container-id-8 div.sk-label label {font-family: monospace;font-weight: bold;display: inline-block;line-height: 1.2em;}#sk-container-id-8 div.sk-label-container {text-align: center;}#sk-container-id-8 div.sk-container {/* jupyter's `normalize.less` sets `[hidden] { display: none; }` but bootstrap.min.css set `[hidden] { display: none !important; }` so we also need the `!important` here to be able to override the default hidden behavior on the sphinx rendered scikit-learn.org. See: https://github.com/scikit-learn/scikit-learn/issues/21755 */display: inline-block !important;position: relative;}#sk-container-id-8 div.sk-text-repr-fallback {display: none;}</style><div id=\"sk-container-id-8\" class=\"sk-top-container\"><div class=\"sk-text-repr-fallback\"><pre>Ridge(alpha=3, normalize=True, random_state=42)</pre><b>In a Jupyter environment, please rerun this cell to show the HTML representation or trust the notebook. <br />On GitHub, the HTML representation is unable to render, please try loading this page with nbviewer.org.</b></div><div class=\"sk-container\" hidden><div class=\"sk-item\"><div class=\"sk-estimator sk-toggleable\"><input class=\"sk-toggleable__control sk-hidden--visually\" id=\"sk-estimator-id-8\" type=\"checkbox\" checked><label for=\"sk-estimator-id-8\" class=\"sk-toggleable__label sk-toggleable__label-arrow\">Ridge</label><div class=\"sk-toggleable__content\"><pre>Ridge(alpha=3, normalize=True, random_state=42)</pre></div></div></div></div></div>"
      ],
      "text/plain": [
       "Ridge(alpha=3, normalize=True, random_state=42)"
      ]
     },
     "execution_count": 374,
     "metadata": {},
     "output_type": "execute_result"
    }
   ],
   "source": [
    "model = Ridge(alpha=3, normalize=True, random_state=42)\n",
    "model.fit(X_full_train, y_full_train)"
   ]
  },
  {
   "cell_type": "code",
   "execution_count": 375,
   "id": "fe73c493",
   "metadata": {},
   "outputs": [
    {
     "data": {
      "text/plain": [
       "{'ph': 7.16046723080874,\n",
       " 'hardness': 183.0893100379288,\n",
       " 'solids': 6743.346065530401,\n",
       " 'chloramines': 3.8030364235979857,\n",
       " 'sulfate': 277.5990986210596,\n",
       " 'conductivity': 428.0363443504035,\n",
       " 'organic_carbon': 9.79962468961304,\n",
       " 'trihalomethanes': 90.03537367362071,\n",
       " 'turbidity': 3.8848910441472793}"
      ]
     },
     "execution_count": 375,
     "metadata": {},
     "output_type": "execute_result"
    }
   ],
   "source": [
    "record = df_test.iloc[3].to_dict()\n",
    "X = dv.transform([record])\n",
    "record"
   ]
  },
  {
   "cell_type": "code",
   "execution_count": 376,
   "id": "e27d5b3b",
   "metadata": {},
   "outputs": [
    {
     "data": {
      "text/plain": [
       "(0.0, 0.3932473474592964)"
      ]
     },
     "execution_count": 376,
     "metadata": {},
     "output_type": "execute_result"
    }
   ],
   "source": [
    "y_pred = model.predict(X)\n",
    "\n",
    "\n",
    "original_price = y_test[3]\n",
    "pred = y_pred\n",
    "\n",
    "\n",
    "original_price, pred[0]"
   ]
  },
  {
   "cell_type": "markdown",
   "id": "d8dfa89a",
   "metadata": {},
   "source": [
    "<b>SGD REGRESSION<b/>"
   ]
  },
  {
   "cell_type": "code",
   "execution_count": 377,
   "id": "fb03c32a",
   "metadata": {},
   "outputs": [],
   "source": [
    "from sklearn.linear_model import SGDRegressor"
   ]
  },
  {
   "cell_type": "code",
   "execution_count": 378,
   "id": "4723607f",
   "metadata": {},
   "outputs": [
    {
     "name": "stdout",
     "output_type": "stream",
     "text": [
      "RMSE: 1.777009303346633e+17\n"
     ]
    }
   ],
   "source": [
    "model = SGDRegressor(random_state=42)\n",
    "\n",
    "model.fit(X_full_train, y_full_train)\n",
    "y_pred = model.predict(X_val)\n",
    "\n",
    "RMSE = mean_squared_error(y_val, y_pred, squared=False)\n",
    "print(f'RMSE: {RMSE}')\n"
   ]
  },
  {
   "cell_type": "code",
   "execution_count": 379,
   "id": "b93c5587",
   "metadata": {},
   "outputs": [
    {
     "data": {
      "text/plain": [
       "dict_keys(['Linear Regression RMSE=', 'Ridge Regression (alpha 3) RMSE=', 'SGDRegressor RMSE='])"
      ]
     },
     "execution_count": 379,
     "metadata": {},
     "output_type": "execute_result"
    }
   ],
   "source": [
    "key = 'SGDRegressor RMSE='\n",
    "model_RMSE_scores[key] = RMSE\n",
    "model_RMSE_scores.keys()"
   ]
  },
  {
   "cell_type": "code",
   "execution_count": 380,
   "id": "afb36f7f",
   "metadata": {},
   "outputs": [
    {
     "data": {
      "text/plain": [
       "{'ph': 7.16046723080874,\n",
       " 'hardness': 183.0893100379288,\n",
       " 'solids': 6743.346065530401,\n",
       " 'chloramines': 3.8030364235979857,\n",
       " 'sulfate': 277.5990986210596,\n",
       " 'conductivity': 428.0363443504035,\n",
       " 'organic_carbon': 9.79962468961304,\n",
       " 'trihalomethanes': 90.03537367362071,\n",
       " 'turbidity': 3.8848910441472793}"
      ]
     },
     "execution_count": 380,
     "metadata": {},
     "output_type": "execute_result"
    }
   ],
   "source": [
    "record = df_test.iloc[3].to_dict()\n",
    "X = dv.transform([record])\n",
    "record"
   ]
  },
  {
   "cell_type": "code",
   "execution_count": 381,
   "id": "119c16df",
   "metadata": {},
   "outputs": [
    {
     "data": {
      "text/plain": [
       "(0.0, -5.274394016846045e+16)"
      ]
     },
     "execution_count": 381,
     "metadata": {},
     "output_type": "execute_result"
    }
   ],
   "source": [
    "y_pred = model.predict(X)\n",
    "\n",
    "\n",
    "original_price = y_test[3]\n",
    "pred = y_pred\n",
    "\n",
    "\n",
    "original_price, pred[0]"
   ]
  },
  {
   "cell_type": "markdown",
   "id": "8eba31a0",
   "metadata": {},
   "source": [
    "<b>SVR REGRESSION<b/>"
   ]
  },
  {
   "cell_type": "code",
   "execution_count": 382,
   "id": "c3aa9a27",
   "metadata": {},
   "outputs": [],
   "source": [
    "from sklearn.svm import SVR"
   ]
  },
  {
   "cell_type": "code",
   "execution_count": 383,
   "id": "c271fbb4",
   "metadata": {},
   "outputs": [
    {
     "name": "stdout",
     "output_type": "stream",
     "text": [
      "RMSE: 0.5540011794330868\n"
     ]
    }
   ],
   "source": [
    "clf_svr = SVR()\n",
    "clf_svr.fit(X_full_train, y_full_train)\n",
    "y_pred = clf_svr.predict(X_test)\n",
    "\n",
    "RMSE = mean_squared_error(y_test, y_pred, squared=False)\n",
    "print(f'RMSE: {RMSE}')\n",
    "\n"
   ]
  },
  {
   "cell_type": "code",
   "execution_count": 384,
   "id": "ead57beb",
   "metadata": {},
   "outputs": [
    {
     "data": {
      "text/plain": [
       "dict_keys(['Linear Regression RMSE=', 'Ridge Regression (alpha 3) RMSE=', 'SGDRegressor RMSE=', 'SVR RMSE='])"
      ]
     },
     "execution_count": 384,
     "metadata": {},
     "output_type": "execute_result"
    }
   ],
   "source": [
    "key = 'SVR RMSE='\n",
    "model_RMSE_scores[key] = RMSE\n",
    "model_RMSE_scores.keys()"
   ]
  },
  {
   "cell_type": "code",
   "execution_count": 385,
   "id": "6372e107",
   "metadata": {},
   "outputs": [
    {
     "data": {
      "text/plain": [
       "{'ph': 7.16046723080874,\n",
       " 'hardness': 183.0893100379288,\n",
       " 'solids': 6743.346065530401,\n",
       " 'chloramines': 3.8030364235979857,\n",
       " 'sulfate': 277.5990986210596,\n",
       " 'conductivity': 428.0363443504035,\n",
       " 'organic_carbon': 9.79962468961304,\n",
       " 'trihalomethanes': 90.03537367362071,\n",
       " 'turbidity': 3.8848910441472793}"
      ]
     },
     "execution_count": 385,
     "metadata": {},
     "output_type": "execute_result"
    }
   ],
   "source": [
    "record = df_test.iloc[3].to_dict()\n",
    "X = dv.transform([record])\n",
    "record"
   ]
  },
  {
   "cell_type": "code",
   "execution_count": 386,
   "id": "ec861924",
   "metadata": {},
   "outputs": [
    {
     "data": {
      "text/plain": [
       "(0.0, 0.10069562164079843)"
      ]
     },
     "execution_count": 386,
     "metadata": {},
     "output_type": "execute_result"
    }
   ],
   "source": [
    "y_pred = clf_svr.predict(X)\n",
    "\n",
    "\n",
    "original_price = y_test[3]\n",
    "pred = y_pred\n",
    "\n",
    "\n",
    "original_price, pred[0]"
   ]
  },
  {
   "cell_type": "markdown",
   "id": "841b52f4",
   "metadata": {},
   "source": [
    "<b>RANDOM FOREST REGRESSION<b/>"
   ]
  },
  {
   "cell_type": "code",
   "execution_count": 387,
   "id": "26a0221b",
   "metadata": {},
   "outputs": [],
   "source": [
    "from sklearn.ensemble import RandomForestRegressor"
   ]
  },
  {
   "cell_type": "code",
   "execution_count": 388,
   "id": "ecb1071d",
   "metadata": {},
   "outputs": [
    {
     "name": "stdout",
     "output_type": "stream",
     "text": [
      "RMSE: 0.45799037427311645\n"
     ]
    }
   ],
   "source": [
    "rf = RandomForestRegressor(random_state=42)\n",
    "rf.fit(X_full_train,y_full_train)\n",
    "y_pred = rf.predict(X_test)\n",
    "\n",
    "RMSE = mean_squared_error(y_test, y_pred, squared=False)\n",
    "print(f'RMSE: {RMSE}')\n"
   ]
  },
  {
   "cell_type": "code",
   "execution_count": 389,
   "id": "dc866d38",
   "metadata": {},
   "outputs": [
    {
     "data": {
      "text/plain": [
       "dict_keys(['Linear Regression RMSE=', 'Ridge Regression (alpha 3) RMSE=', 'SGDRegressor RMSE=', 'SVR RMSE=', 'RandomForestRegressor RMSE='])"
      ]
     },
     "execution_count": 389,
     "metadata": {},
     "output_type": "execute_result"
    }
   ],
   "source": [
    "key = 'RandomForestRegressor RMSE='\n",
    "model_RMSE_scores[key] = RMSE\n",
    "model_RMSE_scores.keys()"
   ]
  },
  {
   "cell_type": "code",
   "execution_count": 390,
   "id": "36108aae",
   "metadata": {},
   "outputs": [
    {
     "data": {
      "text/plain": [
       "{'ph': 7.16046723080874,\n",
       " 'hardness': 183.0893100379288,\n",
       " 'solids': 6743.346065530401,\n",
       " 'chloramines': 3.8030364235979857,\n",
       " 'sulfate': 277.5990986210596,\n",
       " 'conductivity': 428.0363443504035,\n",
       " 'organic_carbon': 9.79962468961304,\n",
       " 'trihalomethanes': 90.03537367362071,\n",
       " 'turbidity': 3.8848910441472793}"
      ]
     },
     "execution_count": 390,
     "metadata": {},
     "output_type": "execute_result"
    }
   ],
   "source": [
    "record = df_test.iloc[3].to_dict()\n",
    "X = dv.transform([record])\n",
    "record"
   ]
  },
  {
   "cell_type": "code",
   "execution_count": 391,
   "id": "75122bcd",
   "metadata": {},
   "outputs": [
    {
     "data": {
      "text/plain": [
       "(0.0, 0.4)"
      ]
     },
     "execution_count": 391,
     "metadata": {},
     "output_type": "execute_result"
    }
   ],
   "source": [
    "y_pred = rf.predict(X)\n",
    "\n",
    "\n",
    "original_price = y_test[3]\n",
    "pred = y_pred\n",
    "\n",
    "\n",
    "original_price, pred[0]"
   ]
  },
  {
   "cell_type": "markdown",
   "id": "98545337",
   "metadata": {},
   "source": [
    "<b>DECISION TREE REGRESSION<b/>"
   ]
  },
  {
   "cell_type": "code",
   "execution_count": 392,
   "id": "3a093426",
   "metadata": {},
   "outputs": [],
   "source": [
    "from sklearn.tree import DecisionTreeRegressor"
   ]
  },
  {
   "cell_type": "code",
   "execution_count": 393,
   "id": "30510c56",
   "metadata": {},
   "outputs": [
    {
     "name": "stdout",
     "output_type": "stream",
     "text": [
      "RMSE: 0.6331782009405736\n"
     ]
    }
   ],
   "source": [
    "dt = DecisionTreeRegressor(random_state=42)\n",
    "dt.fit(X_full_train,y_full_train)\n",
    "y_pred = dt.predict(X_test)\n",
    "\n",
    "RMSE = mean_squared_error(y_test, y_pred, squared=False)\n",
    "print(f'RMSE: {RMSE}')"
   ]
  },
  {
   "cell_type": "code",
   "execution_count": 394,
   "id": "b33f0f09",
   "metadata": {},
   "outputs": [
    {
     "data": {
      "text/plain": [
       "dict_keys(['Linear Regression RMSE=', 'Ridge Regression (alpha 3) RMSE=', 'SGDRegressor RMSE=', 'SVR RMSE=', 'RandomForestRegressor RMSE=', 'DecisionTreeRegressor RMSE='])"
      ]
     },
     "execution_count": 394,
     "metadata": {},
     "output_type": "execute_result"
    }
   ],
   "source": [
    "key = 'DecisionTreeRegressor RMSE='\n",
    "model_RMSE_scores[key] = RMSE\n",
    "model_RMSE_scores.keys()"
   ]
  },
  {
   "cell_type": "code",
   "execution_count": 395,
   "id": "e8d673a6",
   "metadata": {},
   "outputs": [
    {
     "data": {
      "text/plain": [
       "{'ph': 7.16046723080874,\n",
       " 'hardness': 183.0893100379288,\n",
       " 'solids': 6743.346065530401,\n",
       " 'chloramines': 3.8030364235979857,\n",
       " 'sulfate': 277.5990986210596,\n",
       " 'conductivity': 428.0363443504035,\n",
       " 'organic_carbon': 9.79962468961304,\n",
       " 'trihalomethanes': 90.03537367362071,\n",
       " 'turbidity': 3.8848910441472793}"
      ]
     },
     "execution_count": 395,
     "metadata": {},
     "output_type": "execute_result"
    }
   ],
   "source": [
    "record = df_test.iloc[3].to_dict()\n",
    "X = dv.transform([record])\n",
    "record"
   ]
  },
  {
   "cell_type": "code",
   "execution_count": 396,
   "id": "0e287870",
   "metadata": {},
   "outputs": [
    {
     "data": {
      "text/plain": [
       "(0.0, 0.0)"
      ]
     },
     "execution_count": 396,
     "metadata": {},
     "output_type": "execute_result"
    }
   ],
   "source": [
    "y_pred = dt.predict(X)\n",
    "\n",
    "\n",
    "original_price = y_test[3]\n",
    "pred = y_pred\n",
    "\n",
    "\n",
    "original_price, pred[0]"
   ]
  },
  {
   "cell_type": "markdown",
   "id": "745a75ac",
   "metadata": {},
   "source": [
    "<b>XgBOOST REGRESSION with eta, max_depth, max_child_weight TUNING<b/>"
   ]
  },
  {
   "cell_type": "code",
   "execution_count": 397,
   "id": "071e188e",
   "metadata": {},
   "outputs": [],
   "source": [
    "import xgboost as xgb"
   ]
  },
  {
   "cell_type": "code",
   "execution_count": 398,
   "id": "a506896f",
   "metadata": {},
   "outputs": [
    {
     "data": {
      "text/plain": [
       "array(['chloramines', 'conductivity', 'hardness', 'organic_carbon', 'ph',\n",
       "       'solids', 'sulfate', 'trihalomethanes', 'turbidity'], dtype=object)"
      ]
     },
     "execution_count": 398,
     "metadata": {},
     "output_type": "execute_result"
    }
   ],
   "source": [
    "features = dv.get_feature_names_out ()\n",
    "features"
   ]
  },
  {
   "cell_type": "code",
   "execution_count": 399,
   "id": "affa4196",
   "metadata": {},
   "outputs": [],
   "source": [
    "dtrain = xgb.DMatrix(X_train, label=y_train, feature_names=features)\n",
    "dfulltrain = xgb.DMatrix(X_full_train, label=y_full_train, feature_names=features)\n",
    "dval = xgb.DMatrix(X_val, label=y_val, feature_names=features)\n",
    "dtest = xgb.DMatrix(X_test, label=y_test, feature_names=features)"
   ]
  },
  {
   "cell_type": "code",
   "execution_count": 400,
   "id": "a947c4c6",
   "metadata": {},
   "outputs": [],
   "source": [
    "watchlist = [(dfulltrain, 'train'), (dtest, 'test')]"
   ]
  },
  {
   "cell_type": "code",
   "execution_count": 401,
   "id": "0aedcbce",
   "metadata": {},
   "outputs": [
    {
     "name": "stdout",
     "output_type": "stream",
     "text": [
      "[0]\ttrain-rmse:0.43950\ttest-rmse:0.48451\n",
      "[5]\ttrain-rmse:0.28917\ttest-rmse:0.47348\n",
      "[10]\ttrain-rmse:0.23054\ttest-rmse:0.47901\n",
      "[15]\ttrain-rmse:0.19290\ttest-rmse:0.47825\n",
      "[20]\ttrain-rmse:0.14194\ttest-rmse:0.48237\n",
      "[25]\ttrain-rmse:0.10986\ttest-rmse:0.48350\n",
      "[30]\ttrain-rmse:0.09343\ttest-rmse:0.48429\n",
      "[35]\ttrain-rmse:0.08012\ttest-rmse:0.48564\n",
      "[40]\ttrain-rmse:0.06577\ttest-rmse:0.48764\n",
      "[45]\ttrain-rmse:0.05727\ttest-rmse:0.48746\n",
      "[50]\ttrain-rmse:0.04357\ttest-rmse:0.48794\n",
      "[55]\ttrain-rmse:0.03575\ttest-rmse:0.48822\n",
      "[60]\ttrain-rmse:0.02662\ttest-rmse:0.48861\n",
      "[65]\ttrain-rmse:0.02250\ttest-rmse:0.48853\n",
      "[70]\ttrain-rmse:0.01906\ttest-rmse:0.48853\n",
      "[75]\ttrain-rmse:0.01493\ttest-rmse:0.48874\n",
      "[80]\ttrain-rmse:0.01235\ttest-rmse:0.48871\n",
      "[85]\ttrain-rmse:0.00953\ttest-rmse:0.48867\n",
      "[90]\ttrain-rmse:0.00767\ttest-rmse:0.48867\n",
      "[95]\ttrain-rmse:0.00675\ttest-rmse:0.48863\n",
      "[100]\ttrain-rmse:0.00568\ttest-rmse:0.48860\n",
      "[105]\ttrain-rmse:0.00464\ttest-rmse:0.48861\n",
      "[110]\ttrain-rmse:0.00375\ttest-rmse:0.48865\n",
      "[115]\ttrain-rmse:0.00306\ttest-rmse:0.48867\n",
      "[120]\ttrain-rmse:0.00250\ttest-rmse:0.48868\n",
      "[125]\ttrain-rmse:0.00211\ttest-rmse:0.48864\n",
      "[130]\ttrain-rmse:0.00187\ttest-rmse:0.48866\n",
      "[135]\ttrain-rmse:0.00153\ttest-rmse:0.48864\n",
      "[140]\ttrain-rmse:0.00133\ttest-rmse:0.48864\n",
      "[145]\ttrain-rmse:0.00124\ttest-rmse:0.48865\n",
      "[150]\ttrain-rmse:0.00124\ttest-rmse:0.48865\n",
      "[155]\ttrain-rmse:0.00124\ttest-rmse:0.48865\n",
      "[160]\ttrain-rmse:0.00124\ttest-rmse:0.48865\n",
      "[165]\ttrain-rmse:0.00124\ttest-rmse:0.48865\n",
      "[170]\ttrain-rmse:0.00124\ttest-rmse:0.48865\n",
      "[175]\ttrain-rmse:0.00124\ttest-rmse:0.48865\n",
      "[180]\ttrain-rmse:0.00124\ttest-rmse:0.48865\n",
      "[185]\ttrain-rmse:0.00124\ttest-rmse:0.48865\n",
      "[190]\ttrain-rmse:0.00124\ttest-rmse:0.48865\n",
      "[195]\ttrain-rmse:0.00124\ttest-rmse:0.48865\n",
      "[199]\ttrain-rmse:0.00124\ttest-rmse:0.48865\n"
     ]
    }
   ],
   "source": [
    "xgb_params = {\n",
    "    'eta': 0.3,\n",
    "    'max_depth': 10,\n",
    "    'min_child_weight': 1,\n",
    "    'objective': 'reg:squarederror',\n",
    "    'nthread': 8,\n",
    "    'seed': 1,\n",
    "    'verbosity': 1,\n",
    "}\n",
    "\n",
    "model = xgb.train(xgb_params, dfulltrain, num_boost_round=200, evals=watchlist, verbose_eval=5)"
   ]
  },
  {
   "cell_type": "markdown",
   "id": "00a6d6c7",
   "metadata": {},
   "source": [
    "<b>10 Rounds has the best RMSE to start with</b>"
   ]
  },
  {
   "cell_type": "code",
   "execution_count": 402,
   "id": "c1a323a5",
   "metadata": {},
   "outputs": [
    {
     "data": {
      "text/plain": [
       "0.4886517979865906"
      ]
     },
     "execution_count": 402,
     "metadata": {},
     "output_type": "execute_result"
    }
   ],
   "source": [
    "y_pred = model.predict(dtest)\n",
    "RMSE = mean_squared_error(y_test, y_pred, squared=False)\n",
    "RMSE"
   ]
  },
  {
   "cell_type": "code",
   "execution_count": 403,
   "id": "73a109a3",
   "metadata": {},
   "outputs": [
    {
     "data": {
      "text/plain": [
       "{'ph': 7.16046723080874,\n",
       " 'hardness': 183.0893100379288,\n",
       " 'solids': 6743.346065530401,\n",
       " 'chloramines': 3.8030364235979857,\n",
       " 'sulfate': 277.5990986210596,\n",
       " 'conductivity': 428.0363443504035,\n",
       " 'organic_carbon': 9.79962468961304,\n",
       " 'trihalomethanes': 90.03537367362071,\n",
       " 'turbidity': 3.8848910441472793}"
      ]
     },
     "execution_count": 403,
     "metadata": {},
     "output_type": "execute_result"
    }
   ],
   "source": [
    "record = df_test.iloc[3].to_dict()\n",
    "X = dv.transform([record])\n",
    "dcheck = xgb.DMatrix(X, feature_names=features)\n",
    "record"
   ]
  },
  {
   "cell_type": "code",
   "execution_count": 404,
   "id": "86c61cfa",
   "metadata": {},
   "outputs": [
    {
     "data": {
      "text/plain": [
       "(0.0, -0.021423642)"
      ]
     },
     "execution_count": 404,
     "metadata": {},
     "output_type": "execute_result"
    }
   ],
   "source": [
    "y_pred = model.predict(dcheck)\n",
    "\n",
    "\n",
    "original_price = y_test[3]\n",
    "pred = y_pred\n",
    "\n",
    "original_price, pred[0]"
   ]
  },
  {
   "cell_type": "markdown",
   "id": "a0b84ce4",
   "metadata": {},
   "source": [
    "<b>PARAMETERS TUNING</b>"
   ]
  },
  {
   "cell_type": "code",
   "execution_count": 405,
   "id": "a4bee4c5",
   "metadata": {},
   "outputs": [],
   "source": [
    "def parse_xgb_output(output):\n",
    "    results = []\n",
    "    \n",
    "    for line in output.stdout.strip().split('\\n'):\n",
    "        it_line, train_line, val_line = line.split('\\t')\n",
    "        \n",
    "        it = int(it_line.strip('[]'))\n",
    "        train = float(train_line.split(':')[1])\n",
    "        val = float(val_line.split(':')[1])\n",
    "        \n",
    "        results.append((it, train, val))\n",
    "    \n",
    "    columns = ['num_iter', 'train_rmse', 'val_rmse']\n",
    "    df_results = pd.DataFrame(results, columns=columns)\n",
    "    return df_results"
   ]
  },
  {
   "cell_type": "markdown",
   "id": "e4f410a4",
   "metadata": {},
   "source": [
    "<b>ETA TUNING with 10 Rounds<b/>"
   ]
  },
  {
   "cell_type": "code",
   "execution_count": 406,
   "id": "765d0ffd",
   "metadata": {},
   "outputs": [],
   "source": [
    "scores = {}"
   ]
  },
  {
   "cell_type": "code",
   "execution_count": 407,
   "id": "30d9f130",
   "metadata": {},
   "outputs": [],
   "source": [
    "%%capture output\n",
    "\n",
    "xgb_params = {\n",
    "    'eta': 1.0,\n",
    "    'max_depth': 10,\n",
    "    'min_child_weight': 1,\n",
    "    'objective': 'reg:squarederror',\n",
    "    'nthread': 8,\n",
    "    'seed': 1,\n",
    "    'verbosity': 1,\n",
    "}\n",
    "\n",
    "model = xgb.train(xgb_params, dfulltrain, num_boost_round=10, evals=watchlist, verbose_eval=5)"
   ]
  },
  {
   "cell_type": "code",
   "execution_count": 408,
   "id": "ace1ed09",
   "metadata": {},
   "outputs": [
    {
     "data": {
      "text/plain": [
       "dict_keys(['eta=1.0'])"
      ]
     },
     "execution_count": 408,
     "metadata": {},
     "output_type": "execute_result"
    }
   ],
   "source": [
    "key = 'eta=%s' % (xgb_params['eta'])\n",
    "scores[key] = parse_xgb_output(output)\n",
    "scores.keys()"
   ]
  },
  {
   "cell_type": "code",
   "execution_count": 409,
   "id": "1497bffc",
   "metadata": {},
   "outputs": [
    {
     "data": {
      "text/plain": [
       "<matplotlib.legend.Legend at 0x6a51bc0040>"
      ]
     },
     "execution_count": 409,
     "metadata": {},
     "output_type": "execute_result"
    },
    {
     "data": {
      "image/png": "[encoded data removed]",
      "text/plain": [
       "<Figure size 640x480 with 1 Axes>"
      ]
     },
     "metadata": {},
     "output_type": "display_data"
    }
   ],
   "source": [
    "for max_depth, df_score in scores.items():\n",
    "    plt.plot(df_score.num_iter, df_score.val_rmse, label=max_depth)\n",
    "\n",
    "plt.legend()\n"
   ]
  },
  {
   "cell_type": "code",
   "execution_count": 410,
   "id": "68e84fa5",
   "metadata": {},
   "outputs": [],
   "source": [
    "# etas = ['eta=0.3', 'eta=1.0', 'eta=0.1', 'eta=0.05', 'eta=0.01']\n",
    "# for eta in etas:\n",
    "#     df_score = scores[eta]\n",
    "#     plt.plot(df_score.num_iter, df_score.val_rmse, label=eta)\n",
    "\n",
    "# plt.legend()"
   ]
  },
  {
   "cell_type": "markdown",
   "id": "c2d79a6c",
   "metadata": {},
   "source": [
    "<b>eta=0.3 in 10 Rounds has the best RMSE<b/>"
   ]
  },
  {
   "cell_type": "markdown",
   "id": "464c7508",
   "metadata": {},
   "source": [
    "<b>max_weight TUNING<b/>"
   ]
  },
  {
   "cell_type": "code",
   "execution_count": 411,
   "id": "7a920970",
   "metadata": {},
   "outputs": [],
   "source": [
    "scores = {}"
   ]
  },
  {
   "cell_type": "code",
   "execution_count": 412,
   "id": "a5454b47",
   "metadata": {},
   "outputs": [],
   "source": [
    "%%capture output\n",
    "\n",
    "xgb_params = {\n",
    "    'eta': 0.3,\n",
    "    'max_depth': 90,\n",
    "    'min_child_weight': 1,\n",
    "    'objective': 'reg:squarederror',\n",
    "    'nthread': 8,\n",
    "    'seed': 1,\n",
    "    'verbosity': 1,\n",
    "}\n",
    "\n",
    "model = xgb.train(xgb_params, dfulltrain, num_boost_round=10, evals=watchlist, verbose_eval=5)"
   ]
  },
  {
   "cell_type": "code",
   "execution_count": 413,
   "id": "77504948",
   "metadata": {},
   "outputs": [
    {
     "data": {
      "text/plain": [
       "dict_keys(['max_depth=90'])"
      ]
     },
     "execution_count": 413,
     "metadata": {},
     "output_type": "execute_result"
    }
   ],
   "source": [
    "key = 'max_depth=%s' % (xgb_params['max_depth'])\n",
    "scores[key] = parse_xgb_output(output)\n",
    "scores.keys()"
   ]
  },
  {
   "cell_type": "code",
   "execution_count": 414,
   "id": "c93ca77f",
   "metadata": {},
   "outputs": [
    {
     "data": {
      "text/plain": [
       "<matplotlib.legend.Legend at 0x6a54187d30>"
      ]
     },
     "execution_count": 414,
     "metadata": {},
     "output_type": "execute_result"
    },
    {
     "data": {
      "image/png": "[encoded data removed]",
      "text/plain": [
       "<Figure size 640x480 with 1 Axes>"
      ]
     },
     "metadata": {},
     "output_type": "display_data"
    }
   ],
   "source": [
    "for max_depth, df_score in scores.items():\n",
    "    plt.plot(df_score.num_iter, df_score.val_rmse, label=max_depth)\n",
    "\n",
    "    \n",
    "plt.legend()"
   ]
  },
  {
   "cell_type": "markdown",
   "id": "e1776644",
   "metadata": {},
   "source": [
    "<b>max_weight=1 in 10 Rounds has the best RMSE<b/>"
   ]
  },
  {
   "cell_type": "markdown",
   "id": "98d97cfd",
   "metadata": {},
   "source": [
    "<b>min_child_weight TUNING<b/>"
   ]
  },
  {
   "cell_type": "code",
   "execution_count": 415,
   "id": "83f0bc0c",
   "metadata": {},
   "outputs": [],
   "source": [
    "scores = {}"
   ]
  },
  {
   "cell_type": "code",
   "execution_count": 416,
   "id": "caeeaf6a",
   "metadata": {},
   "outputs": [],
   "source": [
    "%%capture output\n",
    "\n",
    "xgb_params = {\n",
    "    'eta': 0.3,\n",
    "    'max_depth': 1,\n",
    "    'min_child_weight': 90,\n",
    "    'objective': 'reg:squarederror',\n",
    "    'nthread': 8,\n",
    "    'seed': 1,\n",
    "    'verbosity': 1,\n",
    "}\n",
    "\n",
    "model = xgb.train(xgb_params, dfulltrain, num_boost_round=10, evals=watchlist, verbose_eval=5)"
   ]
  },
  {
   "cell_type": "code",
   "execution_count": 417,
   "id": "61599f0f",
   "metadata": {},
   "outputs": [
    {
     "data": {
      "text/plain": [
       "dict_keys(['min_child_weight=90'])"
      ]
     },
     "execution_count": 417,
     "metadata": {},
     "output_type": "execute_result"
    }
   ],
   "source": [
    "key = 'min_child_weight=%s' % (xgb_params['min_child_weight'])\n",
    "scores[key] = parse_xgb_output(output)\n",
    "scores.keys()"
   ]
  },
  {
   "cell_type": "code",
   "execution_count": 418,
   "id": "e870a5ca",
   "metadata": {},
   "outputs": [
    {
     "data": {
      "text/plain": [
       "<matplotlib.legend.Legend at 0x6a4e994310>"
      ]
     },
     "execution_count": 418,
     "metadata": {},
     "output_type": "execute_result"
    },
    {
     "data": {
      "image/png": "[encoded data removed]",
      "text/plain": [
       "<Figure size 640x480 with 1 Axes>"
      ]
     },
     "metadata": {},
     "output_type": "display_data"
    }
   ],
   "source": [
    "for min_child_weight, df_score in scores.items():\n",
    "    plt.plot(df_score.num_iter, df_score.val_rmse, label=min_child_weight)\n",
    "\n",
    "plt.legend()"
   ]
  },
  {
   "cell_type": "markdown",
   "id": "e76c830e",
   "metadata": {},
   "source": [
    "<b>min_child_weight=10 in 10 Rounds has the best RMSE<b/>"
   ]
  },
  {
   "cell_type": "markdown",
   "id": "d755c98d",
   "metadata": {},
   "source": [
    "<b>Train the model with the best parameters</b>"
   ]
  },
  {
   "cell_type": "code",
   "execution_count": 419,
   "id": "c0029de9",
   "metadata": {},
   "outputs": [],
   "source": [
    "xgb_params = {\n",
    "    'eta': 0.3,\n",
    "    'max_depth': 1,\n",
    "    'min_child_weight': 10,\n",
    "    'objective': 'reg:squarederror',\n",
    "    'nthread': 8,\n",
    "    'seed': 1,\n",
    "    'verbosity': 1,\n",
    "}\n",
    "\n",
    "model = xgb.train(xgb_params, dfulltrain, num_boost_round=10)"
   ]
  },
  {
   "cell_type": "code",
   "execution_count": 420,
   "id": "a3fbecc3",
   "metadata": {},
   "outputs": [
    {
     "data": {
      "text/plain": [
       "0.4795955086004447"
      ]
     },
     "execution_count": 420,
     "metadata": {},
     "output_type": "execute_result"
    }
   ],
   "source": [
    "y_pred = model.predict(dtest)\n",
    "RMSE = mean_squared_error(y_test, y_pred, squared=False)\n",
    "RMSE"
   ]
  },
  {
   "cell_type": "code",
   "execution_count": 421,
   "id": "88304009",
   "metadata": {},
   "outputs": [
    {
     "data": {
      "text/plain": [
       "dict_keys(['Linear Regression RMSE=', 'Ridge Regression (alpha 3) RMSE=', 'SGDRegressor RMSE=', 'SVR RMSE=', 'RandomForestRegressor RMSE=', 'DecisionTreeRegressor RMSE=', 'xgboostRegressor RMSE='])"
      ]
     },
     "execution_count": 421,
     "metadata": {},
     "output_type": "execute_result"
    }
   ],
   "source": [
    "key = 'xgboostRegressor RMSE='\n",
    "model_RMSE_scores[key] = RMSE\n",
    "model_RMSE_scores.keys()"
   ]
  },
  {
   "cell_type": "code",
   "execution_count": 422,
   "id": "18f822ad",
   "metadata": {},
   "outputs": [],
   "source": [
    "record = df_test.iloc[3].to_dict()\n",
    "X = dv.transform([record])\n",
    "dcheck = xgb.DMatrix(X, feature_names=features)"
   ]
  },
  {
   "cell_type": "code",
   "execution_count": 423,
   "id": "9fac3ca3",
   "metadata": {},
   "outputs": [
    {
     "data": {
      "text/plain": [
       "(0.0, 0.447398)"
      ]
     },
     "execution_count": 423,
     "metadata": {},
     "output_type": "execute_result"
    }
   ],
   "source": [
    "y_pred = model.predict(dcheck)\n",
    "\n",
    "\n",
    "original_price = y_test[3]\n",
    "pred = y_pred\n",
    "\n",
    "original_price, pred[0]"
   ]
  },
  {
   "cell_type": "code",
   "execution_count": 424,
   "id": "3273cb10",
   "metadata": {},
   "outputs": [
    {
     "data": {
      "text/plain": [
       "{'Linear Regression RMSE=': 0.4836550843248386,\n",
       " 'Ridge Regression (alpha 3) RMSE=': 0.48378218440309473,\n",
       " 'SGDRegressor RMSE=': 1.777009303346633e+17,\n",
       " 'SVR RMSE=': 0.5540011794330868,\n",
       " 'RandomForestRegressor RMSE=': 0.45799037427311645,\n",
       " 'DecisionTreeRegressor RMSE=': 0.6331782009405736,\n",
       " 'xgboostRegressor RMSE=': 0.4795955086004447}"
      ]
     },
     "execution_count": 424,
     "metadata": {},
     "output_type": "execute_result"
    }
   ],
   "source": [
    "model_RMSE_scores"
   ]
  },
  {
   "cell_type": "markdown",
   "id": "6eada1b5",
   "metadata": {},
   "source": [
    "<h1>4. Exporting notebook to script</h1>\n",
    "\n",
    "We found that Random Forest produces the best results."
   ]
  },
  {
   "cell_type": "markdown",
   "id": "8b417a25",
   "metadata": {},
   "source": [
    "<b>model.bin export data</b>"
   ]
  },
  {
   "cell_type": "code",
   "execution_count": 425,
   "id": "9f57b458",
   "metadata": {},
   "outputs": [],
   "source": [
    "import pickle"
   ]
  },
  {
   "cell_type": "code",
   "execution_count": 426,
   "id": "0d40ef9d",
   "metadata": {},
   "outputs": [],
   "source": [
    "model = rf"
   ]
  },
  {
   "cell_type": "code",
   "execution_count": 427,
   "id": "a1e0317b",
   "metadata": {},
   "outputs": [],
   "source": [
    "output_file = f'model.bin'"
   ]
  },
  {
   "cell_type": "code",
   "execution_count": 428,
   "id": "9bcd2cc4",
   "metadata": {},
   "outputs": [
    {
     "name": "stdout",
     "output_type": "stream",
     "text": [
      "The Model is saved to model.bin\n"
     ]
    }
   ],
   "source": [
    "with open(output_file, 'wb') as f_out:\n",
    "    pickle.dump((dv,model), f_out)\n",
    "\n",
    "print(f'The Model is saved to {output_file}')"
   ]
  }
 ],
 "metadata": {
  "kernelspec": {
   "display_name": "Python 3.9.13",
   "language": "python",
   "name": "python3"
  },
  "language_info": {
   "codemirror_mode": {
    "name": "ipython",
    "version": 3
   },
   "file_extension": ".py",
   "mimetype": "text/x-python",
   "name": "python",
   "nbconvert_exporter": "python",
   "pygments_lexer": "ipython3",
   "version": "3.9.13"
  },
  "vscode": {
   "interpreter": {
    "hash": "40a089c9e2876b59c14a032651a8ac874d98378ee6e08a1496bf9fa8d864ff0d"
   }
  }
 },
 "nbformat": 4,
 "nbformat_minor": 5
}
